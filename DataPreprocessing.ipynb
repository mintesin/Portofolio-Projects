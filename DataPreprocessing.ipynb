{
  "nbformat": 4,
  "nbformat_minor": 0,
  "metadata": {
    "colab": {
      "name": "datapreprocessing.ipynb",
      "provenance": [],
      "collapsed_sections": []
    },
    "kernelspec": {
      "name": "python3",
      "display_name": "Python 3"
    }
  },
  "cells": [
    {
      "cell_type": "code",
      "metadata": {
        "id": "86RZNhrKGhmT"
      },
      "source": [
        "#use for data manipulation\n",
        "import os\n",
        "import csv\n",
        "import pandas as pd\n",
        "import numpy as np\n",
        "from datetime import datetime"
      ],
      "execution_count": null,
      "outputs": []
    },
    {
      "cell_type": "code",
      "metadata": {
        "id": "-4Dx3QbtHavK"
      },
      "source": [
        "#Used for ploting \n",
        "import matplotlib.pyplot as plt\n",
        "import matplotlib as mpl\n",
        "import matplotlib.patches as mpaches\n",
        "from matplotlib import cm\n",
        "import seaborn as sns\n",
        "import plotly\n"
      ],
      "execution_count": null,
      "outputs": []
    },
    {
      "cell_type": "code",
      "metadata": {
        "id": "Kssts6BXITDu"
      },
      "source": [
        "\"\"\"this one is used for the geographic mapping\"\"\"\n",
        "\n",
        "#from matplotlib.colors import rgb2hex\n",
        "#from matplotlib.patches import Polygon\n",
        "import math"
      ],
      "execution_count": null,
      "outputs": []
    },
    {
      "cell_type": "code",
      "metadata": {
        "id": "8HbeZiGWLq3e"
      },
      "source": [
        "\n",
        "data = {'Place': ['Amsterdam', 'Barcelona', 'Paris', 'Geneva', 'Munich', 'Athens', 'Vienna'],\n",
        "        'Temp_Jan': [3.4, 11.8, 5.0, 1.5, 0.3, 9.9, 1.2],\n",
        "        'Temp_Jul': [17.6, 25.7, 20.6, 20.2, 19.4, 28.5, 19.1],\n",
        "        'Language': ['Dutch', 'Catalan and Spanish', 'French', 'French', 'German', 'Greek', 'German'],\n",
        "        'Altitude': [-2, 12, np.nan, 375, 520, 338, 542],\n",
        "        'MeasureDate':[np.nan, np.nan, '01-01-2013', '01-12-2015', '31-12-2015', np.nan, '01-01-2017'],\n",
        "        'Population': [1351587,4740000,10601122,198072,1450381, 3090508, 2600000]}\n",
        "df1 = pd.DataFrame(data, columns = ['Place', 'Temp_Jan', 'Temp_Jul', 'Language', 'Altitude','MeasureDate', 'Population'])"
      ],
      "execution_count": null,
      "outputs": []
    },
    {
      "cell_type": "code",
      "metadata": {
        "colab": {
          "base_uri": "https://localhost:8080/",
          "height": 204
        },
        "id": "iUQOOyA3PANJ",
        "outputId": "edc81ded-cb73-45b8-ba37-380b93a5114b"
      },
      "source": [
        "df1.head()"
      ],
      "execution_count": null,
      "outputs": [
        {
          "output_type": "execute_result",
          "data": {
            "text/html": [
              "<div>\n",
              "<style scoped>\n",
              "    .dataframe tbody tr th:only-of-type {\n",
              "        vertical-align: middle;\n",
              "    }\n",
              "\n",
              "    .dataframe tbody tr th {\n",
              "        vertical-align: top;\n",
              "    }\n",
              "\n",
              "    .dataframe thead th {\n",
              "        text-align: right;\n",
              "    }\n",
              "</style>\n",
              "<table border=\"1\" class=\"dataframe\">\n",
              "  <thead>\n",
              "    <tr style=\"text-align: right;\">\n",
              "      <th></th>\n",
              "      <th>Place</th>\n",
              "      <th>Temp_Jan</th>\n",
              "      <th>Temp_Jul</th>\n",
              "      <th>Language</th>\n",
              "      <th>Altitude</th>\n",
              "      <th>MeasureDate</th>\n",
              "      <th>Population</th>\n",
              "    </tr>\n",
              "  </thead>\n",
              "  <tbody>\n",
              "    <tr>\n",
              "      <th>0</th>\n",
              "      <td>Amsterdam</td>\n",
              "      <td>3.4</td>\n",
              "      <td>17.6</td>\n",
              "      <td>Dutch</td>\n",
              "      <td>-2.0</td>\n",
              "      <td>NaN</td>\n",
              "      <td>1351587</td>\n",
              "    </tr>\n",
              "    <tr>\n",
              "      <th>1</th>\n",
              "      <td>Barcelona</td>\n",
              "      <td>11.8</td>\n",
              "      <td>25.7</td>\n",
              "      <td>Catalan and Spanish</td>\n",
              "      <td>12.0</td>\n",
              "      <td>NaN</td>\n",
              "      <td>4740000</td>\n",
              "    </tr>\n",
              "    <tr>\n",
              "      <th>2</th>\n",
              "      <td>Paris</td>\n",
              "      <td>5.0</td>\n",
              "      <td>20.6</td>\n",
              "      <td>French</td>\n",
              "      <td>NaN</td>\n",
              "      <td>01-01-2013</td>\n",
              "      <td>10601122</td>\n",
              "    </tr>\n",
              "    <tr>\n",
              "      <th>3</th>\n",
              "      <td>Geneva</td>\n",
              "      <td>1.5</td>\n",
              "      <td>20.2</td>\n",
              "      <td>French</td>\n",
              "      <td>375.0</td>\n",
              "      <td>01-12-2015</td>\n",
              "      <td>198072</td>\n",
              "    </tr>\n",
              "    <tr>\n",
              "      <th>4</th>\n",
              "      <td>Munich</td>\n",
              "      <td>0.3</td>\n",
              "      <td>19.4</td>\n",
              "      <td>German</td>\n",
              "      <td>520.0</td>\n",
              "      <td>31-12-2015</td>\n",
              "      <td>1450381</td>\n",
              "    </tr>\n",
              "  </tbody>\n",
              "</table>\n",
              "</div>"
            ],
            "text/plain": [
              "       Place  Temp_Jan  Temp_Jul  ... Altitude  MeasureDate Population\n",
              "0  Amsterdam       3.4      17.6  ...     -2.0          NaN    1351587\n",
              "1  Barcelona      11.8      25.7  ...     12.0          NaN    4740000\n",
              "2      Paris       5.0      20.6  ...      NaN   01-01-2013   10601122\n",
              "3     Geneva       1.5      20.2  ...    375.0   01-12-2015     198072\n",
              "4     Munich       0.3      19.4  ...    520.0   31-12-2015    1450381\n",
              "\n",
              "[5 rows x 7 columns]"
            ]
          },
          "metadata": {},
          "execution_count": 6
        }
      ]
    },
    {
      "cell_type": "code",
      "metadata": {
        "colab": {
          "base_uri": "https://localhost:8080/",
          "height": 204
        },
        "id": "-cXO9iL3PXyc",
        "outputId": "b7563a98-538c-4afe-c108-a87eed3a8eb9"
      },
      "source": [
        "df1.tail()"
      ],
      "execution_count": null,
      "outputs": [
        {
          "output_type": "execute_result",
          "data": {
            "text/html": [
              "<div>\n",
              "<style scoped>\n",
              "    .dataframe tbody tr th:only-of-type {\n",
              "        vertical-align: middle;\n",
              "    }\n",
              "\n",
              "    .dataframe tbody tr th {\n",
              "        vertical-align: top;\n",
              "    }\n",
              "\n",
              "    .dataframe thead th {\n",
              "        text-align: right;\n",
              "    }\n",
              "</style>\n",
              "<table border=\"1\" class=\"dataframe\">\n",
              "  <thead>\n",
              "    <tr style=\"text-align: right;\">\n",
              "      <th></th>\n",
              "      <th>Place</th>\n",
              "      <th>Temp_Jan</th>\n",
              "      <th>Temp_Jul</th>\n",
              "      <th>Language</th>\n",
              "      <th>Altitude</th>\n",
              "      <th>MeasureDate</th>\n",
              "      <th>Population</th>\n",
              "    </tr>\n",
              "  </thead>\n",
              "  <tbody>\n",
              "    <tr>\n",
              "      <th>2</th>\n",
              "      <td>Paris</td>\n",
              "      <td>5.0</td>\n",
              "      <td>20.6</td>\n",
              "      <td>French</td>\n",
              "      <td>NaN</td>\n",
              "      <td>01-01-2013</td>\n",
              "      <td>10601122</td>\n",
              "    </tr>\n",
              "    <tr>\n",
              "      <th>3</th>\n",
              "      <td>Geneva</td>\n",
              "      <td>1.5</td>\n",
              "      <td>20.2</td>\n",
              "      <td>French</td>\n",
              "      <td>375.0</td>\n",
              "      <td>01-12-2015</td>\n",
              "      <td>198072</td>\n",
              "    </tr>\n",
              "    <tr>\n",
              "      <th>4</th>\n",
              "      <td>Munich</td>\n",
              "      <td>0.3</td>\n",
              "      <td>19.4</td>\n",
              "      <td>German</td>\n",
              "      <td>520.0</td>\n",
              "      <td>31-12-2015</td>\n",
              "      <td>1450381</td>\n",
              "    </tr>\n",
              "    <tr>\n",
              "      <th>5</th>\n",
              "      <td>Athens</td>\n",
              "      <td>9.9</td>\n",
              "      <td>28.5</td>\n",
              "      <td>Greek</td>\n",
              "      <td>338.0</td>\n",
              "      <td>NaN</td>\n",
              "      <td>3090508</td>\n",
              "    </tr>\n",
              "    <tr>\n",
              "      <th>6</th>\n",
              "      <td>Vienna</td>\n",
              "      <td>1.2</td>\n",
              "      <td>19.1</td>\n",
              "      <td>German</td>\n",
              "      <td>542.0</td>\n",
              "      <td>01-01-2017</td>\n",
              "      <td>2600000</td>\n",
              "    </tr>\n",
              "  </tbody>\n",
              "</table>\n",
              "</div>"
            ],
            "text/plain": [
              "    Place  Temp_Jan  Temp_Jul Language  Altitude MeasureDate  Population\n",
              "2   Paris       5.0      20.6   French       NaN  01-01-2013    10601122\n",
              "3  Geneva       1.5      20.2   French     375.0  01-12-2015      198072\n",
              "4  Munich       0.3      19.4   German     520.0  31-12-2015     1450381\n",
              "5  Athens       9.9      28.5    Greek     338.0         NaN     3090508\n",
              "6  Vienna       1.2      19.1   German     542.0  01-01-2017     2600000"
            ]
          },
          "metadata": {},
          "execution_count": 7
        }
      ]
    },
    {
      "cell_type": "code",
      "metadata": {
        "colab": {
          "base_uri": "https://localhost:8080/"
        },
        "id": "KLxTm_74PqME",
        "outputId": "b698a697-8065-4d3f-abe8-604512ca8d94"
      },
      "source": [
        "\"To select any number of the column\"\n",
        "df1['Temp_Jan'].head(4)"
      ],
      "execution_count": null,
      "outputs": [
        {
          "output_type": "execute_result",
          "data": {
            "text/plain": [
              "0     3.4\n",
              "1    11.8\n",
              "2     5.0\n",
              "3     1.5\n",
              "Name: Temp_Jan, dtype: float64"
            ]
          },
          "metadata": {},
          "execution_count": 8
        }
      ]
    },
    {
      "cell_type": "code",
      "metadata": {
        "colab": {
          "base_uri": "https://localhost:8080/",
          "height": 173
        },
        "id": "s2_R1p21QAec",
        "outputId": "70c3adb2-ecc2-4c0f-b51f-9c673e69ac66"
      },
      "source": [
        "\"selecting muyltiple column\"\n",
        "df1.iloc[:,1:3].head(4)"
      ],
      "execution_count": null,
      "outputs": [
        {
          "output_type": "execute_result",
          "data": {
            "text/html": [
              "<div>\n",
              "<style scoped>\n",
              "    .dataframe tbody tr th:only-of-type {\n",
              "        vertical-align: middle;\n",
              "    }\n",
              "\n",
              "    .dataframe tbody tr th {\n",
              "        vertical-align: top;\n",
              "    }\n",
              "\n",
              "    .dataframe thead th {\n",
              "        text-align: right;\n",
              "    }\n",
              "</style>\n",
              "<table border=\"1\" class=\"dataframe\">\n",
              "  <thead>\n",
              "    <tr style=\"text-align: right;\">\n",
              "      <th></th>\n",
              "      <th>Temp_Jan</th>\n",
              "      <th>Temp_Jul</th>\n",
              "    </tr>\n",
              "  </thead>\n",
              "  <tbody>\n",
              "    <tr>\n",
              "      <th>0</th>\n",
              "      <td>3.4</td>\n",
              "      <td>17.6</td>\n",
              "    </tr>\n",
              "    <tr>\n",
              "      <th>1</th>\n",
              "      <td>11.8</td>\n",
              "      <td>25.7</td>\n",
              "    </tr>\n",
              "    <tr>\n",
              "      <th>2</th>\n",
              "      <td>5.0</td>\n",
              "      <td>20.6</td>\n",
              "    </tr>\n",
              "    <tr>\n",
              "      <th>3</th>\n",
              "      <td>1.5</td>\n",
              "      <td>20.2</td>\n",
              "    </tr>\n",
              "  </tbody>\n",
              "</table>\n",
              "</div>"
            ],
            "text/plain": [
              "   Temp_Jan  Temp_Jul\n",
              "0       3.4      17.6\n",
              "1      11.8      25.7\n",
              "2       5.0      20.6\n",
              "3       1.5      20.2"
            ]
          },
          "metadata": {},
          "execution_count": 9
        }
      ]
    },
    {
      "cell_type": "code",
      "metadata": {
        "colab": {
          "base_uri": "https://localhost:8080/",
          "height": 111
        },
        "id": "5Q3d06rCQNtd",
        "outputId": "57c6838d-609e-4f78-8b77-3e3f5ed3a09e"
      },
      "source": [
        "\"limiting the number of the rows\"\n",
        "df1.iloc[1:3:,1:3].head(4)"
      ],
      "execution_count": null,
      "outputs": [
        {
          "output_type": "execute_result",
          "data": {
            "text/html": [
              "<div>\n",
              "<style scoped>\n",
              "    .dataframe tbody tr th:only-of-type {\n",
              "        vertical-align: middle;\n",
              "    }\n",
              "\n",
              "    .dataframe tbody tr th {\n",
              "        vertical-align: top;\n",
              "    }\n",
              "\n",
              "    .dataframe thead th {\n",
              "        text-align: right;\n",
              "    }\n",
              "</style>\n",
              "<table border=\"1\" class=\"dataframe\">\n",
              "  <thead>\n",
              "    <tr style=\"text-align: right;\">\n",
              "      <th></th>\n",
              "      <th>Temp_Jan</th>\n",
              "      <th>Temp_Jul</th>\n",
              "    </tr>\n",
              "  </thead>\n",
              "  <tbody>\n",
              "    <tr>\n",
              "      <th>1</th>\n",
              "      <td>11.8</td>\n",
              "      <td>25.7</td>\n",
              "    </tr>\n",
              "    <tr>\n",
              "      <th>2</th>\n",
              "      <td>5.0</td>\n",
              "      <td>20.6</td>\n",
              "    </tr>\n",
              "  </tbody>\n",
              "</table>\n",
              "</div>"
            ],
            "text/plain": [
              "   Temp_Jan  Temp_Jul\n",
              "1      11.8      25.7\n",
              "2       5.0      20.6"
            ]
          },
          "metadata": {},
          "execution_count": 10
        }
      ]
    },
    {
      "cell_type": "code",
      "metadata": {
        "colab": {
          "base_uri": "https://localhost:8080/"
        },
        "id": "Ft6J1zU0RLer",
        "outputId": "4cdb7e30-5285-459d-bd6a-7ead74cf2252"
      },
      "source": [
        "\"selcting rows by the index\"\n",
        "df1.iloc[0]"
      ],
      "execution_count": null,
      "outputs": [
        {
          "output_type": "execute_result",
          "data": {
            "text/plain": [
              "Place          Amsterdam\n",
              "Temp_Jan             3.4\n",
              "Temp_Jul            17.6\n",
              "Language           Dutch\n",
              "Altitude              -2\n",
              "MeasureDate          NaN\n",
              "Population       1351587\n",
              "Name: 0, dtype: object"
            ]
          },
          "metadata": {},
          "execution_count": 11
        }
      ]
    },
    {
      "cell_type": "code",
      "metadata": {
        "colab": {
          "base_uri": "https://localhost:8080/"
        },
        "id": "MQxYXiH7Rh-L",
        "outputId": "75d64bc3-aa72-4bf7-cf7c-7ad88a52c347"
      },
      "source": [
        "\"indexing specific column\"\n",
        "df1.iloc[:,0] #th e first column is name of cities"
      ],
      "execution_count": null,
      "outputs": [
        {
          "output_type": "execute_result",
          "data": {
            "text/plain": [
              "0    Amsterdam\n",
              "1    Barcelona\n",
              "2        Paris\n",
              "3       Geneva\n",
              "4       Munich\n",
              "5       Athens\n",
              "6       Vienna\n",
              "Name: Place, dtype: object"
            ]
          },
          "metadata": {},
          "execution_count": 12
        }
      ]
    },
    {
      "cell_type": "markdown",
      "metadata": {
        "id": "MsjxnjFlSt11"
      },
      "source": [
        "DATA TYPES"
      ]
    },
    {
      "cell_type": "code",
      "metadata": {
        "colab": {
          "base_uri": "https://localhost:8080/"
        },
        "id": "ot6r-_8qSzDi",
        "outputId": "214890d8-7ee7-47f5-9163-b48ea3c4d8ba"
      },
      "source": [
        "type(df1)"
      ],
      "execution_count": null,
      "outputs": [
        {
          "output_type": "execute_result",
          "data": {
            "text/plain": [
              "pandas.core.frame.DataFrame"
            ]
          },
          "metadata": {},
          "execution_count": 13
        }
      ]
    },
    {
      "cell_type": "code",
      "metadata": {
        "colab": {
          "base_uri": "https://localhost:8080/"
        },
        "id": "6y6PL9sfS6dr",
        "outputId": "d1f3b2cc-6b81-4efa-e99b-a582eece045a"
      },
      "source": [
        "\"getting the data types of each column\"\n",
        "df1.dtypes"
      ],
      "execution_count": null,
      "outputs": [
        {
          "output_type": "execute_result",
          "data": {
            "text/plain": [
              "Place           object\n",
              "Temp_Jan       float64\n",
              "Temp_Jul       float64\n",
              "Language        object\n",
              "Altitude       float64\n",
              "MeasureDate     object\n",
              "Population       int64\n",
              "dtype: object"
            ]
          },
          "metadata": {},
          "execution_count": 14
        }
      ]
    },
    {
      "cell_type": "code",
      "metadata": {
        "colab": {
          "base_uri": "https://localhost:8080/"
        },
        "id": "NSdZ_6wBS-_L",
        "outputId": "8ad67d48-ff7c-487e-e679-b3cb2679c7a1"
      },
      "source": [
        "df1['Language'].dtypes"
      ],
      "execution_count": null,
      "outputs": [
        {
          "output_type": "execute_result",
          "data": {
            "text/plain": [
              "dtype('O')"
            ]
          },
          "metadata": {
            "tags": []
          },
          "execution_count": 20
        }
      ]
    },
    {
      "cell_type": "code",
      "metadata": {
        "id": "eZUL7asyTVfr"
      },
      "source": [
        "\"changing the data types\"\n",
        "df1['Language']=df1['Language'].astype('category')"
      ],
      "execution_count": null,
      "outputs": []
    },
    {
      "cell_type": "code",
      "metadata": {
        "colab": {
          "base_uri": "https://localhost:8080/"
        },
        "id": "pJmXDNDoUVsi",
        "outputId": "f864298f-a0ee-4b13-882f-788357985854"
      },
      "source": [
        "df1['Language'].dtypes"
      ],
      "execution_count": null,
      "outputs": [
        {
          "output_type": "execute_result",
          "data": {
            "text/plain": [
              "CategoricalDtype(categories=['Catalan and Spanish', 'Dutch', 'French', 'German', 'Greek'], ordered=False)"
            ]
          },
          "metadata": {},
          "execution_count": 16
        }
      ]
    },
    {
      "cell_type": "code",
      "metadata": {
        "colab": {
          "base_uri": "https://localhost:8080/"
        },
        "id": "XGTqAGcBUfMM",
        "outputId": "0cda1ef1-32f8-4df1-9f81-323bfd419178"
      },
      "source": [
        "df1['MeasureDate'].dtypes"
      ],
      "execution_count": null,
      "outputs": [
        {
          "output_type": "execute_result",
          "data": {
            "text/plain": [
              "dtype('O')"
            ]
          },
          "metadata": {},
          "execution_count": 17
        }
      ]
    },
    {
      "cell_type": "code",
      "metadata": {
        "colab": {
          "base_uri": "https://localhost:8080/"
        },
        "id": "cNPiz0KmVlz5",
        "outputId": "bbd057ea-6572-445e-986d-3f28c3d8a220"
      },
      "source": [
        "df1.dtypes"
      ],
      "execution_count": null,
      "outputs": [
        {
          "output_type": "execute_result",
          "data": {
            "text/plain": [
              "Place            object\n",
              "Temp_Jan        float64\n",
              "Temp_Jul        float64\n",
              "Language       category\n",
              "Altitude        float64\n",
              "MeasureDate      object\n",
              "Population        int64\n",
              "dtype: object"
            ]
          },
          "metadata": {},
          "execution_count": 18
        }
      ]
    },
    {
      "cell_type": "markdown",
      "metadata": {
        "id": "2lib7IjCWjUz"
      },
      "source": [
        "BASIC PROPERTIES"
      ]
    },
    {
      "cell_type": "code",
      "metadata": {
        "colab": {
          "base_uri": "https://localhost:8080/"
        },
        "id": "YRkW5KIKWni2",
        "outputId": "68facd81-aed2-44d1-ead7-fe4a1e72cc4b"
      },
      "source": [
        "list(df1.columns)"
      ],
      "execution_count": null,
      "outputs": [
        {
          "output_type": "execute_result",
          "data": {
            "text/plain": [
              "['Place',\n",
              " 'Temp_Jan',\n",
              " 'Temp_Jul',\n",
              " 'Language',\n",
              " 'Altitude',\n",
              " 'MeasureDate',\n",
              " 'Population']"
            ]
          },
          "metadata": {
            "tags": []
          },
          "execution_count": 25
        }
      ]
    },
    {
      "cell_type": "code",
      "metadata": {
        "colab": {
          "base_uri": "https://localhost:8080/"
        },
        "id": "vVp9OYhdWqjv",
        "outputId": "ea0ec355-54d5-428d-b3b8-61ba14e42366"
      },
      "source": [
        "df1.index"
      ],
      "execution_count": null,
      "outputs": [
        {
          "output_type": "execute_result",
          "data": {
            "text/plain": [
              "RangeIndex(start=0, stop=7, step=1)"
            ]
          },
          "metadata": {},
          "execution_count": 19
        }
      ]
    },
    {
      "cell_type": "code",
      "metadata": {
        "colab": {
          "base_uri": "https://localhost:8080/"
        },
        "id": "rcIvPtP9WxCJ",
        "outputId": "5cd625c9-5212-49eb-93f3-5020731f8e75"
      },
      "source": [
        "df1.values"
      ],
      "execution_count": null,
      "outputs": [
        {
          "output_type": "execute_result",
          "data": {
            "text/plain": [
              "array([['Amsterdam', 3.4, 17.6, 'Dutch', -2.0, nan, 1351587],\n",
              "       ['Barcelona', 11.8, 25.7, 'Catalan and Spanish', 12.0, nan,\n",
              "        4740000],\n",
              "       ['Paris', 5.0, 20.6, 'French', nan, '01-01-2013', 10601122],\n",
              "       ['Geneva', 1.5, 20.2, 'French', 375.0, '01-12-2015', 198072],\n",
              "       ['Munich', 0.3, 19.4, 'German', 520.0, '31-12-2015', 1450381],\n",
              "       ['Athens', 9.9, 28.5, 'Greek', 338.0, nan, 3090508],\n",
              "       ['Vienna', 1.2, 19.1, 'German', 542.0, '01-01-2017', 2600000]],\n",
              "      dtype=object)"
            ]
          },
          "metadata": {},
          "execution_count": 20
        }
      ]
    },
    {
      "cell_type": "code",
      "metadata": {
        "colab": {
          "base_uri": "https://localhost:8080/",
          "height": 35
        },
        "id": "4gXDISOhW0rx",
        "outputId": "11451d61-c06e-44ce-b575-7676606ccfb8"
      },
      "source": [
        "df1.columns[0]"
      ],
      "execution_count": null,
      "outputs": [
        {
          "output_type": "execute_result",
          "data": {
            "application/vnd.google.colaboratory.intrinsic+json": {
              "type": "string"
            },
            "text/plain": [
              "'Place'"
            ]
          },
          "metadata": {},
          "execution_count": 21
        }
      ]
    },
    {
      "cell_type": "code",
      "metadata": {
        "colab": {
          "base_uri": "https://localhost:8080/"
        },
        "id": "RZvhJ7FKW_MB",
        "outputId": "96288147-0ff4-44f8-88f0-89b66d1807fe"
      },
      "source": [
        "df1.shape"
      ],
      "execution_count": null,
      "outputs": [
        {
          "output_type": "execute_result",
          "data": {
            "text/plain": [
              "(7, 7)"
            ]
          },
          "metadata": {},
          "execution_count": 22
        }
      ]
    },
    {
      "cell_type": "code",
      "metadata": {
        "colab": {
          "base_uri": "https://localhost:8080/"
        },
        "id": "_AvGz4-lXCAp",
        "outputId": "6f893fb5-a702-4c89-973c-2357869424c1"
      },
      "source": [
        "len(df1)"
      ],
      "execution_count": null,
      "outputs": [
        {
          "output_type": "execute_result",
          "data": {
            "text/plain": [
              "7"
            ]
          },
          "metadata": {},
          "execution_count": 23
        }
      ]
    },
    {
      "cell_type": "markdown",
      "metadata": {
        "id": "hg7Lzv3lXUqa"
      },
      "source": [
        "LOAD ANOTHER DATA"
      ]
    },
    {
      "cell_type": "code",
      "metadata": {
        "id": "XxD0L-7oXXoa"
      },
      "source": [
        "\n",
        "url = 'https://raw.githubusercontent.com/RRighart/City/master/df2.csv'\n",
        "df2=pd.read_csv(url,parse_dates=True,delimiter=\",\",decimal=\",\")"
      ],
      "execution_count": null,
      "outputs": []
    },
    {
      "cell_type": "code",
      "metadata": {
        "colab": {
          "base_uri": "https://localhost:8080/",
          "height": 204
        },
        "id": "2XhZZaWXX1fS",
        "outputId": "dc841487-a6e5-4d0b-e489-433f312ae7cb"
      },
      "source": [
        "df2.head()"
      ],
      "execution_count": null,
      "outputs": [
        {
          "output_type": "execute_result",
          "data": {
            "text/html": [
              "<div>\n",
              "<style scoped>\n",
              "    .dataframe tbody tr th:only-of-type {\n",
              "        vertical-align: middle;\n",
              "    }\n",
              "\n",
              "    .dataframe tbody tr th {\n",
              "        vertical-align: top;\n",
              "    }\n",
              "\n",
              "    .dataframe thead th {\n",
              "        text-align: right;\n",
              "    }\n",
              "</style>\n",
              "<table border=\"1\" class=\"dataframe\">\n",
              "  <thead>\n",
              "    <tr style=\"text-align: right;\">\n",
              "      <th></th>\n",
              "      <th>Place</th>\n",
              "      <th>Temp_Jan</th>\n",
              "      <th>Temp_Jul</th>\n",
              "      <th>Language</th>\n",
              "      <th>Altitude</th>\n",
              "      <th>MeasureDate</th>\n",
              "      <th>Population</th>\n",
              "    </tr>\n",
              "  </thead>\n",
              "  <tbody>\n",
              "    <tr>\n",
              "      <th>0</th>\n",
              "      <td>Stockholm</td>\n",
              "      <td>-1.6</td>\n",
              "      <td>18.8</td>\n",
              "      <td>Swedish</td>\n",
              "      <td>0.0</td>\n",
              "      <td>NaT</td>\n",
              "      <td>1515017</td>\n",
              "    </tr>\n",
              "    <tr>\n",
              "      <th>1</th>\n",
              "      <td>Oslo</td>\n",
              "      <td>-2.9</td>\n",
              "      <td>17.7</td>\n",
              "      <td>Norwegian</td>\n",
              "      <td>23.0</td>\n",
              "      <td>2016-01-01</td>\n",
              "      <td>942084</td>\n",
              "    </tr>\n",
              "    <tr>\n",
              "      <th>2</th>\n",
              "      <td>Helsinki</td>\n",
              "      <td>-3.9</td>\n",
              "      <td>17.8</td>\n",
              "      <td>Finnish</td>\n",
              "      <td>NaN</td>\n",
              "      <td>2016-03-31</td>\n",
              "      <td>1231595</td>\n",
              "    </tr>\n",
              "    <tr>\n",
              "      <th>3</th>\n",
              "      <td>Lulea</td>\n",
              "      <td>-5.1</td>\n",
              "      <td>20.7</td>\n",
              "      <td>Swedish</td>\n",
              "      <td>6.0</td>\n",
              "      <td>2014-12-31</td>\n",
              "      <td>75966</td>\n",
              "    </tr>\n",
              "    <tr>\n",
              "      <th>4</th>\n",
              "      <td>Edinburgh</td>\n",
              "      <td>7.0</td>\n",
              "      <td>19.1</td>\n",
              "      <td>English</td>\n",
              "      <td>47.0</td>\n",
              "      <td>NaT</td>\n",
              "      <td>1339380</td>\n",
              "    </tr>\n",
              "  </tbody>\n",
              "</table>\n",
              "</div>"
            ],
            "text/plain": [
              "       Place  Temp_Jan  Temp_Jul   Language  Altitude MeasureDate  Population\n",
              "0  Stockholm      -1.6      18.8    Swedish       0.0         NaT     1515017\n",
              "1       Oslo      -2.9      17.7  Norwegian      23.0  2016-01-01      942084\n",
              "2   Helsinki      -3.9      17.8    Finnish       NaN  2016-03-31     1231595\n",
              "3      Lulea      -5.1      20.7    Swedish       6.0  2014-12-31       75966\n",
              "4  Edinburgh       7.0      19.1    English      47.0         NaT     1339380"
            ]
          },
          "metadata": {},
          "execution_count": 25
        }
      ]
    },
    {
      "cell_type": "code",
      "metadata": {
        "colab": {
          "base_uri": "https://localhost:8080/",
          "height": 197
        },
        "id": "VuCY5OolX5Uy",
        "outputId": "46b20fc9-e5b3-472e-9cf9-3cbf89797b58"
      },
      "source": [
        "df2.tail()"
      ],
      "execution_count": null,
      "outputs": [
        {
          "output_type": "execute_result",
          "data": {
            "text/html": [
              "<div>\n",
              "<style scoped>\n",
              "    .dataframe tbody tr th:only-of-type {\n",
              "        vertical-align: middle;\n",
              "    }\n",
              "\n",
              "    .dataframe tbody tr th {\n",
              "        vertical-align: top;\n",
              "    }\n",
              "\n",
              "    .dataframe thead th {\n",
              "        text-align: right;\n",
              "    }\n",
              "</style>\n",
              "<table border=\"1\" class=\"dataframe\">\n",
              "  <thead>\n",
              "    <tr style=\"text-align: right;\">\n",
              "      <th></th>\n",
              "      <th>Place</th>\n",
              "      <th>Temp_Jan</th>\n",
              "      <th>Temp_Jul</th>\n",
              "      <th>Language</th>\n",
              "      <th>Altitude</th>\n",
              "      <th>MeasureDate</th>\n",
              "      <th>Population</th>\n",
              "    </tr>\n",
              "  </thead>\n",
              "  <tbody>\n",
              "    <tr>\n",
              "      <th>11</th>\n",
              "      <td>Porto</td>\n",
              "      <td>9.5</td>\n",
              "      <td>20.6</td>\n",
              "      <td>Portuguese</td>\n",
              "      <td>0.0</td>\n",
              "      <td>NaT</td>\n",
              "      <td>1774000</td>\n",
              "    </tr>\n",
              "    <tr>\n",
              "      <th>12</th>\n",
              "      <td>Venice</td>\n",
              "      <td>3.3</td>\n",
              "      <td>23.0</td>\n",
              "      <td>Italian</td>\n",
              "      <td>1.0</td>\n",
              "      <td>NaT</td>\n",
              "      <td>264579</td>\n",
              "    </tr>\n",
              "    <tr>\n",
              "      <th>13</th>\n",
              "      <td>Ajaccio</td>\n",
              "      <td>9.0</td>\n",
              "      <td>22.9</td>\n",
              "      <td>French</td>\n",
              "      <td>38.0</td>\n",
              "      <td>NaT</td>\n",
              "      <td>68587</td>\n",
              "    </tr>\n",
              "    <tr>\n",
              "      <th>14</th>\n",
              "      <td>Rijeka</td>\n",
              "      <td>5.8</td>\n",
              "      <td>23.1</td>\n",
              "      <td>Croatian</td>\n",
              "      <td>0.0</td>\n",
              "      <td>NaT</td>\n",
              "      <td>213666</td>\n",
              "    </tr>\n",
              "    <tr>\n",
              "      <th>15</th>\n",
              "      <td>Istanbul</td>\n",
              "      <td>5.7</td>\n",
              "      <td>22.9</td>\n",
              "      <td>Turkish</td>\n",
              "      <td>39.0</td>\n",
              "      <td>2016-12-31</td>\n",
              "      <td>14657434</td>\n",
              "    </tr>\n",
              "  </tbody>\n",
              "</table>\n",
              "</div>"
            ],
            "text/plain": [
              "       Place  Temp_Jan  Temp_Jul    Language  Altitude MeasureDate  Population\n",
              "11     Porto       9.5      20.6  Portuguese       0.0         NaT     1774000\n",
              "12    Venice       3.3      23.0     Italian       1.0         NaT      264579\n",
              "13   Ajaccio       9.0      22.9      French      38.0         NaT       68587\n",
              "14    Rijeka       5.8      23.1    Croatian       0.0         NaT      213666\n",
              "15  Istanbul       5.7      22.9     Turkish      39.0  2016-12-31    14657434"
            ]
          },
          "metadata": {
            "tags": []
          },
          "execution_count": 33
        }
      ]
    },
    {
      "cell_type": "code",
      "metadata": {
        "colab": {
          "base_uri": "https://localhost:8080/"
        },
        "id": "fstNBPSIX86Z",
        "outputId": "bdcee8c7-fee1-4efd-fc21-45241169b369"
      },
      "source": [
        "df2.dtypes"
      ],
      "execution_count": null,
      "outputs": [
        {
          "output_type": "execute_result",
          "data": {
            "text/plain": [
              "Place           object\n",
              "Temp_Jan       float64\n",
              "Temp_Jul       float64\n",
              "Language        object\n",
              "Altitude       float64\n",
              "MeasureDate     object\n",
              "Population       int64\n",
              "dtype: object"
            ]
          },
          "metadata": {
            "tags": []
          },
          "execution_count": 34
        }
      ]
    },
    {
      "cell_type": "code",
      "metadata": {
        "colab": {
          "base_uri": "https://localhost:8080/"
        },
        "id": "lZj8Hz4EYDGa",
        "outputId": "fa4d3279-18bc-412b-98a5-9d3e403427fb"
      },
      "source": [
        "df1.dtypes"
      ],
      "execution_count": null,
      "outputs": [
        {
          "output_type": "execute_result",
          "data": {
            "text/plain": [
              "Place            object\n",
              "Temp_Jan        float64\n",
              "Temp_Jul        float64\n",
              "Language       category\n",
              "Altitude        float64\n",
              "MeasureDate      object\n",
              "Population        int64\n",
              "dtype: object"
            ]
          },
          "metadata": {
            "tags": []
          },
          "execution_count": 35
        }
      ]
    },
    {
      "cell_type": "code",
      "metadata": {
        "colab": {
          "base_uri": "https://localhost:8080/"
        },
        "id": "QJiMg6omYYnZ",
        "outputId": "bb27ef75-0b32-4570-83f0-4abee95ee2c2"
      },
      "source": [
        "\"knowing the frequency\"\n",
        "df2['Language'].value_counts()"
      ],
      "execution_count": null,
      "outputs": [
        {
          "output_type": "execute_result",
          "data": {
            "text/plain": [
              "French        3\n",
              "English       3\n",
              "Swedish       2\n",
              "Croatian      1\n",
              "Italian       1\n",
              "Norwegian     1\n",
              "Finnish       1\n",
              "Spanish       1\n",
              "Turkish       1\n",
              "Dutch         1\n",
              "Portuguese    1\n",
              "Name: Language, dtype: int64"
            ]
          },
          "metadata": {
            "tags": []
          },
          "execution_count": 36
        }
      ]
    },
    {
      "cell_type": "markdown",
      "metadata": {
        "id": "wXhhU_zBY-pX"
      },
      "source": [
        "APPEND TWO DATAFRANES"
      ]
    },
    {
      "cell_type": "code",
      "metadata": {
        "id": "6_zbUI3AZCch"
      },
      "source": [
        "df=df1.append(df2,ignore_index=True)"
      ],
      "execution_count": null,
      "outputs": []
    },
    {
      "cell_type": "code",
      "metadata": {
        "colab": {
          "base_uri": "https://localhost:8080/",
          "height": 762
        },
        "id": "5GMvNhcgZKXx",
        "outputId": "360e9ac2-7e00-4025-e533-8d429abc9971"
      },
      "source": [
        "df"
      ],
      "execution_count": null,
      "outputs": [
        {
          "output_type": "execute_result",
          "data": {
            "text/html": [
              "<div>\n",
              "<style scoped>\n",
              "    .dataframe tbody tr th:only-of-type {\n",
              "        vertical-align: middle;\n",
              "    }\n",
              "\n",
              "    .dataframe tbody tr th {\n",
              "        vertical-align: top;\n",
              "    }\n",
              "\n",
              "    .dataframe thead th {\n",
              "        text-align: right;\n",
              "    }\n",
              "</style>\n",
              "<table border=\"1\" class=\"dataframe\">\n",
              "  <thead>\n",
              "    <tr style=\"text-align: right;\">\n",
              "      <th></th>\n",
              "      <th>Place</th>\n",
              "      <th>Temp_Jan</th>\n",
              "      <th>Temp_Jul</th>\n",
              "      <th>Language</th>\n",
              "      <th>Altitude</th>\n",
              "      <th>MeasureDate</th>\n",
              "      <th>Population</th>\n",
              "    </tr>\n",
              "  </thead>\n",
              "  <tbody>\n",
              "    <tr>\n",
              "      <th>0</th>\n",
              "      <td>Amsterdam</td>\n",
              "      <td>3.4</td>\n",
              "      <td>17.6</td>\n",
              "      <td>Dutch</td>\n",
              "      <td>-2.0</td>\n",
              "      <td>NaN</td>\n",
              "      <td>1351587</td>\n",
              "    </tr>\n",
              "    <tr>\n",
              "      <th>1</th>\n",
              "      <td>Barcelona</td>\n",
              "      <td>11.8</td>\n",
              "      <td>25.7</td>\n",
              "      <td>Catalan and Spanish</td>\n",
              "      <td>12.0</td>\n",
              "      <td>NaN</td>\n",
              "      <td>4740000</td>\n",
              "    </tr>\n",
              "    <tr>\n",
              "      <th>2</th>\n",
              "      <td>Paris</td>\n",
              "      <td>5.0</td>\n",
              "      <td>20.6</td>\n",
              "      <td>French</td>\n",
              "      <td>NaN</td>\n",
              "      <td>01-01-2013</td>\n",
              "      <td>10601122</td>\n",
              "    </tr>\n",
              "    <tr>\n",
              "      <th>3</th>\n",
              "      <td>Geneva</td>\n",
              "      <td>1.5</td>\n",
              "      <td>20.2</td>\n",
              "      <td>French</td>\n",
              "      <td>375.0</td>\n",
              "      <td>01-12-2015</td>\n",
              "      <td>198072</td>\n",
              "    </tr>\n",
              "    <tr>\n",
              "      <th>4</th>\n",
              "      <td>Munich</td>\n",
              "      <td>0.3</td>\n",
              "      <td>19.4</td>\n",
              "      <td>German</td>\n",
              "      <td>520.0</td>\n",
              "      <td>31-12-2015</td>\n",
              "      <td>1450381</td>\n",
              "    </tr>\n",
              "    <tr>\n",
              "      <th>5</th>\n",
              "      <td>Athens</td>\n",
              "      <td>9.9</td>\n",
              "      <td>28.5</td>\n",
              "      <td>Greek</td>\n",
              "      <td>338.0</td>\n",
              "      <td>NaN</td>\n",
              "      <td>3090508</td>\n",
              "    </tr>\n",
              "    <tr>\n",
              "      <th>6</th>\n",
              "      <td>Vienna</td>\n",
              "      <td>1.2</td>\n",
              "      <td>19.1</td>\n",
              "      <td>German</td>\n",
              "      <td>542.0</td>\n",
              "      <td>01-01-2017</td>\n",
              "      <td>2600000</td>\n",
              "    </tr>\n",
              "    <tr>\n",
              "      <th>7</th>\n",
              "      <td>Stockholm</td>\n",
              "      <td>-1.6</td>\n",
              "      <td>18.8</td>\n",
              "      <td>Swedish</td>\n",
              "      <td>0.0</td>\n",
              "      <td>NaT</td>\n",
              "      <td>1515017</td>\n",
              "    </tr>\n",
              "    <tr>\n",
              "      <th>8</th>\n",
              "      <td>Oslo</td>\n",
              "      <td>-2.9</td>\n",
              "      <td>17.7</td>\n",
              "      <td>Norwegian</td>\n",
              "      <td>23.0</td>\n",
              "      <td>2016-01-01</td>\n",
              "      <td>942084</td>\n",
              "    </tr>\n",
              "    <tr>\n",
              "      <th>9</th>\n",
              "      <td>Helsinki</td>\n",
              "      <td>-3.9</td>\n",
              "      <td>17.8</td>\n",
              "      <td>Finnish</td>\n",
              "      <td>NaN</td>\n",
              "      <td>2016-03-31</td>\n",
              "      <td>1231595</td>\n",
              "    </tr>\n",
              "    <tr>\n",
              "      <th>10</th>\n",
              "      <td>Lulea</td>\n",
              "      <td>-5.1</td>\n",
              "      <td>20.7</td>\n",
              "      <td>Swedish</td>\n",
              "      <td>6.0</td>\n",
              "      <td>2014-12-31</td>\n",
              "      <td>75966</td>\n",
              "    </tr>\n",
              "    <tr>\n",
              "      <th>11</th>\n",
              "      <td>Edinburgh</td>\n",
              "      <td>7.0</td>\n",
              "      <td>19.1</td>\n",
              "      <td>English</td>\n",
              "      <td>47.0</td>\n",
              "      <td>NaT</td>\n",
              "      <td>1339380</td>\n",
              "    </tr>\n",
              "    <tr>\n",
              "      <th>12</th>\n",
              "      <td>Birmingham</td>\n",
              "      <td>6.7</td>\n",
              "      <td>21.3</td>\n",
              "      <td>English</td>\n",
              "      <td>140.0</td>\n",
              "      <td>NaT</td>\n",
              "      <td>2440986</td>\n",
              "    </tr>\n",
              "    <tr>\n",
              "      <th>13</th>\n",
              "      <td>Cork</td>\n",
              "      <td>5.6</td>\n",
              "      <td>15.3</td>\n",
              "      <td>English</td>\n",
              "      <td>NaN</td>\n",
              "      <td>NaT</td>\n",
              "      <td>208669</td>\n",
              "    </tr>\n",
              "    <tr>\n",
              "      <th>14</th>\n",
              "      <td>Antwerp</td>\n",
              "      <td>3.4</td>\n",
              "      <td>18.5</td>\n",
              "      <td>Dutch</td>\n",
              "      <td>NaN</td>\n",
              "      <td>2016-01-01</td>\n",
              "      <td>517042</td>\n",
              "    </tr>\n",
              "    <tr>\n",
              "      <th>15</th>\n",
              "      <td>Lille</td>\n",
              "      <td>3.6</td>\n",
              "      <td>18.6</td>\n",
              "      <td>French</td>\n",
              "      <td>NaN</td>\n",
              "      <td>NaT</td>\n",
              "      <td>1015744</td>\n",
              "    </tr>\n",
              "    <tr>\n",
              "      <th>16</th>\n",
              "      <td>Bordeaux</td>\n",
              "      <td>6.6</td>\n",
              "      <td>21.4</td>\n",
              "      <td>French</td>\n",
              "      <td>NaN</td>\n",
              "      <td>NaT</td>\n",
              "      <td>851071</td>\n",
              "    </tr>\n",
              "    <tr>\n",
              "      <th>17</th>\n",
              "      <td>Malaga</td>\n",
              "      <td>12.1</td>\n",
              "      <td>25.5</td>\n",
              "      <td>Spanish</td>\n",
              "      <td>11.0</td>\n",
              "      <td>NaT</td>\n",
              "      <td>569130</td>\n",
              "    </tr>\n",
              "    <tr>\n",
              "      <th>18</th>\n",
              "      <td>Porto</td>\n",
              "      <td>9.5</td>\n",
              "      <td>20.6</td>\n",
              "      <td>Portuguese</td>\n",
              "      <td>0.0</td>\n",
              "      <td>NaT</td>\n",
              "      <td>1774000</td>\n",
              "    </tr>\n",
              "    <tr>\n",
              "      <th>19</th>\n",
              "      <td>Venice</td>\n",
              "      <td>3.3</td>\n",
              "      <td>23.0</td>\n",
              "      <td>Italian</td>\n",
              "      <td>1.0</td>\n",
              "      <td>NaT</td>\n",
              "      <td>264579</td>\n",
              "    </tr>\n",
              "    <tr>\n",
              "      <th>20</th>\n",
              "      <td>Ajaccio</td>\n",
              "      <td>9.0</td>\n",
              "      <td>22.9</td>\n",
              "      <td>French</td>\n",
              "      <td>38.0</td>\n",
              "      <td>NaT</td>\n",
              "      <td>68587</td>\n",
              "    </tr>\n",
              "    <tr>\n",
              "      <th>21</th>\n",
              "      <td>Rijeka</td>\n",
              "      <td>5.8</td>\n",
              "      <td>23.1</td>\n",
              "      <td>Croatian</td>\n",
              "      <td>0.0</td>\n",
              "      <td>NaT</td>\n",
              "      <td>213666</td>\n",
              "    </tr>\n",
              "    <tr>\n",
              "      <th>22</th>\n",
              "      <td>Istanbul</td>\n",
              "      <td>5.7</td>\n",
              "      <td>22.9</td>\n",
              "      <td>Turkish</td>\n",
              "      <td>39.0</td>\n",
              "      <td>2016-12-31</td>\n",
              "      <td>14657434</td>\n",
              "    </tr>\n",
              "  </tbody>\n",
              "</table>\n",
              "</div>"
            ],
            "text/plain": [
              "         Place  Temp_Jan  Temp_Jul  ... Altitude  MeasureDate Population\n",
              "0    Amsterdam       3.4      17.6  ...     -2.0          NaN    1351587\n",
              "1    Barcelona      11.8      25.7  ...     12.0          NaN    4740000\n",
              "2        Paris       5.0      20.6  ...      NaN   01-01-2013   10601122\n",
              "3       Geneva       1.5      20.2  ...    375.0   01-12-2015     198072\n",
              "4       Munich       0.3      19.4  ...    520.0   31-12-2015    1450381\n",
              "5       Athens       9.9      28.5  ...    338.0          NaN    3090508\n",
              "6       Vienna       1.2      19.1  ...    542.0   01-01-2017    2600000\n",
              "7    Stockholm      -1.6      18.8  ...      0.0          NaT    1515017\n",
              "8         Oslo      -2.9      17.7  ...     23.0   2016-01-01     942084\n",
              "9     Helsinki      -3.9      17.8  ...      NaN   2016-03-31    1231595\n",
              "10       Lulea      -5.1      20.7  ...      6.0   2014-12-31      75966\n",
              "11   Edinburgh       7.0      19.1  ...     47.0          NaT    1339380\n",
              "12  Birmingham       6.7      21.3  ...    140.0          NaT    2440986\n",
              "13        Cork       5.6      15.3  ...      NaN          NaT     208669\n",
              "14     Antwerp       3.4      18.5  ...      NaN   2016-01-01     517042\n",
              "15       Lille       3.6      18.6  ...      NaN          NaT    1015744\n",
              "16    Bordeaux       6.6      21.4  ...      NaN          NaT     851071\n",
              "17      Malaga      12.1      25.5  ...     11.0          NaT     569130\n",
              "18       Porto       9.5      20.6  ...      0.0          NaT    1774000\n",
              "19      Venice       3.3      23.0  ...      1.0          NaT     264579\n",
              "20     Ajaccio       9.0      22.9  ...     38.0          NaT      68587\n",
              "21      Rijeka       5.8      23.1  ...      0.0          NaT     213666\n",
              "22    Istanbul       5.7      22.9  ...     39.0   2016-12-31   14657434\n",
              "\n",
              "[23 rows x 7 columns]"
            ]
          },
          "metadata": {},
          "execution_count": 27
        }
      ]
    },
    {
      "cell_type": "code",
      "metadata": {
        "colab": {
          "base_uri": "https://localhost:8080/",
          "height": 167
        },
        "id": "JhlKETPbZNCJ",
        "outputId": "7162f5bd-9102-46a4-ec3f-ba8cc1784de4"
      },
      "source": [
        "\"another way is\"\n",
        "pd.concat([df1,df2],ignore_index=True).head(4)"
      ],
      "execution_count": null,
      "outputs": [
        {
          "output_type": "execute_result",
          "data": {
            "text/html": [
              "<div>\n",
              "<style scoped>\n",
              "    .dataframe tbody tr th:only-of-type {\n",
              "        vertical-align: middle;\n",
              "    }\n",
              "\n",
              "    .dataframe tbody tr th {\n",
              "        vertical-align: top;\n",
              "    }\n",
              "\n",
              "    .dataframe thead th {\n",
              "        text-align: right;\n",
              "    }\n",
              "</style>\n",
              "<table border=\"1\" class=\"dataframe\">\n",
              "  <thead>\n",
              "    <tr style=\"text-align: right;\">\n",
              "      <th></th>\n",
              "      <th>Place</th>\n",
              "      <th>Temp_Jan</th>\n",
              "      <th>Temp_Jul</th>\n",
              "      <th>Language</th>\n",
              "      <th>Altitude</th>\n",
              "      <th>MeasureDate</th>\n",
              "      <th>Population</th>\n",
              "    </tr>\n",
              "  </thead>\n",
              "  <tbody>\n",
              "    <tr>\n",
              "      <th>0</th>\n",
              "      <td>Amsterdam</td>\n",
              "      <td>3.4</td>\n",
              "      <td>17.6</td>\n",
              "      <td>Dutch</td>\n",
              "      <td>-2.0</td>\n",
              "      <td>NaN</td>\n",
              "      <td>1351587</td>\n",
              "    </tr>\n",
              "    <tr>\n",
              "      <th>1</th>\n",
              "      <td>Barcelona</td>\n",
              "      <td>11.8</td>\n",
              "      <td>25.7</td>\n",
              "      <td>Catalan and Spanish</td>\n",
              "      <td>12.0</td>\n",
              "      <td>NaN</td>\n",
              "      <td>4740000</td>\n",
              "    </tr>\n",
              "    <tr>\n",
              "      <th>2</th>\n",
              "      <td>Paris</td>\n",
              "      <td>5.0</td>\n",
              "      <td>20.6</td>\n",
              "      <td>French</td>\n",
              "      <td>NaN</td>\n",
              "      <td>01-01-2013</td>\n",
              "      <td>10601122</td>\n",
              "    </tr>\n",
              "    <tr>\n",
              "      <th>3</th>\n",
              "      <td>Geneva</td>\n",
              "      <td>1.5</td>\n",
              "      <td>20.2</td>\n",
              "      <td>French</td>\n",
              "      <td>375.0</td>\n",
              "      <td>01-12-2015</td>\n",
              "      <td>198072</td>\n",
              "    </tr>\n",
              "  </tbody>\n",
              "</table>\n",
              "</div>"
            ],
            "text/plain": [
              "       Place  Temp_Jan  Temp_Jul  ... Altitude  MeasureDate Population\n",
              "0  Amsterdam       3.4      17.6  ...     -2.0          NaN    1351587\n",
              "1  Barcelona      11.8      25.7  ...     12.0          NaN    4740000\n",
              "2      Paris       5.0      20.6  ...      NaN   01-01-2013   10601122\n",
              "3     Geneva       1.5      20.2  ...    375.0   01-12-2015     198072\n",
              "\n",
              "[4 rows x 7 columns]"
            ]
          },
          "metadata": {
            "tags": []
          },
          "execution_count": 39
        }
      ]
    },
    {
      "cell_type": "markdown",
      "metadata": {
        "id": "JVvGkbY-Zo24"
      },
      "source": [
        "MISSING VALUES"
      ]
    },
    {
      "cell_type": "code",
      "metadata": {
        "colab": {
          "base_uri": "https://localhost:8080/",
          "height": 762
        },
        "id": "YNzJo-C_aH0i",
        "outputId": "a501a1d4-f49d-40df-f3c3-4f446879f122"
      },
      "source": [
        "pd.isnull(df)"
      ],
      "execution_count": null,
      "outputs": [
        {
          "output_type": "execute_result",
          "data": {
            "text/html": [
              "<div>\n",
              "<style scoped>\n",
              "    .dataframe tbody tr th:only-of-type {\n",
              "        vertical-align: middle;\n",
              "    }\n",
              "\n",
              "    .dataframe tbody tr th {\n",
              "        vertical-align: top;\n",
              "    }\n",
              "\n",
              "    .dataframe thead th {\n",
              "        text-align: right;\n",
              "    }\n",
              "</style>\n",
              "<table border=\"1\" class=\"dataframe\">\n",
              "  <thead>\n",
              "    <tr style=\"text-align: right;\">\n",
              "      <th></th>\n",
              "      <th>Place</th>\n",
              "      <th>Temp_Jan</th>\n",
              "      <th>Temp_Jul</th>\n",
              "      <th>Language</th>\n",
              "      <th>Altitude</th>\n",
              "      <th>MeasureDate</th>\n",
              "      <th>Population</th>\n",
              "    </tr>\n",
              "  </thead>\n",
              "  <tbody>\n",
              "    <tr>\n",
              "      <th>0</th>\n",
              "      <td>False</td>\n",
              "      <td>False</td>\n",
              "      <td>False</td>\n",
              "      <td>False</td>\n",
              "      <td>False</td>\n",
              "      <td>True</td>\n",
              "      <td>False</td>\n",
              "    </tr>\n",
              "    <tr>\n",
              "      <th>1</th>\n",
              "      <td>False</td>\n",
              "      <td>False</td>\n",
              "      <td>False</td>\n",
              "      <td>False</td>\n",
              "      <td>False</td>\n",
              "      <td>True</td>\n",
              "      <td>False</td>\n",
              "    </tr>\n",
              "    <tr>\n",
              "      <th>2</th>\n",
              "      <td>False</td>\n",
              "      <td>False</td>\n",
              "      <td>False</td>\n",
              "      <td>False</td>\n",
              "      <td>True</td>\n",
              "      <td>False</td>\n",
              "      <td>False</td>\n",
              "    </tr>\n",
              "    <tr>\n",
              "      <th>3</th>\n",
              "      <td>False</td>\n",
              "      <td>False</td>\n",
              "      <td>False</td>\n",
              "      <td>False</td>\n",
              "      <td>False</td>\n",
              "      <td>False</td>\n",
              "      <td>False</td>\n",
              "    </tr>\n",
              "    <tr>\n",
              "      <th>4</th>\n",
              "      <td>False</td>\n",
              "      <td>False</td>\n",
              "      <td>False</td>\n",
              "      <td>False</td>\n",
              "      <td>False</td>\n",
              "      <td>False</td>\n",
              "      <td>False</td>\n",
              "    </tr>\n",
              "    <tr>\n",
              "      <th>5</th>\n",
              "      <td>False</td>\n",
              "      <td>False</td>\n",
              "      <td>False</td>\n",
              "      <td>False</td>\n",
              "      <td>False</td>\n",
              "      <td>True</td>\n",
              "      <td>False</td>\n",
              "    </tr>\n",
              "    <tr>\n",
              "      <th>6</th>\n",
              "      <td>False</td>\n",
              "      <td>False</td>\n",
              "      <td>False</td>\n",
              "      <td>False</td>\n",
              "      <td>False</td>\n",
              "      <td>False</td>\n",
              "      <td>False</td>\n",
              "    </tr>\n",
              "    <tr>\n",
              "      <th>7</th>\n",
              "      <td>False</td>\n",
              "      <td>False</td>\n",
              "      <td>False</td>\n",
              "      <td>False</td>\n",
              "      <td>False</td>\n",
              "      <td>False</td>\n",
              "      <td>False</td>\n",
              "    </tr>\n",
              "    <tr>\n",
              "      <th>8</th>\n",
              "      <td>False</td>\n",
              "      <td>False</td>\n",
              "      <td>False</td>\n",
              "      <td>False</td>\n",
              "      <td>False</td>\n",
              "      <td>False</td>\n",
              "      <td>False</td>\n",
              "    </tr>\n",
              "    <tr>\n",
              "      <th>9</th>\n",
              "      <td>False</td>\n",
              "      <td>False</td>\n",
              "      <td>False</td>\n",
              "      <td>False</td>\n",
              "      <td>True</td>\n",
              "      <td>False</td>\n",
              "      <td>False</td>\n",
              "    </tr>\n",
              "    <tr>\n",
              "      <th>10</th>\n",
              "      <td>False</td>\n",
              "      <td>False</td>\n",
              "      <td>False</td>\n",
              "      <td>False</td>\n",
              "      <td>False</td>\n",
              "      <td>False</td>\n",
              "      <td>False</td>\n",
              "    </tr>\n",
              "    <tr>\n",
              "      <th>11</th>\n",
              "      <td>False</td>\n",
              "      <td>False</td>\n",
              "      <td>False</td>\n",
              "      <td>False</td>\n",
              "      <td>False</td>\n",
              "      <td>False</td>\n",
              "      <td>False</td>\n",
              "    </tr>\n",
              "    <tr>\n",
              "      <th>12</th>\n",
              "      <td>False</td>\n",
              "      <td>False</td>\n",
              "      <td>False</td>\n",
              "      <td>False</td>\n",
              "      <td>False</td>\n",
              "      <td>False</td>\n",
              "      <td>False</td>\n",
              "    </tr>\n",
              "    <tr>\n",
              "      <th>13</th>\n",
              "      <td>False</td>\n",
              "      <td>False</td>\n",
              "      <td>False</td>\n",
              "      <td>False</td>\n",
              "      <td>True</td>\n",
              "      <td>False</td>\n",
              "      <td>False</td>\n",
              "    </tr>\n",
              "    <tr>\n",
              "      <th>14</th>\n",
              "      <td>False</td>\n",
              "      <td>False</td>\n",
              "      <td>False</td>\n",
              "      <td>False</td>\n",
              "      <td>True</td>\n",
              "      <td>False</td>\n",
              "      <td>False</td>\n",
              "    </tr>\n",
              "    <tr>\n",
              "      <th>15</th>\n",
              "      <td>False</td>\n",
              "      <td>False</td>\n",
              "      <td>False</td>\n",
              "      <td>False</td>\n",
              "      <td>True</td>\n",
              "      <td>False</td>\n",
              "      <td>False</td>\n",
              "    </tr>\n",
              "    <tr>\n",
              "      <th>16</th>\n",
              "      <td>False</td>\n",
              "      <td>False</td>\n",
              "      <td>False</td>\n",
              "      <td>False</td>\n",
              "      <td>True</td>\n",
              "      <td>False</td>\n",
              "      <td>False</td>\n",
              "    </tr>\n",
              "    <tr>\n",
              "      <th>17</th>\n",
              "      <td>False</td>\n",
              "      <td>False</td>\n",
              "      <td>False</td>\n",
              "      <td>False</td>\n",
              "      <td>False</td>\n",
              "      <td>False</td>\n",
              "      <td>False</td>\n",
              "    </tr>\n",
              "    <tr>\n",
              "      <th>18</th>\n",
              "      <td>False</td>\n",
              "      <td>False</td>\n",
              "      <td>False</td>\n",
              "      <td>False</td>\n",
              "      <td>False</td>\n",
              "      <td>False</td>\n",
              "      <td>False</td>\n",
              "    </tr>\n",
              "    <tr>\n",
              "      <th>19</th>\n",
              "      <td>False</td>\n",
              "      <td>False</td>\n",
              "      <td>False</td>\n",
              "      <td>False</td>\n",
              "      <td>False</td>\n",
              "      <td>False</td>\n",
              "      <td>False</td>\n",
              "    </tr>\n",
              "    <tr>\n",
              "      <th>20</th>\n",
              "      <td>False</td>\n",
              "      <td>False</td>\n",
              "      <td>False</td>\n",
              "      <td>False</td>\n",
              "      <td>False</td>\n",
              "      <td>False</td>\n",
              "      <td>False</td>\n",
              "    </tr>\n",
              "    <tr>\n",
              "      <th>21</th>\n",
              "      <td>False</td>\n",
              "      <td>False</td>\n",
              "      <td>False</td>\n",
              "      <td>False</td>\n",
              "      <td>False</td>\n",
              "      <td>False</td>\n",
              "      <td>False</td>\n",
              "    </tr>\n",
              "    <tr>\n",
              "      <th>22</th>\n",
              "      <td>False</td>\n",
              "      <td>False</td>\n",
              "      <td>False</td>\n",
              "      <td>False</td>\n",
              "      <td>False</td>\n",
              "      <td>False</td>\n",
              "      <td>False</td>\n",
              "    </tr>\n",
              "  </tbody>\n",
              "</table>\n",
              "</div>"
            ],
            "text/plain": [
              "    Place  Temp_Jan  Temp_Jul  Language  Altitude  MeasureDate  Population\n",
              "0   False     False     False     False     False         True       False\n",
              "1   False     False     False     False     False         True       False\n",
              "2   False     False     False     False      True        False       False\n",
              "3   False     False     False     False     False        False       False\n",
              "4   False     False     False     False     False        False       False\n",
              "5   False     False     False     False     False         True       False\n",
              "6   False     False     False     False     False        False       False\n",
              "7   False     False     False     False     False        False       False\n",
              "8   False     False     False     False     False        False       False\n",
              "9   False     False     False     False      True        False       False\n",
              "10  False     False     False     False     False        False       False\n",
              "11  False     False     False     False     False        False       False\n",
              "12  False     False     False     False     False        False       False\n",
              "13  False     False     False     False      True        False       False\n",
              "14  False     False     False     False      True        False       False\n",
              "15  False     False     False     False      True        False       False\n",
              "16  False     False     False     False      True        False       False\n",
              "17  False     False     False     False     False        False       False\n",
              "18  False     False     False     False     False        False       False\n",
              "19  False     False     False     False     False        False       False\n",
              "20  False     False     False     False     False        False       False\n",
              "21  False     False     False     False     False        False       False\n",
              "22  False     False     False     False     False        False       False"
            ]
          },
          "metadata": {},
          "execution_count": 28
        }
      ]
    },
    {
      "cell_type": "code",
      "metadata": {
        "colab": {
          "base_uri": "https://localhost:8080/"
        },
        "id": "KjI30zR-ahdT",
        "outputId": "a16da677-45cb-479c-aa1f-1d369b8dec6b"
      },
      "source": [
        "df.isnull().sum()"
      ],
      "execution_count": null,
      "outputs": [
        {
          "output_type": "execute_result",
          "data": {
            "text/plain": [
              "Place          0\n",
              "Temp_Jan       0\n",
              "Temp_Jul       0\n",
              "Language       0\n",
              "Altitude       6\n",
              "MeasureDate    3\n",
              "Population     0\n",
              "dtype: int64"
            ]
          },
          "metadata": {},
          "execution_count": 29
        }
      ]
    },
    {
      "cell_type": "code",
      "metadata": {
        "colab": {
          "base_uri": "https://localhost:8080/"
        },
        "id": "aAzYbI-9a1kC",
        "outputId": "0f00bf23-a8dc-4053-e784-ca50764a62f3"
      },
      "source": [
        "\"The other way\"\n",
        "df.count()"
      ],
      "execution_count": null,
      "outputs": [
        {
          "output_type": "execute_result",
          "data": {
            "text/plain": [
              "Place          23\n",
              "Temp_Jan       23\n",
              "Temp_Jul       23\n",
              "Language       23\n",
              "Altitude       17\n",
              "MeasureDate    20\n",
              "Population     23\n",
              "dtype: int64"
            ]
          },
          "metadata": {},
          "execution_count": 30
        }
      ]
    },
    {
      "cell_type": "code",
      "metadata": {
        "id": "BsVaycxNbI8p",
        "colab": {
          "base_uri": "https://localhost:8080/",
          "height": 197
        },
        "outputId": "f683ab01-cdb7-4b9f-a7ad-37e3397b9307"
      },
      "source": [
        "df.head() "
      ],
      "execution_count": null,
      "outputs": [
        {
          "output_type": "execute_result",
          "data": {
            "text/html": [
              "<div>\n",
              "<style scoped>\n",
              "    .dataframe tbody tr th:only-of-type {\n",
              "        vertical-align: middle;\n",
              "    }\n",
              "\n",
              "    .dataframe tbody tr th {\n",
              "        vertical-align: top;\n",
              "    }\n",
              "\n",
              "    .dataframe thead th {\n",
              "        text-align: right;\n",
              "    }\n",
              "</style>\n",
              "<table border=\"1\" class=\"dataframe\">\n",
              "  <thead>\n",
              "    <tr style=\"text-align: right;\">\n",
              "      <th></th>\n",
              "      <th>Place</th>\n",
              "      <th>Temp_Jan</th>\n",
              "      <th>Temp_Jul</th>\n",
              "      <th>Language</th>\n",
              "      <th>Altitude</th>\n",
              "      <th>MeasureDate</th>\n",
              "      <th>Population</th>\n",
              "    </tr>\n",
              "  </thead>\n",
              "  <tbody>\n",
              "    <tr>\n",
              "      <th>0</th>\n",
              "      <td>Amsterdam</td>\n",
              "      <td>3.4</td>\n",
              "      <td>17.6</td>\n",
              "      <td>Dutch</td>\n",
              "      <td>-2.0</td>\n",
              "      <td>NaN</td>\n",
              "      <td>1351587</td>\n",
              "    </tr>\n",
              "    <tr>\n",
              "      <th>1</th>\n",
              "      <td>Barcelona</td>\n",
              "      <td>11.8</td>\n",
              "      <td>25.7</td>\n",
              "      <td>Catalan and Spanish</td>\n",
              "      <td>12.0</td>\n",
              "      <td>NaN</td>\n",
              "      <td>4740000</td>\n",
              "    </tr>\n",
              "    <tr>\n",
              "      <th>2</th>\n",
              "      <td>Paris</td>\n",
              "      <td>5.0</td>\n",
              "      <td>20.6</td>\n",
              "      <td>French</td>\n",
              "      <td>NaN</td>\n",
              "      <td>01-01-2013</td>\n",
              "      <td>10601122</td>\n",
              "    </tr>\n",
              "    <tr>\n",
              "      <th>3</th>\n",
              "      <td>Geneva</td>\n",
              "      <td>1.5</td>\n",
              "      <td>20.2</td>\n",
              "      <td>French</td>\n",
              "      <td>375.0</td>\n",
              "      <td>01-12-2015</td>\n",
              "      <td>198072</td>\n",
              "    </tr>\n",
              "    <tr>\n",
              "      <th>4</th>\n",
              "      <td>Munich</td>\n",
              "      <td>0.3</td>\n",
              "      <td>19.4</td>\n",
              "      <td>German</td>\n",
              "      <td>520.0</td>\n",
              "      <td>31-12-2015</td>\n",
              "      <td>1450381</td>\n",
              "    </tr>\n",
              "  </tbody>\n",
              "</table>\n",
              "</div>"
            ],
            "text/plain": [
              "       Place  Temp_Jan  Temp_Jul  ... Altitude  MeasureDate Population\n",
              "0  Amsterdam       3.4      17.6  ...     -2.0          NaN    1351587\n",
              "1  Barcelona      11.8      25.7  ...     12.0          NaN    4740000\n",
              "2      Paris       5.0      20.6  ...      NaN   01-01-2013   10601122\n",
              "3     Geneva       1.5      20.2  ...    375.0   01-12-2015     198072\n",
              "4     Munich       0.3      19.4  ...    520.0   31-12-2015    1450381\n",
              "\n",
              "[5 rows x 7 columns]"
            ]
          },
          "metadata": {
            "tags": []
          },
          "execution_count": 43
        }
      ]
    },
    {
      "cell_type": "code",
      "metadata": {
        "colab": {
          "base_uri": "https://localhost:8080/",
          "height": 137
        },
        "id": "ZS4E04Cm2ALX",
        "outputId": "b285726d-c726-48f8-f512-bd5a9e89fba4"
      },
      "source": [
        "pd.isnull(df).head(3)"
      ],
      "execution_count": null,
      "outputs": [
        {
          "output_type": "execute_result",
          "data": {
            "text/html": [
              "<div>\n",
              "<style scoped>\n",
              "    .dataframe tbody tr th:only-of-type {\n",
              "        vertical-align: middle;\n",
              "    }\n",
              "\n",
              "    .dataframe tbody tr th {\n",
              "        vertical-align: top;\n",
              "    }\n",
              "\n",
              "    .dataframe thead th {\n",
              "        text-align: right;\n",
              "    }\n",
              "</style>\n",
              "<table border=\"1\" class=\"dataframe\">\n",
              "  <thead>\n",
              "    <tr style=\"text-align: right;\">\n",
              "      <th></th>\n",
              "      <th>Place</th>\n",
              "      <th>Temp_Jan</th>\n",
              "      <th>Temp_Jul</th>\n",
              "      <th>Language</th>\n",
              "      <th>Altitude</th>\n",
              "      <th>MeasureDate</th>\n",
              "      <th>Population</th>\n",
              "    </tr>\n",
              "  </thead>\n",
              "  <tbody>\n",
              "    <tr>\n",
              "      <th>0</th>\n",
              "      <td>False</td>\n",
              "      <td>False</td>\n",
              "      <td>False</td>\n",
              "      <td>False</td>\n",
              "      <td>False</td>\n",
              "      <td>True</td>\n",
              "      <td>False</td>\n",
              "    </tr>\n",
              "    <tr>\n",
              "      <th>1</th>\n",
              "      <td>False</td>\n",
              "      <td>False</td>\n",
              "      <td>False</td>\n",
              "      <td>False</td>\n",
              "      <td>False</td>\n",
              "      <td>True</td>\n",
              "      <td>False</td>\n",
              "    </tr>\n",
              "    <tr>\n",
              "      <th>2</th>\n",
              "      <td>False</td>\n",
              "      <td>False</td>\n",
              "      <td>False</td>\n",
              "      <td>False</td>\n",
              "      <td>True</td>\n",
              "      <td>False</td>\n",
              "      <td>False</td>\n",
              "    </tr>\n",
              "  </tbody>\n",
              "</table>\n",
              "</div>"
            ],
            "text/plain": [
              "   Place  Temp_Jan  Temp_Jul  Language  Altitude  MeasureDate  Population\n",
              "0  False     False     False     False     False         True       False\n",
              "1  False     False     False     False     False         True       False\n",
              "2  False     False     False     False      True        False       False"
            ]
          },
          "metadata": {
            "tags": []
          },
          "execution_count": 44
        }
      ]
    },
    {
      "cell_type": "code",
      "metadata": {
        "colab": {
          "base_uri": "https://localhost:8080/"
        },
        "id": "VqEfx1g22IAf",
        "outputId": "2b2704a4-7c32-40ab-b815-6ce528ea0580"
      },
      "source": [
        "df['Altitude'].count()"
      ],
      "execution_count": null,
      "outputs": [
        {
          "output_type": "execute_result",
          "data": {
            "text/plain": [
              "17"
            ]
          },
          "metadata": {
            "tags": []
          },
          "execution_count": 45
        }
      ]
    },
    {
      "cell_type": "code",
      "metadata": {
        "colab": {
          "base_uri": "https://localhost:8080/",
          "height": 467
        },
        "id": "OPpPVrNS2VGi",
        "outputId": "a9eb5d20-7713-479b-fde1-0f2347079745"
      },
      "source": [
        "df.dropna(how='any')"
      ],
      "execution_count": null,
      "outputs": [
        {
          "output_type": "execute_result",
          "data": {
            "text/html": [
              "<div>\n",
              "<style scoped>\n",
              "    .dataframe tbody tr th:only-of-type {\n",
              "        vertical-align: middle;\n",
              "    }\n",
              "\n",
              "    .dataframe tbody tr th {\n",
              "        vertical-align: top;\n",
              "    }\n",
              "\n",
              "    .dataframe thead th {\n",
              "        text-align: right;\n",
              "    }\n",
              "</style>\n",
              "<table border=\"1\" class=\"dataframe\">\n",
              "  <thead>\n",
              "    <tr style=\"text-align: right;\">\n",
              "      <th></th>\n",
              "      <th>Place</th>\n",
              "      <th>Temp_Jan</th>\n",
              "      <th>Temp_Jul</th>\n",
              "      <th>Language</th>\n",
              "      <th>Altitude</th>\n",
              "      <th>MeasureDate</th>\n",
              "      <th>Population</th>\n",
              "    </tr>\n",
              "  </thead>\n",
              "  <tbody>\n",
              "    <tr>\n",
              "      <th>3</th>\n",
              "      <td>Geneva</td>\n",
              "      <td>1.5</td>\n",
              "      <td>20.2</td>\n",
              "      <td>French</td>\n",
              "      <td>375.0</td>\n",
              "      <td>01-12-2015</td>\n",
              "      <td>198072</td>\n",
              "    </tr>\n",
              "    <tr>\n",
              "      <th>4</th>\n",
              "      <td>Munich</td>\n",
              "      <td>0.3</td>\n",
              "      <td>19.4</td>\n",
              "      <td>German</td>\n",
              "      <td>520.0</td>\n",
              "      <td>31-12-2015</td>\n",
              "      <td>1450381</td>\n",
              "    </tr>\n",
              "    <tr>\n",
              "      <th>6</th>\n",
              "      <td>Vienna</td>\n",
              "      <td>1.2</td>\n",
              "      <td>19.1</td>\n",
              "      <td>German</td>\n",
              "      <td>542.0</td>\n",
              "      <td>01-01-2017</td>\n",
              "      <td>2600000</td>\n",
              "    </tr>\n",
              "    <tr>\n",
              "      <th>7</th>\n",
              "      <td>Stockholm</td>\n",
              "      <td>-1.6</td>\n",
              "      <td>18.8</td>\n",
              "      <td>Swedish</td>\n",
              "      <td>0.0</td>\n",
              "      <td>NaT</td>\n",
              "      <td>1515017</td>\n",
              "    </tr>\n",
              "    <tr>\n",
              "      <th>8</th>\n",
              "      <td>Oslo</td>\n",
              "      <td>-2.9</td>\n",
              "      <td>17.7</td>\n",
              "      <td>Norwegian</td>\n",
              "      <td>23.0</td>\n",
              "      <td>2016-01-01</td>\n",
              "      <td>942084</td>\n",
              "    </tr>\n",
              "    <tr>\n",
              "      <th>10</th>\n",
              "      <td>Lulea</td>\n",
              "      <td>-5.1</td>\n",
              "      <td>20.7</td>\n",
              "      <td>Swedish</td>\n",
              "      <td>6.0</td>\n",
              "      <td>2014-12-31</td>\n",
              "      <td>75966</td>\n",
              "    </tr>\n",
              "    <tr>\n",
              "      <th>11</th>\n",
              "      <td>Edinburgh</td>\n",
              "      <td>7.0</td>\n",
              "      <td>19.1</td>\n",
              "      <td>English</td>\n",
              "      <td>47.0</td>\n",
              "      <td>NaT</td>\n",
              "      <td>1339380</td>\n",
              "    </tr>\n",
              "    <tr>\n",
              "      <th>12</th>\n",
              "      <td>Birmingham</td>\n",
              "      <td>6.7</td>\n",
              "      <td>21.3</td>\n",
              "      <td>English</td>\n",
              "      <td>140.0</td>\n",
              "      <td>NaT</td>\n",
              "      <td>2440986</td>\n",
              "    </tr>\n",
              "    <tr>\n",
              "      <th>17</th>\n",
              "      <td>Malaga</td>\n",
              "      <td>12.1</td>\n",
              "      <td>25.5</td>\n",
              "      <td>Spanish</td>\n",
              "      <td>11.0</td>\n",
              "      <td>NaT</td>\n",
              "      <td>569130</td>\n",
              "    </tr>\n",
              "    <tr>\n",
              "      <th>18</th>\n",
              "      <td>Porto</td>\n",
              "      <td>9.5</td>\n",
              "      <td>20.6</td>\n",
              "      <td>Portuguese</td>\n",
              "      <td>0.0</td>\n",
              "      <td>NaT</td>\n",
              "      <td>1774000</td>\n",
              "    </tr>\n",
              "    <tr>\n",
              "      <th>19</th>\n",
              "      <td>Venice</td>\n",
              "      <td>3.3</td>\n",
              "      <td>23.0</td>\n",
              "      <td>Italian</td>\n",
              "      <td>1.0</td>\n",
              "      <td>NaT</td>\n",
              "      <td>264579</td>\n",
              "    </tr>\n",
              "    <tr>\n",
              "      <th>20</th>\n",
              "      <td>Ajaccio</td>\n",
              "      <td>9.0</td>\n",
              "      <td>22.9</td>\n",
              "      <td>French</td>\n",
              "      <td>38.0</td>\n",
              "      <td>NaT</td>\n",
              "      <td>68587</td>\n",
              "    </tr>\n",
              "    <tr>\n",
              "      <th>21</th>\n",
              "      <td>Rijeka</td>\n",
              "      <td>5.8</td>\n",
              "      <td>23.1</td>\n",
              "      <td>Croatian</td>\n",
              "      <td>0.0</td>\n",
              "      <td>NaT</td>\n",
              "      <td>213666</td>\n",
              "    </tr>\n",
              "    <tr>\n",
              "      <th>22</th>\n",
              "      <td>Istanbul</td>\n",
              "      <td>5.7</td>\n",
              "      <td>22.9</td>\n",
              "      <td>Turkish</td>\n",
              "      <td>39.0</td>\n",
              "      <td>2016-12-31</td>\n",
              "      <td>14657434</td>\n",
              "    </tr>\n",
              "  </tbody>\n",
              "</table>\n",
              "</div>"
            ],
            "text/plain": [
              "         Place  Temp_Jan  Temp_Jul  ... Altitude  MeasureDate Population\n",
              "3       Geneva       1.5      20.2  ...    375.0   01-12-2015     198072\n",
              "4       Munich       0.3      19.4  ...    520.0   31-12-2015    1450381\n",
              "6       Vienna       1.2      19.1  ...    542.0   01-01-2017    2600000\n",
              "7    Stockholm      -1.6      18.8  ...      0.0          NaT    1515017\n",
              "8         Oslo      -2.9      17.7  ...     23.0   2016-01-01     942084\n",
              "10       Lulea      -5.1      20.7  ...      6.0   2014-12-31      75966\n",
              "11   Edinburgh       7.0      19.1  ...     47.0          NaT    1339380\n",
              "12  Birmingham       6.7      21.3  ...    140.0          NaT    2440986\n",
              "17      Malaga      12.1      25.5  ...     11.0          NaT     569130\n",
              "18       Porto       9.5      20.6  ...      0.0          NaT    1774000\n",
              "19      Venice       3.3      23.0  ...      1.0          NaT     264579\n",
              "20     Ajaccio       9.0      22.9  ...     38.0          NaT      68587\n",
              "21      Rijeka       5.8      23.1  ...      0.0          NaT     213666\n",
              "22    Istanbul       5.7      22.9  ...     39.0   2016-12-31   14657434\n",
              "\n",
              "[14 rows x 7 columns]"
            ]
          },
          "metadata": {
            "tags": []
          },
          "execution_count": 46
        }
      ]
    },
    {
      "cell_type": "code",
      "metadata": {
        "colab": {
          "base_uri": "https://localhost:8080/"
        },
        "id": "VY_qF99S3Apw",
        "outputId": "f1fdb32c-d14a-472b-c7b0-7cbc87ff7cba"
      },
      "source": [
        "df['Altitude'].describe()"
      ],
      "execution_count": null,
      "outputs": [
        {
          "output_type": "execute_result",
          "data": {
            "text/plain": [
              "count     17.000000\n",
              "mean     122.941176\n",
              "std      191.653160\n",
              "min       -2.000000\n",
              "25%        1.000000\n",
              "50%       23.000000\n",
              "75%      140.000000\n",
              "max      542.000000\n",
              "Name: Altitude, dtype: float64"
            ]
          },
          "metadata": {
            "tags": []
          },
          "execution_count": 47
        }
      ]
    },
    {
      "cell_type": "code",
      "metadata": {
        "id": "6Gwyvctt3SdA"
      },
      "source": [
        "df.loc[df['Altitude']>350,'Altitude']=np.nan"
      ],
      "execution_count": null,
      "outputs": []
    },
    {
      "cell_type": "code",
      "metadata": {
        "colab": {
          "base_uri": "https://localhost:8080/"
        },
        "id": "UvvB1aC337pQ",
        "outputId": "a95b5391-5954-48bb-c08a-5dc6eef7a1e3"
      },
      "source": [
        "df['Altitude']"
      ],
      "execution_count": null,
      "outputs": [
        {
          "output_type": "execute_result",
          "data": {
            "text/plain": [
              "0      -2.0\n",
              "1      12.0\n",
              "2       NaN\n",
              "3       NaN\n",
              "4       NaN\n",
              "5     338.0\n",
              "6       NaN\n",
              "7       0.0\n",
              "8      23.0\n",
              "9       NaN\n",
              "10      6.0\n",
              "11     47.0\n",
              "12    140.0\n",
              "13      NaN\n",
              "14      NaN\n",
              "15      NaN\n",
              "16      NaN\n",
              "17     11.0\n",
              "18      0.0\n",
              "19      1.0\n",
              "20     38.0\n",
              "21      0.0\n",
              "22     39.0\n",
              "Name: Altitude, dtype: float64"
            ]
          },
          "metadata": {
            "tags": []
          },
          "execution_count": 49
        }
      ]
    },
    {
      "cell_type": "markdown",
      "metadata": {
        "id": "E0jvt3RL5nkj"
      },
      "source": [
        "SORTING THE DATAFRAME"
      ]
    },
    {
      "cell_type": "code",
      "metadata": {
        "colab": {
          "base_uri": "https://localhost:8080/",
          "height": 137
        },
        "id": "1Lx22dng47zZ",
        "outputId": "f7d530fa-a5e9-4c40-b879-11faeb181142"
      },
      "source": [
        "df.sort_index(axis=1,ascending=True).head(3)\n"
      ],
      "execution_count": null,
      "outputs": [
        {
          "output_type": "execute_result",
          "data": {
            "text/html": [
              "<div>\n",
              "<style scoped>\n",
              "    .dataframe tbody tr th:only-of-type {\n",
              "        vertical-align: middle;\n",
              "    }\n",
              "\n",
              "    .dataframe tbody tr th {\n",
              "        vertical-align: top;\n",
              "    }\n",
              "\n",
              "    .dataframe thead th {\n",
              "        text-align: right;\n",
              "    }\n",
              "</style>\n",
              "<table border=\"1\" class=\"dataframe\">\n",
              "  <thead>\n",
              "    <tr style=\"text-align: right;\">\n",
              "      <th></th>\n",
              "      <th>Altitude</th>\n",
              "      <th>Language</th>\n",
              "      <th>MeasureDate</th>\n",
              "      <th>Place</th>\n",
              "      <th>Population</th>\n",
              "      <th>Temp_Jan</th>\n",
              "      <th>Temp_Jul</th>\n",
              "    </tr>\n",
              "  </thead>\n",
              "  <tbody>\n",
              "    <tr>\n",
              "      <th>0</th>\n",
              "      <td>-2.0</td>\n",
              "      <td>Dutch</td>\n",
              "      <td>NaN</td>\n",
              "      <td>Amsterdam</td>\n",
              "      <td>1351587</td>\n",
              "      <td>3.4</td>\n",
              "      <td>17.6</td>\n",
              "    </tr>\n",
              "    <tr>\n",
              "      <th>1</th>\n",
              "      <td>12.0</td>\n",
              "      <td>Catalan and Spanish</td>\n",
              "      <td>NaN</td>\n",
              "      <td>Barcelona</td>\n",
              "      <td>4740000</td>\n",
              "      <td>11.8</td>\n",
              "      <td>25.7</td>\n",
              "    </tr>\n",
              "    <tr>\n",
              "      <th>2</th>\n",
              "      <td>NaN</td>\n",
              "      <td>French</td>\n",
              "      <td>01-01-2013</td>\n",
              "      <td>Paris</td>\n",
              "      <td>10601122</td>\n",
              "      <td>5.0</td>\n",
              "      <td>20.6</td>\n",
              "    </tr>\n",
              "  </tbody>\n",
              "</table>\n",
              "</div>"
            ],
            "text/plain": [
              "   Altitude             Language MeasureDate  ... Population  Temp_Jan  Temp_Jul\n",
              "0      -2.0                Dutch         NaN  ...    1351587       3.4      17.6\n",
              "1      12.0  Catalan and Spanish         NaN  ...    4740000      11.8      25.7\n",
              "2       NaN               French  01-01-2013  ...   10601122       5.0      20.6\n",
              "\n",
              "[3 rows x 7 columns]"
            ]
          },
          "metadata": {
            "tags": []
          },
          "execution_count": 50
        }
      ]
    },
    {
      "cell_type": "code",
      "metadata": {
        "colab": {
          "base_uri": "https://localhost:8080/",
          "height": 737
        },
        "id": "0tAFJJER58WZ",
        "outputId": "838fd34b-12c9-4a6e-f296-6ac23b9c6158"
      },
      "source": [
        "df.sort_values(by='Place')"
      ],
      "execution_count": null,
      "outputs": [
        {
          "output_type": "execute_result",
          "data": {
            "text/html": [
              "<div>\n",
              "<style scoped>\n",
              "    .dataframe tbody tr th:only-of-type {\n",
              "        vertical-align: middle;\n",
              "    }\n",
              "\n",
              "    .dataframe tbody tr th {\n",
              "        vertical-align: top;\n",
              "    }\n",
              "\n",
              "    .dataframe thead th {\n",
              "        text-align: right;\n",
              "    }\n",
              "</style>\n",
              "<table border=\"1\" class=\"dataframe\">\n",
              "  <thead>\n",
              "    <tr style=\"text-align: right;\">\n",
              "      <th></th>\n",
              "      <th>Place</th>\n",
              "      <th>Temp_Jan</th>\n",
              "      <th>Temp_Jul</th>\n",
              "      <th>Language</th>\n",
              "      <th>Altitude</th>\n",
              "      <th>MeasureDate</th>\n",
              "      <th>Population</th>\n",
              "    </tr>\n",
              "  </thead>\n",
              "  <tbody>\n",
              "    <tr>\n",
              "      <th>20</th>\n",
              "      <td>Ajaccio</td>\n",
              "      <td>9.0</td>\n",
              "      <td>22.9</td>\n",
              "      <td>French</td>\n",
              "      <td>38.0</td>\n",
              "      <td>NaT</td>\n",
              "      <td>68587</td>\n",
              "    </tr>\n",
              "    <tr>\n",
              "      <th>0</th>\n",
              "      <td>Amsterdam</td>\n",
              "      <td>3.4</td>\n",
              "      <td>17.6</td>\n",
              "      <td>Dutch</td>\n",
              "      <td>-2.0</td>\n",
              "      <td>NaN</td>\n",
              "      <td>1351587</td>\n",
              "    </tr>\n",
              "    <tr>\n",
              "      <th>14</th>\n",
              "      <td>Antwerp</td>\n",
              "      <td>3.4</td>\n",
              "      <td>18.5</td>\n",
              "      <td>Dutch</td>\n",
              "      <td>NaN</td>\n",
              "      <td>2016-01-01</td>\n",
              "      <td>517042</td>\n",
              "    </tr>\n",
              "    <tr>\n",
              "      <th>5</th>\n",
              "      <td>Athens</td>\n",
              "      <td>9.9</td>\n",
              "      <td>28.5</td>\n",
              "      <td>Greek</td>\n",
              "      <td>338.0</td>\n",
              "      <td>NaN</td>\n",
              "      <td>3090508</td>\n",
              "    </tr>\n",
              "    <tr>\n",
              "      <th>1</th>\n",
              "      <td>Barcelona</td>\n",
              "      <td>11.8</td>\n",
              "      <td>25.7</td>\n",
              "      <td>Catalan and Spanish</td>\n",
              "      <td>12.0</td>\n",
              "      <td>NaN</td>\n",
              "      <td>4740000</td>\n",
              "    </tr>\n",
              "    <tr>\n",
              "      <th>12</th>\n",
              "      <td>Birmingham</td>\n",
              "      <td>6.7</td>\n",
              "      <td>21.3</td>\n",
              "      <td>English</td>\n",
              "      <td>140.0</td>\n",
              "      <td>NaT</td>\n",
              "      <td>2440986</td>\n",
              "    </tr>\n",
              "    <tr>\n",
              "      <th>16</th>\n",
              "      <td>Bordeaux</td>\n",
              "      <td>6.6</td>\n",
              "      <td>21.4</td>\n",
              "      <td>French</td>\n",
              "      <td>NaN</td>\n",
              "      <td>NaT</td>\n",
              "      <td>851071</td>\n",
              "    </tr>\n",
              "    <tr>\n",
              "      <th>13</th>\n",
              "      <td>Cork</td>\n",
              "      <td>5.6</td>\n",
              "      <td>15.3</td>\n",
              "      <td>English</td>\n",
              "      <td>NaN</td>\n",
              "      <td>NaT</td>\n",
              "      <td>208669</td>\n",
              "    </tr>\n",
              "    <tr>\n",
              "      <th>11</th>\n",
              "      <td>Edinburgh</td>\n",
              "      <td>7.0</td>\n",
              "      <td>19.1</td>\n",
              "      <td>English</td>\n",
              "      <td>47.0</td>\n",
              "      <td>NaT</td>\n",
              "      <td>1339380</td>\n",
              "    </tr>\n",
              "    <tr>\n",
              "      <th>3</th>\n",
              "      <td>Geneva</td>\n",
              "      <td>1.5</td>\n",
              "      <td>20.2</td>\n",
              "      <td>French</td>\n",
              "      <td>NaN</td>\n",
              "      <td>01-12-2015</td>\n",
              "      <td>198072</td>\n",
              "    </tr>\n",
              "    <tr>\n",
              "      <th>9</th>\n",
              "      <td>Helsinki</td>\n",
              "      <td>-3.9</td>\n",
              "      <td>17.8</td>\n",
              "      <td>Finnish</td>\n",
              "      <td>NaN</td>\n",
              "      <td>2016-03-31</td>\n",
              "      <td>1231595</td>\n",
              "    </tr>\n",
              "    <tr>\n",
              "      <th>22</th>\n",
              "      <td>Istanbul</td>\n",
              "      <td>5.7</td>\n",
              "      <td>22.9</td>\n",
              "      <td>Turkish</td>\n",
              "      <td>39.0</td>\n",
              "      <td>2016-12-31</td>\n",
              "      <td>14657434</td>\n",
              "    </tr>\n",
              "    <tr>\n",
              "      <th>15</th>\n",
              "      <td>Lille</td>\n",
              "      <td>3.6</td>\n",
              "      <td>18.6</td>\n",
              "      <td>French</td>\n",
              "      <td>NaN</td>\n",
              "      <td>NaT</td>\n",
              "      <td>1015744</td>\n",
              "    </tr>\n",
              "    <tr>\n",
              "      <th>10</th>\n",
              "      <td>Lulea</td>\n",
              "      <td>-5.1</td>\n",
              "      <td>20.7</td>\n",
              "      <td>Swedish</td>\n",
              "      <td>6.0</td>\n",
              "      <td>2014-12-31</td>\n",
              "      <td>75966</td>\n",
              "    </tr>\n",
              "    <tr>\n",
              "      <th>17</th>\n",
              "      <td>Malaga</td>\n",
              "      <td>12.1</td>\n",
              "      <td>25.5</td>\n",
              "      <td>Spanish</td>\n",
              "      <td>11.0</td>\n",
              "      <td>NaT</td>\n",
              "      <td>569130</td>\n",
              "    </tr>\n",
              "    <tr>\n",
              "      <th>4</th>\n",
              "      <td>Munich</td>\n",
              "      <td>0.3</td>\n",
              "      <td>19.4</td>\n",
              "      <td>German</td>\n",
              "      <td>NaN</td>\n",
              "      <td>31-12-2015</td>\n",
              "      <td>1450381</td>\n",
              "    </tr>\n",
              "    <tr>\n",
              "      <th>8</th>\n",
              "      <td>Oslo</td>\n",
              "      <td>-2.9</td>\n",
              "      <td>17.7</td>\n",
              "      <td>Norwegian</td>\n",
              "      <td>23.0</td>\n",
              "      <td>2016-01-01</td>\n",
              "      <td>942084</td>\n",
              "    </tr>\n",
              "    <tr>\n",
              "      <th>2</th>\n",
              "      <td>Paris</td>\n",
              "      <td>5.0</td>\n",
              "      <td>20.6</td>\n",
              "      <td>French</td>\n",
              "      <td>NaN</td>\n",
              "      <td>01-01-2013</td>\n",
              "      <td>10601122</td>\n",
              "    </tr>\n",
              "    <tr>\n",
              "      <th>18</th>\n",
              "      <td>Porto</td>\n",
              "      <td>9.5</td>\n",
              "      <td>20.6</td>\n",
              "      <td>Portuguese</td>\n",
              "      <td>0.0</td>\n",
              "      <td>NaT</td>\n",
              "      <td>1774000</td>\n",
              "    </tr>\n",
              "    <tr>\n",
              "      <th>21</th>\n",
              "      <td>Rijeka</td>\n",
              "      <td>5.8</td>\n",
              "      <td>23.1</td>\n",
              "      <td>Croatian</td>\n",
              "      <td>0.0</td>\n",
              "      <td>NaT</td>\n",
              "      <td>213666</td>\n",
              "    </tr>\n",
              "    <tr>\n",
              "      <th>7</th>\n",
              "      <td>Stockholm</td>\n",
              "      <td>-1.6</td>\n",
              "      <td>18.8</td>\n",
              "      <td>Swedish</td>\n",
              "      <td>0.0</td>\n",
              "      <td>NaT</td>\n",
              "      <td>1515017</td>\n",
              "    </tr>\n",
              "    <tr>\n",
              "      <th>19</th>\n",
              "      <td>Venice</td>\n",
              "      <td>3.3</td>\n",
              "      <td>23.0</td>\n",
              "      <td>Italian</td>\n",
              "      <td>1.0</td>\n",
              "      <td>NaT</td>\n",
              "      <td>264579</td>\n",
              "    </tr>\n",
              "    <tr>\n",
              "      <th>6</th>\n",
              "      <td>Vienna</td>\n",
              "      <td>1.2</td>\n",
              "      <td>19.1</td>\n",
              "      <td>German</td>\n",
              "      <td>NaN</td>\n",
              "      <td>01-01-2017</td>\n",
              "      <td>2600000</td>\n",
              "    </tr>\n",
              "  </tbody>\n",
              "</table>\n",
              "</div>"
            ],
            "text/plain": [
              "         Place  Temp_Jan  Temp_Jul  ... Altitude  MeasureDate Population\n",
              "20     Ajaccio       9.0      22.9  ...     38.0          NaT      68587\n",
              "0    Amsterdam       3.4      17.6  ...     -2.0          NaN    1351587\n",
              "14     Antwerp       3.4      18.5  ...      NaN   2016-01-01     517042\n",
              "5       Athens       9.9      28.5  ...    338.0          NaN    3090508\n",
              "1    Barcelona      11.8      25.7  ...     12.0          NaN    4740000\n",
              "12  Birmingham       6.7      21.3  ...    140.0          NaT    2440986\n",
              "16    Bordeaux       6.6      21.4  ...      NaN          NaT     851071\n",
              "13        Cork       5.6      15.3  ...      NaN          NaT     208669\n",
              "11   Edinburgh       7.0      19.1  ...     47.0          NaT    1339380\n",
              "3       Geneva       1.5      20.2  ...      NaN   01-12-2015     198072\n",
              "9     Helsinki      -3.9      17.8  ...      NaN   2016-03-31    1231595\n",
              "22    Istanbul       5.7      22.9  ...     39.0   2016-12-31   14657434\n",
              "15       Lille       3.6      18.6  ...      NaN          NaT    1015744\n",
              "10       Lulea      -5.1      20.7  ...      6.0   2014-12-31      75966\n",
              "17      Malaga      12.1      25.5  ...     11.0          NaT     569130\n",
              "4       Munich       0.3      19.4  ...      NaN   31-12-2015    1450381\n",
              "8         Oslo      -2.9      17.7  ...     23.0   2016-01-01     942084\n",
              "2        Paris       5.0      20.6  ...      NaN   01-01-2013   10601122\n",
              "18       Porto       9.5      20.6  ...      0.0          NaT    1774000\n",
              "21      Rijeka       5.8      23.1  ...      0.0          NaT     213666\n",
              "7    Stockholm      -1.6      18.8  ...      0.0          NaT    1515017\n",
              "19      Venice       3.3      23.0  ...      1.0          NaT     264579\n",
              "6       Vienna       1.2      19.1  ...      NaN   01-01-2017    2600000\n",
              "\n",
              "[23 rows x 7 columns]"
            ]
          },
          "metadata": {
            "tags": []
          },
          "execution_count": 51
        }
      ]
    },
    {
      "cell_type": "code",
      "metadata": {
        "id": "nGy2Y2Uv6Io7"
      },
      "source": [
        ""
      ],
      "execution_count": null,
      "outputs": []
    },
    {
      "cell_type": "markdown",
      "metadata": {
        "id": "TTthpEGb6z2V"
      },
      "source": [
        "DATA SELECTION BY POSITION"
      ]
    },
    {
      "cell_type": "code",
      "metadata": {
        "colab": {
          "base_uri": "https://localhost:8080/",
          "height": 47
        },
        "id": "3Ij2cR7R64Nv",
        "outputId": "f3a5d00d-e086-4d14-8131-ccfc4408c1c1"
      },
      "source": [
        "df.iloc[0:0]"
      ],
      "execution_count": null,
      "outputs": [
        {
          "output_type": "execute_result",
          "data": {
            "text/html": [
              "<div>\n",
              "<style scoped>\n",
              "    .dataframe tbody tr th:only-of-type {\n",
              "        vertical-align: middle;\n",
              "    }\n",
              "\n",
              "    .dataframe tbody tr th {\n",
              "        vertical-align: top;\n",
              "    }\n",
              "\n",
              "    .dataframe thead th {\n",
              "        text-align: right;\n",
              "    }\n",
              "</style>\n",
              "<table border=\"1\" class=\"dataframe\">\n",
              "  <thead>\n",
              "    <tr style=\"text-align: right;\">\n",
              "      <th></th>\n",
              "      <th>Place</th>\n",
              "      <th>Temp_Jan</th>\n",
              "      <th>Temp_Jul</th>\n",
              "      <th>Language</th>\n",
              "      <th>Altitude</th>\n",
              "      <th>MeasureDate</th>\n",
              "      <th>Population</th>\n",
              "    </tr>\n",
              "  </thead>\n",
              "  <tbody>\n",
              "  </tbody>\n",
              "</table>\n",
              "</div>"
            ],
            "text/plain": [
              "Empty DataFrame\n",
              "Columns: [Place, Temp_Jan, Temp_Jul, Language, Altitude, MeasureDate, Population]\n",
              "Index: []"
            ]
          },
          "metadata": {
            "tags": []
          },
          "execution_count": 52
        }
      ]
    },
    {
      "cell_type": "code",
      "metadata": {
        "colab": {
          "base_uri": "https://localhost:8080/",
          "height": 77
        },
        "id": "CQA2Mhiv69EH",
        "outputId": "34c24d89-4b26-4937-c170-8a42ee21adac"
      },
      "source": [
        "df.iloc[0:1,]"
      ],
      "execution_count": null,
      "outputs": [
        {
          "output_type": "execute_result",
          "data": {
            "text/html": [
              "<div>\n",
              "<style scoped>\n",
              "    .dataframe tbody tr th:only-of-type {\n",
              "        vertical-align: middle;\n",
              "    }\n",
              "\n",
              "    .dataframe tbody tr th {\n",
              "        vertical-align: top;\n",
              "    }\n",
              "\n",
              "    .dataframe thead th {\n",
              "        text-align: right;\n",
              "    }\n",
              "</style>\n",
              "<table border=\"1\" class=\"dataframe\">\n",
              "  <thead>\n",
              "    <tr style=\"text-align: right;\">\n",
              "      <th></th>\n",
              "      <th>Place</th>\n",
              "      <th>Temp_Jan</th>\n",
              "      <th>Temp_Jul</th>\n",
              "      <th>Language</th>\n",
              "      <th>Altitude</th>\n",
              "      <th>MeasureDate</th>\n",
              "      <th>Population</th>\n",
              "    </tr>\n",
              "  </thead>\n",
              "  <tbody>\n",
              "    <tr>\n",
              "      <th>0</th>\n",
              "      <td>Amsterdam</td>\n",
              "      <td>3.4</td>\n",
              "      <td>17.6</td>\n",
              "      <td>Dutch</td>\n",
              "      <td>-2.0</td>\n",
              "      <td>NaN</td>\n",
              "      <td>1351587</td>\n",
              "    </tr>\n",
              "  </tbody>\n",
              "</table>\n",
              "</div>"
            ],
            "text/plain": [
              "       Place  Temp_Jan  Temp_Jul Language  Altitude MeasureDate  Population\n",
              "0  Amsterdam       3.4      17.6    Dutch      -2.0         NaN     1351587"
            ]
          },
          "metadata": {
            "tags": []
          },
          "execution_count": 53
        }
      ]
    },
    {
      "cell_type": "markdown",
      "metadata": {
        "id": "i0KlTbQk7SVj"
      },
      "source": [
        "**Conditional Data Selection** "
      ]
    },
    {
      "cell_type": "code",
      "metadata": {
        "colab": {
          "base_uri": "https://localhost:8080/",
          "height": 467
        },
        "id": "uudiQHO67DZp",
        "outputId": "bb40ca74-8f94-4fc1-ed56-312a7a872213"
      },
      "source": [
        "df[(df.Temp_Jan>4)|(df.Temp_Jul<10)]"
      ],
      "execution_count": null,
      "outputs": [
        {
          "output_type": "execute_result",
          "data": {
            "text/html": [
              "<div>\n",
              "<style scoped>\n",
              "    .dataframe tbody tr th:only-of-type {\n",
              "        vertical-align: middle;\n",
              "    }\n",
              "\n",
              "    .dataframe tbody tr th {\n",
              "        vertical-align: top;\n",
              "    }\n",
              "\n",
              "    .dataframe thead th {\n",
              "        text-align: right;\n",
              "    }\n",
              "</style>\n",
              "<table border=\"1\" class=\"dataframe\">\n",
              "  <thead>\n",
              "    <tr style=\"text-align: right;\">\n",
              "      <th></th>\n",
              "      <th>Place</th>\n",
              "      <th>Temp_Jan</th>\n",
              "      <th>Temp_Jul</th>\n",
              "      <th>Language</th>\n",
              "      <th>Altitude</th>\n",
              "      <th>MeasureDate</th>\n",
              "      <th>Population</th>\n",
              "    </tr>\n",
              "  </thead>\n",
              "  <tbody>\n",
              "    <tr>\n",
              "      <th>1</th>\n",
              "      <td>Barcelona</td>\n",
              "      <td>11.8</td>\n",
              "      <td>25.7</td>\n",
              "      <td>Catalan and Spanish</td>\n",
              "      <td>12.0</td>\n",
              "      <td>NaN</td>\n",
              "      <td>4740000.0</td>\n",
              "    </tr>\n",
              "    <tr>\n",
              "      <th>2</th>\n",
              "      <td>Paris</td>\n",
              "      <td>5.0</td>\n",
              "      <td>20.6</td>\n",
              "      <td>French</td>\n",
              "      <td>NaN</td>\n",
              "      <td>01-01-2013</td>\n",
              "      <td>10601122.0</td>\n",
              "    </tr>\n",
              "    <tr>\n",
              "      <th>5</th>\n",
              "      <td>Athens</td>\n",
              "      <td>9.9</td>\n",
              "      <td>28.5</td>\n",
              "      <td>Greek</td>\n",
              "      <td>338.0</td>\n",
              "      <td>NaN</td>\n",
              "      <td>3090508.0</td>\n",
              "    </tr>\n",
              "    <tr>\n",
              "      <th>11</th>\n",
              "      <td>Edinburgh</td>\n",
              "      <td>7.0</td>\n",
              "      <td>19.1</td>\n",
              "      <td>English</td>\n",
              "      <td>47.0</td>\n",
              "      <td>NaT</td>\n",
              "      <td>1339380.0</td>\n",
              "    </tr>\n",
              "    <tr>\n",
              "      <th>12</th>\n",
              "      <td>Birmingham</td>\n",
              "      <td>6.7</td>\n",
              "      <td>21.3</td>\n",
              "      <td>English</td>\n",
              "      <td>140.0</td>\n",
              "      <td>NaT</td>\n",
              "      <td>2440986.0</td>\n",
              "    </tr>\n",
              "    <tr>\n",
              "      <th>13</th>\n",
              "      <td>Cork</td>\n",
              "      <td>5.6</td>\n",
              "      <td>15.3</td>\n",
              "      <td>English</td>\n",
              "      <td>NaN</td>\n",
              "      <td>NaT</td>\n",
              "      <td>208669.0</td>\n",
              "    </tr>\n",
              "    <tr>\n",
              "      <th>16</th>\n",
              "      <td>Bordeaux</td>\n",
              "      <td>6.6</td>\n",
              "      <td>21.4</td>\n",
              "      <td>French</td>\n",
              "      <td>NaN</td>\n",
              "      <td>NaT</td>\n",
              "      <td>851071.0</td>\n",
              "    </tr>\n",
              "    <tr>\n",
              "      <th>17</th>\n",
              "      <td>Malaga</td>\n",
              "      <td>12.1</td>\n",
              "      <td>25.5</td>\n",
              "      <td>Spanish</td>\n",
              "      <td>11.0</td>\n",
              "      <td>NaT</td>\n",
              "      <td>569130.0</td>\n",
              "    </tr>\n",
              "    <tr>\n",
              "      <th>18</th>\n",
              "      <td>Porto</td>\n",
              "      <td>9.5</td>\n",
              "      <td>20.6</td>\n",
              "      <td>Portuguese</td>\n",
              "      <td>0.0</td>\n",
              "      <td>NaT</td>\n",
              "      <td>1774000.0</td>\n",
              "    </tr>\n",
              "    <tr>\n",
              "      <th>20</th>\n",
              "      <td>Ajaccio</td>\n",
              "      <td>9.0</td>\n",
              "      <td>22.9</td>\n",
              "      <td>French</td>\n",
              "      <td>38.0</td>\n",
              "      <td>NaT</td>\n",
              "      <td>68587.0</td>\n",
              "    </tr>\n",
              "    <tr>\n",
              "      <th>21</th>\n",
              "      <td>Rijeka</td>\n",
              "      <td>5.8</td>\n",
              "      <td>23.1</td>\n",
              "      <td>Croatian</td>\n",
              "      <td>0.0</td>\n",
              "      <td>NaT</td>\n",
              "      <td>213666.0</td>\n",
              "    </tr>\n",
              "    <tr>\n",
              "      <th>22</th>\n",
              "      <td>Istanbul</td>\n",
              "      <td>5.7</td>\n",
              "      <td>22.9</td>\n",
              "      <td>Turkish</td>\n",
              "      <td>39.0</td>\n",
              "      <td>2016-12-31</td>\n",
              "      <td>14657434.0</td>\n",
              "    </tr>\n",
              "    <tr>\n",
              "      <th>23</th>\n",
              "      <td>rome</td>\n",
              "      <td>7.5</td>\n",
              "      <td>24.1</td>\n",
              "      <td>italian</td>\n",
              "      <td>21.0</td>\n",
              "      <td>NaN</td>\n",
              "      <td>234555454.0</td>\n",
              "    </tr>\n",
              "    <tr>\n",
              "      <th>24</th>\n",
              "      <td>Madrid</td>\n",
              "      <td>6.3</td>\n",
              "      <td>25.6</td>\n",
              "      <td>Spanish</td>\n",
              "      <td>667.0</td>\n",
              "      <td>NaN</td>\n",
              "      <td>6240000.0</td>\n",
              "    </tr>\n",
              "  </tbody>\n",
              "</table>\n",
              "</div>"
            ],
            "text/plain": [
              "         Place  Temp_Jan  Temp_Jul  ... Altitude  MeasureDate   Population\n",
              "1    Barcelona      11.8      25.7  ...     12.0          NaN    4740000.0\n",
              "2        Paris       5.0      20.6  ...      NaN   01-01-2013   10601122.0\n",
              "5       Athens       9.9      28.5  ...    338.0          NaN    3090508.0\n",
              "11   Edinburgh       7.0      19.1  ...     47.0          NaT    1339380.0\n",
              "12  Birmingham       6.7      21.3  ...    140.0          NaT    2440986.0\n",
              "13        Cork       5.6      15.3  ...      NaN          NaT     208669.0\n",
              "16    Bordeaux       6.6      21.4  ...      NaN          NaT     851071.0\n",
              "17      Malaga      12.1      25.5  ...     11.0          NaT     569130.0\n",
              "18       Porto       9.5      20.6  ...      0.0          NaT    1774000.0\n",
              "20     Ajaccio       9.0      22.9  ...     38.0          NaT      68587.0\n",
              "21      Rijeka       5.8      23.1  ...      0.0          NaT     213666.0\n",
              "22    Istanbul       5.7      22.9  ...     39.0   2016-12-31   14657434.0\n",
              "23        rome       7.5      24.1  ...     21.0          NaN  234555454.0\n",
              "24      Madrid       6.3      25.6  ...    667.0          NaN    6240000.0\n",
              "\n",
              "[14 rows x 7 columns]"
            ]
          },
          "metadata": {
            "tags": []
          },
          "execution_count": 104
        }
      ]
    },
    {
      "cell_type": "code",
      "metadata": {
        "id": "rstsEXNT72AC"
      },
      "source": [
        ""
      ],
      "execution_count": null,
      "outputs": []
    },
    {
      "cell_type": "markdown",
      "metadata": {
        "id": "UZH9WCvf8Fkm"
      },
      "source": [
        "SELECTION BASED ON STRINGS"
      ]
    },
    {
      "cell_type": "markdown",
      "metadata": {
        "id": "r5QfQ_yX8lYh"
      },
      "source": [
        "Imagine that you have a very large dataset, and you wanted to check data for the city Paris. Of course by alphabetically arranging the data (as we have done) it is not that difficult to find back the data. But in some cases you would need a search function. To select a row based on a value in a categorical variable. So if we want to find back the \"Paris\" data, do the following:"
      ]
    },
    {
      "cell_type": "code",
      "metadata": {
        "colab": {
          "base_uri": "https://localhost:8080/",
          "height": 77
        },
        "id": "qystJpC38rEI",
        "outputId": "afb6a199-504c-46db-e3ca-1b02535ffc45"
      },
      "source": [
        "df[df['Place'].str.contains('Paris')]"
      ],
      "execution_count": null,
      "outputs": [
        {
          "output_type": "execute_result",
          "data": {
            "text/html": [
              "<div>\n",
              "<style scoped>\n",
              "    .dataframe tbody tr th:only-of-type {\n",
              "        vertical-align: middle;\n",
              "    }\n",
              "\n",
              "    .dataframe tbody tr th {\n",
              "        vertical-align: top;\n",
              "    }\n",
              "\n",
              "    .dataframe thead th {\n",
              "        text-align: right;\n",
              "    }\n",
              "</style>\n",
              "<table border=\"1\" class=\"dataframe\">\n",
              "  <thead>\n",
              "    <tr style=\"text-align: right;\">\n",
              "      <th></th>\n",
              "      <th>Place</th>\n",
              "      <th>Temp_Jan</th>\n",
              "      <th>Temp_Jul</th>\n",
              "      <th>Language</th>\n",
              "      <th>Altitude</th>\n",
              "      <th>MeasureDate</th>\n",
              "      <th>Population</th>\n",
              "    </tr>\n",
              "  </thead>\n",
              "  <tbody>\n",
              "    <tr>\n",
              "      <th>2</th>\n",
              "      <td>Paris</td>\n",
              "      <td>5.0</td>\n",
              "      <td>20.6</td>\n",
              "      <td>French</td>\n",
              "      <td>NaN</td>\n",
              "      <td>01-01-2013</td>\n",
              "      <td>10601122</td>\n",
              "    </tr>\n",
              "  </tbody>\n",
              "</table>\n",
              "</div>"
            ],
            "text/plain": [
              "   Place  Temp_Jan  Temp_Jul Language  Altitude MeasureDate  Population\n",
              "2  Paris       5.0      20.6   French       NaN  01-01-2013    10601122"
            ]
          },
          "metadata": {
            "tags": []
          },
          "execution_count": 55
        }
      ]
    },
    {
      "cell_type": "code",
      "metadata": {
        "colab": {
          "base_uri": "https://localhost:8080/",
          "height": 197
        },
        "id": "TbiuVb0B814B",
        "outputId": "b9dc1fbd-33b0-4b59-c90e-81741eebf538"
      },
      "source": [
        "df[df['Language'].str.contains('French')]"
      ],
      "execution_count": null,
      "outputs": [
        {
          "output_type": "execute_result",
          "data": {
            "text/html": [
              "<div>\n",
              "<style scoped>\n",
              "    .dataframe tbody tr th:only-of-type {\n",
              "        vertical-align: middle;\n",
              "    }\n",
              "\n",
              "    .dataframe tbody tr th {\n",
              "        vertical-align: top;\n",
              "    }\n",
              "\n",
              "    .dataframe thead th {\n",
              "        text-align: right;\n",
              "    }\n",
              "</style>\n",
              "<table border=\"1\" class=\"dataframe\">\n",
              "  <thead>\n",
              "    <tr style=\"text-align: right;\">\n",
              "      <th></th>\n",
              "      <th>Place</th>\n",
              "      <th>Temp_Jan</th>\n",
              "      <th>Temp_Jul</th>\n",
              "      <th>Language</th>\n",
              "      <th>Altitude</th>\n",
              "      <th>MeasureDate</th>\n",
              "      <th>Population</th>\n",
              "    </tr>\n",
              "  </thead>\n",
              "  <tbody>\n",
              "    <tr>\n",
              "      <th>2</th>\n",
              "      <td>Paris</td>\n",
              "      <td>5.0</td>\n",
              "      <td>20.6</td>\n",
              "      <td>French</td>\n",
              "      <td>NaN</td>\n",
              "      <td>01-01-2013</td>\n",
              "      <td>10601122</td>\n",
              "    </tr>\n",
              "    <tr>\n",
              "      <th>3</th>\n",
              "      <td>Geneva</td>\n",
              "      <td>1.5</td>\n",
              "      <td>20.2</td>\n",
              "      <td>French</td>\n",
              "      <td>NaN</td>\n",
              "      <td>01-12-2015</td>\n",
              "      <td>198072</td>\n",
              "    </tr>\n",
              "    <tr>\n",
              "      <th>15</th>\n",
              "      <td>Lille</td>\n",
              "      <td>3.6</td>\n",
              "      <td>18.6</td>\n",
              "      <td>French</td>\n",
              "      <td>NaN</td>\n",
              "      <td>NaT</td>\n",
              "      <td>1015744</td>\n",
              "    </tr>\n",
              "    <tr>\n",
              "      <th>16</th>\n",
              "      <td>Bordeaux</td>\n",
              "      <td>6.6</td>\n",
              "      <td>21.4</td>\n",
              "      <td>French</td>\n",
              "      <td>NaN</td>\n",
              "      <td>NaT</td>\n",
              "      <td>851071</td>\n",
              "    </tr>\n",
              "    <tr>\n",
              "      <th>20</th>\n",
              "      <td>Ajaccio</td>\n",
              "      <td>9.0</td>\n",
              "      <td>22.9</td>\n",
              "      <td>French</td>\n",
              "      <td>38.0</td>\n",
              "      <td>NaT</td>\n",
              "      <td>68587</td>\n",
              "    </tr>\n",
              "  </tbody>\n",
              "</table>\n",
              "</div>"
            ],
            "text/plain": [
              "       Place  Temp_Jan  Temp_Jul Language  Altitude MeasureDate  Population\n",
              "2      Paris       5.0      20.6   French       NaN  01-01-2013    10601122\n",
              "3     Geneva       1.5      20.2   French       NaN  01-12-2015      198072\n",
              "15     Lille       3.6      18.6   French       NaN         NaT     1015744\n",
              "16  Bordeaux       6.6      21.4   French       NaN         NaT      851071\n",
              "20   Ajaccio       9.0      22.9   French      38.0         NaT       68587"
            ]
          },
          "metadata": {
            "tags": []
          },
          "execution_count": 56
        }
      ]
    },
    {
      "cell_type": "markdown",
      "metadata": {
        "id": "ZuOUwg5T9K4X"
      },
      "source": [
        "ADDING SINGLE ROWS\n"
      ]
    },
    {
      "cell_type": "code",
      "metadata": {
        "id": "-RG3sczh9O6Y"
      },
      "source": [
        "df.loc[len(df)+1,:]=['rome',7.5,24.1,'italian',21,np.nan,2355454]"
      ],
      "execution_count": null,
      "outputs": []
    },
    {
      "cell_type": "code",
      "metadata": {
        "colab": {
          "base_uri": "https://localhost:8080/",
          "height": 77
        },
        "id": "OwZrc3Yw-Rpp",
        "outputId": "52442339-0a8b-40f5-d4dc-97455c046763"
      },
      "source": [
        "df[df['Place'].str.contains('rome')]"
      ],
      "execution_count": null,
      "outputs": [
        {
          "output_type": "execute_result",
          "data": {
            "text/html": [
              "<div>\n",
              "<style scoped>\n",
              "    .dataframe tbody tr th:only-of-type {\n",
              "        vertical-align: middle;\n",
              "    }\n",
              "\n",
              "    .dataframe tbody tr th {\n",
              "        vertical-align: top;\n",
              "    }\n",
              "\n",
              "    .dataframe thead th {\n",
              "        text-align: right;\n",
              "    }\n",
              "</style>\n",
              "<table border=\"1\" class=\"dataframe\">\n",
              "  <thead>\n",
              "    <tr style=\"text-align: right;\">\n",
              "      <th></th>\n",
              "      <th>Place</th>\n",
              "      <th>Temp_Jan</th>\n",
              "      <th>Temp_Jul</th>\n",
              "      <th>Language</th>\n",
              "      <th>Altitude</th>\n",
              "      <th>MeasureDate</th>\n",
              "      <th>Population</th>\n",
              "    </tr>\n",
              "  </thead>\n",
              "  <tbody>\n",
              "    <tr>\n",
              "      <th>24</th>\n",
              "      <td>rome</td>\n",
              "      <td>7.5</td>\n",
              "      <td>24.1</td>\n",
              "      <td>italian</td>\n",
              "      <td>21.0</td>\n",
              "      <td>NaN</td>\n",
              "      <td>234555454.0</td>\n",
              "    </tr>\n",
              "  </tbody>\n",
              "</table>\n",
              "</div>"
            ],
            "text/plain": [
              "   Place  Temp_Jan  Temp_Jul Language  Altitude MeasureDate   Population\n",
              "24  rome       7.5      24.1  italian      21.0         NaN  234555454.0"
            ]
          },
          "metadata": {
            "tags": []
          },
          "execution_count": 58
        }
      ]
    },
    {
      "cell_type": "code",
      "metadata": {
        "id": "Y3qqF-E--dBh"
      },
      "source": [
        "newrow = pd.Series(['Madrid', 6.3, 25.6, 'Spanish', 667, np.nan, 6240000], index= ['Place', 'Temp_Jan', 'Temp_Jul', 'Language', 'Altitude', 'MeasureDate', 'Population'])"
      ],
      "execution_count": null,
      "outputs": []
    },
    {
      "cell_type": "code",
      "metadata": {
        "id": "9tr0w39m-ia5"
      },
      "source": [
        "df=df.append(newrow,ignore_index=True)"
      ],
      "execution_count": null,
      "outputs": []
    },
    {
      "cell_type": "code",
      "metadata": {
        "id": "bsPR1yTi-rrR"
      },
      "source": [
        ""
      ],
      "execution_count": null,
      "outputs": []
    },
    {
      "cell_type": "markdown",
      "metadata": {
        "id": "5Ubk1mpt-yiQ"
      },
      "source": [
        "EXPLORATORY DATA ANALYSIS"
      ]
    },
    {
      "cell_type": "code",
      "metadata": {
        "id": "WQsdDaox-5zA"
      },
      "source": [
        "sns.reset_orig()"
      ],
      "execution_count": null,
      "outputs": []
    },
    {
      "cell_type": "code",
      "metadata": {
        "id": "1otmz50R_ixZ",
        "colab": {
          "base_uri": "https://localhost:8080/",
          "height": 386
        },
        "outputId": "fe6f28ba-aef5-4ee5-a030-2cb487bad17c"
      },
      "source": [
        "sns.displot(data=df['Temp_Jan'],kde=True)"
      ],
      "execution_count": null,
      "outputs": [
        {
          "output_type": "execute_result",
          "data": {
            "text/plain": [
              "<seaborn.axisgrid.FacetGrid at 0x7f8de25df2d0>"
            ]
          },
          "metadata": {},
          "execution_count": 40
        },
        {
          "output_type": "display_data",
          "data": {
            "image/png": "[encoded data removed]",
            "text/plain": [
              "<Figure size 360x360 with 1 Axes>"
            ]
          },
          "metadata": {
            "needs_background": "light"
          }
        }
      ]
    },
    {
      "cell_type": "code",
      "metadata": {
        "id": "6y5p7E9q0OFT",
        "colab": {
          "base_uri": "https://localhost:8080/",
          "height": 476
        },
        "outputId": "1869be17-45b1-4151-9f4b-536faabfaa84"
      },
      "source": [
        "#category plot using catplot of seaborn\n",
        "plt.figure(figsize = (15,8))\n",
        "ax=sns.catplot(data=df, kind=\"swarm\", x=\"Language\", y=\"Altitude\", hue=\"Temp_Jan\")\n",
        "plt.xticks(rotation=30)\n"
      ],
      "execution_count": null,
      "outputs": [
        {
          "output_type": "execute_result",
          "data": {
            "text/plain": [
              "(array([ 0,  1,  2,  3,  4,  5,  6,  7,  8,  9, 10, 11, 12, 13]),\n",
              " <a list of 14 Text major ticklabel objects>)"
            ]
          },
          "metadata": {},
          "execution_count": 48
        },
        {
          "output_type": "display_data",
          "data": {
            "text/plain": [
              "<Figure size 1080x576 with 0 Axes>"
            ]
          },
          "metadata": {}
        },
        {
          "output_type": "display_data",
          "data": {
            "image/png": "[encoded data removed]",
            "text/plain": [
              "<Figure size 418.375x360 with 1 Axes>"
            ]
          },
          "metadata": {
            "needs_background": "light"
          }
        }
      ]
    },
    {
      "cell_type": "code",
      "metadata": {
        "id": "GJYgyNVc1mMp",
        "colab": {
          "base_uri": "https://localhost:8080/",
          "height": 475
        },
        "outputId": "3a56cdc1-01b4-4ca0-8a49-bf270509d32f"
      },
      "source": [
        "plt.figure(figsize=(15,10))\n",
        "sns.jointplot(data=df, x=\"Temp_Jan\", y=\"Altitude\", hue=\"Temp_Jul\")\n"
      ],
      "execution_count": null,
      "outputs": [
        {
          "output_type": "execute_result",
          "data": {
            "text/plain": [
              "<seaborn.axisgrid.JointGrid at 0x7f8ddf91e150>"
            ]
          },
          "metadata": {},
          "execution_count": 50
        },
        {
          "output_type": "display_data",
          "data": {
            "text/plain": [
              "<Figure size 1080x720 with 0 Axes>"
            ]
          },
          "metadata": {}
        },
        {
          "output_type": "display_data",
          "data": {
            "image/png": "[encoded data removed]",
            "text/plain": [
              "<Figure size 432x432 with 3 Axes>"
            ]
          },
          "metadata": {
            "needs_background": "light"
          }
        }
      ]
    },
    {
      "cell_type": "markdown",
      "metadata": {
        "id": "HF8958YyAD-N"
      },
      "source": [
        "Boxplots can be used to check for outliers and distribution of the variables. To position the two boxplots, fig.add_subplot(a,b,c) is used, where a is number of rows, b is the number of columns, and c is the position that increments rowwise."
      ]
    },
    {
      "cell_type": "code",
      "metadata": {
        "colab": {
          "base_uri": "https://localhost:8080/",
          "height": 265
        },
        "id": "ws9UZZzhBDBr",
        "outputId": "c4ceda78-4a4b-4e0d-c638-e0628b2bf327"
      },
      "source": [
        "fig = plt.figure()\n",
        "\n",
        "fig.add_subplot(1,2,1)\n",
        "df[['Temp_Jan']].boxplot(sym='.')\n",
        "fig.add_subplot(1,2,2)\n",
        "df[['Temp_Jul']].boxplot(sym='.')\n",
        "plt.show()\n"
      ],
      "execution_count": null,
      "outputs": [
        {
          "output_type": "display_data",
          "data": {
            "image/png": "[encoded data removed]",
            "text/plain": [
              "<Figure size 432x288 with 2 Axes>"
            ]
          },
          "metadata": {
            "tags": [],
            "needs_background": "light"
          }
        }
      ]
    },
    {
      "cell_type": "markdown",
      "metadata": {
        "id": "Z_aLPYApCcd7"
      },
      "source": [
        "But the range of the axes are different for the two plots, and unnecessary space is wasted for two y-axes.First, we are going to select the two columns and make a new temporary DataFrame called temp."
      ]
    },
    {
      "cell_type": "code",
      "metadata": {
        "id": "Apc66z4iBhEh"
      },
      "source": [
        "temp=df.iloc[:,[1,2]]"
      ],
      "execution_count": null,
      "outputs": []
    },
    {
      "cell_type": "markdown",
      "metadata": {
        "id": "Yp-bpDZsC0-M"
      },
      "source": [
        "Second, we'd like to adapt our columnnames slightly, and the following code does that"
      ]
    },
    {
      "cell_type": "code",
      "metadata": {
        "id": "7AbKTZNoC46Y"
      },
      "source": [
        "temp.columns=['January','July']"
      ],
      "execution_count": null,
      "outputs": []
    },
    {
      "cell_type": "code",
      "metadata": {
        "colab": {
          "base_uri": "https://localhost:8080/",
          "height": 267
        },
        "id": "9yGl1ZUlDL8p",
        "outputId": "75735318-3e95-46fa-c9f6-3d0d85d9c190"
      },
      "source": [
        "temp.boxplot(sym='bo')\n",
        "plt.show()"
      ],
      "execution_count": null,
      "outputs": [
        {
          "output_type": "display_data",
          "data": {
            "image/png": "[encoded data removed]",
            "text/plain": [
              "<Figure size 432x288 with 1 Axes>"
            ]
          },
          "metadata": {
            "tags": [],
            "needs_background": "light"
          }
        }
      ]
    },
    {
      "cell_type": "code",
      "metadata": {
        "colab": {
          "base_uri": "https://localhost:8080/",
          "height": 264
        },
        "id": "LRHpycZIDeJi",
        "outputId": "0a3ec36e-2789-48e1-bfe5-ae7939874d8d"
      },
      "source": [
        "fig=plt.figure()\n",
        "df[['Altitude']].boxplot(sym='bo',widths=0.4,patch_artist=True,vert=0)\n",
        "flierprops=dict(markersize=9)\n",
        "plt.show()"
      ],
      "execution_count": null,
      "outputs": [
        {
          "output_type": "display_data",
          "data": {
            "image/png": "[encoded data removed]",
            "text/plain": [
              "<Figure size 432x288 with 1 Axes>"
            ]
          },
          "metadata": {
            "tags": [],
            "needs_background": "light"
          }
        }
      ]
    },
    {
      "cell_type": "code",
      "metadata": {
        "id": "ypNCvVsxF8lq",
        "colab": {
          "base_uri": "https://localhost:8080/"
        },
        "outputId": "7d74cf18-8ac0-4056-d3f4-764ab462377f"
      },
      "source": [
        "import pandas as pd\n",
        "pd.plotting.register_matplotlib_converters\n",
        "import matplotlib.pyplot as plt\n",
        "%matplotlib inline\n",
        "import seaborn as sns\n",
        "print(\"setup complete\")"
      ],
      "execution_count": null,
      "outputs": [
        {
          "output_type": "stream",
          "text": [
            "setup complete\n"
          ],
          "name": "stdout"
        }
      ]
    },
    {
      "cell_type": "code",
      "metadata": {
        "colab": {
          "base_uri": "https://localhost:8080/",
          "height": 527
        },
        "id": "zVqMQFmFytg8",
        "outputId": "9c96e2a0-23ec-45b1-af08-65b44de75f8a"
      },
      "source": [
        "df2"
      ],
      "execution_count": null,
      "outputs": [
        {
          "output_type": "execute_result",
          "data": {
            "text/html": [
              "<div>\n",
              "<style scoped>\n",
              "    .dataframe tbody tr th:only-of-type {\n",
              "        vertical-align: middle;\n",
              "    }\n",
              "\n",
              "    .dataframe tbody tr th {\n",
              "        vertical-align: top;\n",
              "    }\n",
              "\n",
              "    .dataframe thead th {\n",
              "        text-align: right;\n",
              "    }\n",
              "</style>\n",
              "<table border=\"1\" class=\"dataframe\">\n",
              "  <thead>\n",
              "    <tr style=\"text-align: right;\">\n",
              "      <th></th>\n",
              "      <th>Place</th>\n",
              "      <th>Temp_Jan</th>\n",
              "      <th>Temp_Jul</th>\n",
              "      <th>Language</th>\n",
              "      <th>Altitude</th>\n",
              "      <th>MeasureDate</th>\n",
              "      <th>Population</th>\n",
              "    </tr>\n",
              "  </thead>\n",
              "  <tbody>\n",
              "    <tr>\n",
              "      <th>0</th>\n",
              "      <td>Stockholm</td>\n",
              "      <td>-1.6</td>\n",
              "      <td>18.8</td>\n",
              "      <td>Swedish</td>\n",
              "      <td>0.0</td>\n",
              "      <td>NaT</td>\n",
              "      <td>1515017</td>\n",
              "    </tr>\n",
              "    <tr>\n",
              "      <th>1</th>\n",
              "      <td>Oslo</td>\n",
              "      <td>-2.9</td>\n",
              "      <td>17.7</td>\n",
              "      <td>Norwegian</td>\n",
              "      <td>23.0</td>\n",
              "      <td>2016-01-01</td>\n",
              "      <td>942084</td>\n",
              "    </tr>\n",
              "    <tr>\n",
              "      <th>2</th>\n",
              "      <td>Helsinki</td>\n",
              "      <td>-3.9</td>\n",
              "      <td>17.8</td>\n",
              "      <td>Finnish</td>\n",
              "      <td>NaN</td>\n",
              "      <td>2016-03-31</td>\n",
              "      <td>1231595</td>\n",
              "    </tr>\n",
              "    <tr>\n",
              "      <th>3</th>\n",
              "      <td>Lulea</td>\n",
              "      <td>-5.1</td>\n",
              "      <td>20.7</td>\n",
              "      <td>Swedish</td>\n",
              "      <td>6.0</td>\n",
              "      <td>2014-12-31</td>\n",
              "      <td>75966</td>\n",
              "    </tr>\n",
              "    <tr>\n",
              "      <th>4</th>\n",
              "      <td>Edinburgh</td>\n",
              "      <td>7.0</td>\n",
              "      <td>19.1</td>\n",
              "      <td>English</td>\n",
              "      <td>47.0</td>\n",
              "      <td>NaT</td>\n",
              "      <td>1339380</td>\n",
              "    </tr>\n",
              "    <tr>\n",
              "      <th>5</th>\n",
              "      <td>Birmingham</td>\n",
              "      <td>6.7</td>\n",
              "      <td>21.3</td>\n",
              "      <td>English</td>\n",
              "      <td>140.0</td>\n",
              "      <td>NaT</td>\n",
              "      <td>2440986</td>\n",
              "    </tr>\n",
              "    <tr>\n",
              "      <th>6</th>\n",
              "      <td>Cork</td>\n",
              "      <td>5.6</td>\n",
              "      <td>15.3</td>\n",
              "      <td>English</td>\n",
              "      <td>NaN</td>\n",
              "      <td>NaT</td>\n",
              "      <td>208669</td>\n",
              "    </tr>\n",
              "    <tr>\n",
              "      <th>7</th>\n",
              "      <td>Antwerp</td>\n",
              "      <td>3.4</td>\n",
              "      <td>18.5</td>\n",
              "      <td>Dutch</td>\n",
              "      <td>NaN</td>\n",
              "      <td>2016-01-01</td>\n",
              "      <td>517042</td>\n",
              "    </tr>\n",
              "    <tr>\n",
              "      <th>8</th>\n",
              "      <td>Lille</td>\n",
              "      <td>3.6</td>\n",
              "      <td>18.6</td>\n",
              "      <td>French</td>\n",
              "      <td>NaN</td>\n",
              "      <td>NaT</td>\n",
              "      <td>1015744</td>\n",
              "    </tr>\n",
              "    <tr>\n",
              "      <th>9</th>\n",
              "      <td>Bordeaux</td>\n",
              "      <td>6.6</td>\n",
              "      <td>21.4</td>\n",
              "      <td>French</td>\n",
              "      <td>NaN</td>\n",
              "      <td>NaT</td>\n",
              "      <td>851071</td>\n",
              "    </tr>\n",
              "    <tr>\n",
              "      <th>10</th>\n",
              "      <td>Malaga</td>\n",
              "      <td>12.1</td>\n",
              "      <td>25.5</td>\n",
              "      <td>Spanish</td>\n",
              "      <td>11.0</td>\n",
              "      <td>NaT</td>\n",
              "      <td>569130</td>\n",
              "    </tr>\n",
              "    <tr>\n",
              "      <th>11</th>\n",
              "      <td>Porto</td>\n",
              "      <td>9.5</td>\n",
              "      <td>20.6</td>\n",
              "      <td>Portuguese</td>\n",
              "      <td>0.0</td>\n",
              "      <td>NaT</td>\n",
              "      <td>1774000</td>\n",
              "    </tr>\n",
              "    <tr>\n",
              "      <th>12</th>\n",
              "      <td>Venice</td>\n",
              "      <td>3.3</td>\n",
              "      <td>23.0</td>\n",
              "      <td>Italian</td>\n",
              "      <td>1.0</td>\n",
              "      <td>NaT</td>\n",
              "      <td>264579</td>\n",
              "    </tr>\n",
              "    <tr>\n",
              "      <th>13</th>\n",
              "      <td>Ajaccio</td>\n",
              "      <td>9.0</td>\n",
              "      <td>22.9</td>\n",
              "      <td>French</td>\n",
              "      <td>38.0</td>\n",
              "      <td>NaT</td>\n",
              "      <td>68587</td>\n",
              "    </tr>\n",
              "    <tr>\n",
              "      <th>14</th>\n",
              "      <td>Rijeka</td>\n",
              "      <td>5.8</td>\n",
              "      <td>23.1</td>\n",
              "      <td>Croatian</td>\n",
              "      <td>0.0</td>\n",
              "      <td>NaT</td>\n",
              "      <td>213666</td>\n",
              "    </tr>\n",
              "    <tr>\n",
              "      <th>15</th>\n",
              "      <td>Istanbul</td>\n",
              "      <td>5.7</td>\n",
              "      <td>22.9</td>\n",
              "      <td>Turkish</td>\n",
              "      <td>39.0</td>\n",
              "      <td>2016-12-31</td>\n",
              "      <td>14657434</td>\n",
              "    </tr>\n",
              "  </tbody>\n",
              "</table>\n",
              "</div>"
            ],
            "text/plain": [
              "         Place  Temp_Jan  Temp_Jul  ... Altitude  MeasureDate Population\n",
              "0    Stockholm      -1.6      18.8  ...      0.0          NaT    1515017\n",
              "1         Oslo      -2.9      17.7  ...     23.0   2016-01-01     942084\n",
              "2     Helsinki      -3.9      17.8  ...      NaN   2016-03-31    1231595\n",
              "3        Lulea      -5.1      20.7  ...      6.0   2014-12-31      75966\n",
              "4    Edinburgh       7.0      19.1  ...     47.0          NaT    1339380\n",
              "5   Birmingham       6.7      21.3  ...    140.0          NaT    2440986\n",
              "6         Cork       5.6      15.3  ...      NaN          NaT     208669\n",
              "7      Antwerp       3.4      18.5  ...      NaN   2016-01-01     517042\n",
              "8        Lille       3.6      18.6  ...      NaN          NaT    1015744\n",
              "9     Bordeaux       6.6      21.4  ...      NaN          NaT     851071\n",
              "10      Malaga      12.1      25.5  ...     11.0          NaT     569130\n",
              "11       Porto       9.5      20.6  ...      0.0          NaT    1774000\n",
              "12      Venice       3.3      23.0  ...      1.0          NaT     264579\n",
              "13     Ajaccio       9.0      22.9  ...     38.0          NaT      68587\n",
              "14      Rijeka       5.8      23.1  ...      0.0          NaT     213666\n",
              "15    Istanbul       5.7      22.9  ...     39.0   2016-12-31   14657434\n",
              "\n",
              "[16 rows x 7 columns]"
            ]
          },
          "metadata": {
            "tags": []
          },
          "execution_count": 69
        }
      ]
    },
    {
      "cell_type": "code",
      "metadata": {
        "colab": {
          "base_uri": "https://localhost:8080/",
          "height": 407
        },
        "id": "Uj7uUzxazL0n",
        "outputId": "793103bf-020e-4ae2-ca72-3bd4367639f2"
      },
      "source": [
        "plt.figure(figsize=(16,6))\n",
        "plt.title(\"line plot excercise\")\n",
        "sns.lineplot(data=df1)"
      ],
      "execution_count": null,
      "outputs": [
        {
          "output_type": "execute_result",
          "data": {
            "text/plain": [
              "<matplotlib.axes._subplots.AxesSubplot at 0x7ff21d882390>"
            ]
          },
          "metadata": {
            "tags": []
          },
          "execution_count": 70
        },
        {
          "output_type": "display_data",
          "data": {
            "image/png": "[encoded data removed]",
            "text/plain": [
              "<Figure size 1152x432 with 1 Axes>"
            ]
          },
          "metadata": {
            "tags": [],
            "needs_background": "light"
          }
        }
      ]
    },
    {
      "cell_type": "code",
      "metadata": {
        "colab": {
          "base_uri": "https://localhost:8080/"
        },
        "id": "OvOCFJE22AGD",
        "outputId": "c977a4df-67c8-4317-c8ff-1d03f5f564d5"
      },
      "source": [
        "list(df2.columns)"
      ],
      "execution_count": null,
      "outputs": [
        {
          "output_type": "execute_result",
          "data": {
            "text/plain": [
              "['Place',\n",
              " 'Temp_Jan',\n",
              " 'Temp_Jul',\n",
              " 'Language',\n",
              " 'Altitude',\n",
              " 'MeasureDate',\n",
              " 'Population']"
            ]
          },
          "metadata": {
            "tags": []
          },
          "execution_count": 71
        }
      ]
    },
    {
      "cell_type": "code",
      "metadata": {
        "id": "tlMvDy-GE3_t"
      },
      "source": [
        ""
      ],
      "execution_count": null,
      "outputs": []
    },
    {
      "cell_type": "markdown",
      "metadata": {
        "id": "JNDUSfRrFZi-"
      },
      "source": [
        "One of the most common data transformations is replacing values. The reason can be data entry errors, language differences (e.g., different labels are used for \"Geneva\", \"Genève\", \"Genf\" or \"Ginebra\"), or different conventions in other contexts. Values can be replaced by the following\n",
        "The same is valid for numbers. To replace a value at a certain index use df.iloc. Take care that indexing in Python starts at 0, so that means that the first row/column is at 0, the second row/column at 1, etc. For example, df.iloc[1,2]=17 would replace the value at the second row, third column with the value 17."
      ]
    },
    {
      "cell_type": "code",
      "metadata": {
        "id": "T2yLSGUOFcGc"
      },
      "source": [
        "df=df2.replace(['catalan and Spanish'],['catalan/spanish'])"
      ],
      "execution_count": null,
      "outputs": []
    },
    {
      "cell_type": "code",
      "metadata": {
        "id": "78LaVWUEF5_2"
      },
      "source": [
        "df[df['Language'].str.contains('Cat')]='catalan'"
      ],
      "execution_count": null,
      "outputs": []
    },
    {
      "cell_type": "code",
      "metadata": {
        "colab": {
          "base_uri": "https://localhost:8080/"
        },
        "id": "iMw3eoO8GMTk",
        "outputId": "a94103ed-8232-448d-d945-3b26dff87387"
      },
      "source": [
        "\"replacing a single value\"\n",
        "df[df['Place'].str.contains('Porto')].Population=13443"
      ],
      "execution_count": null,
      "outputs": [
        {
          "output_type": "stream",
          "text": [
            "/usr/local/lib/python3.6/dist-packages/pandas/core/generic.py:5170: SettingWithCopyWarning:\n",
            "\n",
            "\n",
            "A value is trying to be set on a copy of a slice from a DataFrame.\n",
            "Try using .loc[row_indexer,col_indexer] = value instead\n",
            "\n",
            "See the caveats in the documentation: https://pandas.pydata.org/pandas-docs/stable/user_guide/indexing.html#returning-a-view-versus-a-copy\n",
            "\n"
          ],
          "name": "stderr"
        }
      ]
    },
    {
      "cell_type": "code",
      "metadata": {
        "colab": {
          "base_uri": "https://localhost:8080/",
          "height": 77
        },
        "id": "9Z1vtEeiGt6U",
        "outputId": "1af975dd-43ba-4d94-cb2c-a74521643ee7"
      },
      "source": [
        "df[df['Place'].str.contains('Porto')]"
      ],
      "execution_count": null,
      "outputs": [
        {
          "output_type": "execute_result",
          "data": {
            "text/html": [
              "<div>\n",
              "<style scoped>\n",
              "    .dataframe tbody tr th:only-of-type {\n",
              "        vertical-align: middle;\n",
              "    }\n",
              "\n",
              "    .dataframe tbody tr th {\n",
              "        vertical-align: top;\n",
              "    }\n",
              "\n",
              "    .dataframe thead th {\n",
              "        text-align: right;\n",
              "    }\n",
              "</style>\n",
              "<table border=\"1\" class=\"dataframe\">\n",
              "  <thead>\n",
              "    <tr style=\"text-align: right;\">\n",
              "      <th></th>\n",
              "      <th>Place</th>\n",
              "      <th>Temp_Jan</th>\n",
              "      <th>Temp_Jul</th>\n",
              "      <th>Language</th>\n",
              "      <th>Altitude</th>\n",
              "      <th>MeasureDate</th>\n",
              "      <th>Population</th>\n",
              "    </tr>\n",
              "  </thead>\n",
              "  <tbody>\n",
              "    <tr>\n",
              "      <th>11</th>\n",
              "      <td>Porto</td>\n",
              "      <td>9.5</td>\n",
              "      <td>20.6</td>\n",
              "      <td>Portuguese</td>\n",
              "      <td>0</td>\n",
              "      <td>NaT</td>\n",
              "      <td>90</td>\n",
              "    </tr>\n",
              "  </tbody>\n",
              "</table>\n",
              "</div>"
            ],
            "text/plain": [
              "    Place Temp_Jan Temp_Jul    Language Altitude MeasureDate Population\n",
              "11  Porto      9.5     20.6  Portuguese        0         NaT         90"
            ]
          },
          "metadata": {
            "tags": []
          },
          "execution_count": 127
        }
      ]
    },
    {
      "cell_type": "markdown",
      "metadata": {
        "id": "dorSmoVzI4T_"
      },
      "source": [
        ""
      ]
    },
    {
      "cell_type": "code",
      "metadata": {
        "id": "oDRy1SBcHG6X"
      },
      "source": [
        "df.loc[11,'Population']=90"
      ],
      "execution_count": null,
      "outputs": []
    },
    {
      "cell_type": "code",
      "metadata": {
        "colab": {
          "base_uri": "https://localhost:8080/",
          "height": 527
        },
        "id": "tgy2EzYtHSJ0",
        "outputId": "d1315348-3b93-495c-b082-8b2f539dcbe5"
      },
      "source": [
        "df2"
      ],
      "execution_count": null,
      "outputs": [
        {
          "output_type": "execute_result",
          "data": {
            "text/html": [
              "<div>\n",
              "<style scoped>\n",
              "    .dataframe tbody tr th:only-of-type {\n",
              "        vertical-align: middle;\n",
              "    }\n",
              "\n",
              "    .dataframe tbody tr th {\n",
              "        vertical-align: top;\n",
              "    }\n",
              "\n",
              "    .dataframe thead th {\n",
              "        text-align: right;\n",
              "    }\n",
              "</style>\n",
              "<table border=\"1\" class=\"dataframe\">\n",
              "  <thead>\n",
              "    <tr style=\"text-align: right;\">\n",
              "      <th></th>\n",
              "      <th>Place</th>\n",
              "      <th>Temp_Jan</th>\n",
              "      <th>Temp_Jul</th>\n",
              "      <th>Language</th>\n",
              "      <th>Altitude</th>\n",
              "      <th>MeasureDate</th>\n",
              "      <th>Population</th>\n",
              "    </tr>\n",
              "  </thead>\n",
              "  <tbody>\n",
              "    <tr>\n",
              "      <th>0</th>\n",
              "      <td>Stockholm</td>\n",
              "      <td>-1.6</td>\n",
              "      <td>18.8</td>\n",
              "      <td>Swedish</td>\n",
              "      <td>0.0</td>\n",
              "      <td>NaT</td>\n",
              "      <td>1515017</td>\n",
              "    </tr>\n",
              "    <tr>\n",
              "      <th>1</th>\n",
              "      <td>Oslo</td>\n",
              "      <td>-2.9</td>\n",
              "      <td>17.7</td>\n",
              "      <td>Norwegian</td>\n",
              "      <td>23.0</td>\n",
              "      <td>2016-01-01</td>\n",
              "      <td>942084</td>\n",
              "    </tr>\n",
              "    <tr>\n",
              "      <th>2</th>\n",
              "      <td>Helsinki</td>\n",
              "      <td>-3.9</td>\n",
              "      <td>17.8</td>\n",
              "      <td>Finnish</td>\n",
              "      <td>NaN</td>\n",
              "      <td>2016-03-31</td>\n",
              "      <td>1231595</td>\n",
              "    </tr>\n",
              "    <tr>\n",
              "      <th>3</th>\n",
              "      <td>Lulea</td>\n",
              "      <td>-5.1</td>\n",
              "      <td>20.7</td>\n",
              "      <td>Swedish</td>\n",
              "      <td>6.0</td>\n",
              "      <td>2014-12-31</td>\n",
              "      <td>75966</td>\n",
              "    </tr>\n",
              "    <tr>\n",
              "      <th>4</th>\n",
              "      <td>Edinburgh</td>\n",
              "      <td>7.0</td>\n",
              "      <td>19.1</td>\n",
              "      <td>English</td>\n",
              "      <td>47.0</td>\n",
              "      <td>NaT</td>\n",
              "      <td>1339380</td>\n",
              "    </tr>\n",
              "    <tr>\n",
              "      <th>5</th>\n",
              "      <td>Birmingham</td>\n",
              "      <td>6.7</td>\n",
              "      <td>21.3</td>\n",
              "      <td>English</td>\n",
              "      <td>140.0</td>\n",
              "      <td>NaT</td>\n",
              "      <td>2440986</td>\n",
              "    </tr>\n",
              "    <tr>\n",
              "      <th>6</th>\n",
              "      <td>Cork</td>\n",
              "      <td>5.6</td>\n",
              "      <td>15.3</td>\n",
              "      <td>English</td>\n",
              "      <td>NaN</td>\n",
              "      <td>NaT</td>\n",
              "      <td>208669</td>\n",
              "    </tr>\n",
              "    <tr>\n",
              "      <th>7</th>\n",
              "      <td>Antwerp</td>\n",
              "      <td>3.4</td>\n",
              "      <td>18.5</td>\n",
              "      <td>Dutch</td>\n",
              "      <td>NaN</td>\n",
              "      <td>2016-01-01</td>\n",
              "      <td>517042</td>\n",
              "    </tr>\n",
              "    <tr>\n",
              "      <th>8</th>\n",
              "      <td>Lille</td>\n",
              "      <td>3.6</td>\n",
              "      <td>18.6</td>\n",
              "      <td>French</td>\n",
              "      <td>NaN</td>\n",
              "      <td>NaT</td>\n",
              "      <td>1015744</td>\n",
              "    </tr>\n",
              "    <tr>\n",
              "      <th>9</th>\n",
              "      <td>Bordeaux</td>\n",
              "      <td>6.6</td>\n",
              "      <td>21.4</td>\n",
              "      <td>French</td>\n",
              "      <td>NaN</td>\n",
              "      <td>NaT</td>\n",
              "      <td>851071</td>\n",
              "    </tr>\n",
              "    <tr>\n",
              "      <th>10</th>\n",
              "      <td>Malaga</td>\n",
              "      <td>12.1</td>\n",
              "      <td>25.5</td>\n",
              "      <td>Spanish</td>\n",
              "      <td>11.0</td>\n",
              "      <td>NaT</td>\n",
              "      <td>569130</td>\n",
              "    </tr>\n",
              "    <tr>\n",
              "      <th>11</th>\n",
              "      <td>Porto</td>\n",
              "      <td>9.5</td>\n",
              "      <td>20.6</td>\n",
              "      <td>Portuguese</td>\n",
              "      <td>0.0</td>\n",
              "      <td>NaT</td>\n",
              "      <td>1774000</td>\n",
              "    </tr>\n",
              "    <tr>\n",
              "      <th>12</th>\n",
              "      <td>Venice</td>\n",
              "      <td>3.3</td>\n",
              "      <td>23.0</td>\n",
              "      <td>Italian</td>\n",
              "      <td>1.0</td>\n",
              "      <td>NaT</td>\n",
              "      <td>264579</td>\n",
              "    </tr>\n",
              "    <tr>\n",
              "      <th>13</th>\n",
              "      <td>Ajaccio</td>\n",
              "      <td>9.0</td>\n",
              "      <td>22.9</td>\n",
              "      <td>French</td>\n",
              "      <td>38.0</td>\n",
              "      <td>NaT</td>\n",
              "      <td>68587</td>\n",
              "    </tr>\n",
              "    <tr>\n",
              "      <th>14</th>\n",
              "      <td>Rijeka</td>\n",
              "      <td>5.8</td>\n",
              "      <td>23.1</td>\n",
              "      <td>Croatian</td>\n",
              "      <td>0.0</td>\n",
              "      <td>NaT</td>\n",
              "      <td>213666</td>\n",
              "    </tr>\n",
              "    <tr>\n",
              "      <th>15</th>\n",
              "      <td>Istanbul</td>\n",
              "      <td>5.7</td>\n",
              "      <td>22.9</td>\n",
              "      <td>Turkish</td>\n",
              "      <td>39.0</td>\n",
              "      <td>2016-12-31</td>\n",
              "      <td>14657434</td>\n",
              "    </tr>\n",
              "  </tbody>\n",
              "</table>\n",
              "</div>"
            ],
            "text/plain": [
              "         Place  Temp_Jan  Temp_Jul  ... Altitude  MeasureDate Population\n",
              "0    Stockholm      -1.6      18.8  ...      0.0          NaT    1515017\n",
              "1         Oslo      -2.9      17.7  ...     23.0   2016-01-01     942084\n",
              "2     Helsinki      -3.9      17.8  ...      NaN   2016-03-31    1231595\n",
              "3        Lulea      -5.1      20.7  ...      6.0   2014-12-31      75966\n",
              "4    Edinburgh       7.0      19.1  ...     47.0          NaT    1339380\n",
              "5   Birmingham       6.7      21.3  ...    140.0          NaT    2440986\n",
              "6         Cork       5.6      15.3  ...      NaN          NaT     208669\n",
              "7      Antwerp       3.4      18.5  ...      NaN   2016-01-01     517042\n",
              "8        Lille       3.6      18.6  ...      NaN          NaT    1015744\n",
              "9     Bordeaux       6.6      21.4  ...      NaN          NaT     851071\n",
              "10      Malaga      12.1      25.5  ...     11.0          NaT     569130\n",
              "11       Porto       9.5      20.6  ...      0.0          NaT    1774000\n",
              "12      Venice       3.3      23.0  ...      1.0          NaT     264579\n",
              "13     Ajaccio       9.0      22.9  ...     38.0          NaT      68587\n",
              "14      Rijeka       5.8      23.1  ...      0.0          NaT     213666\n",
              "15    Istanbul       5.7      22.9  ...     39.0   2016-12-31   14657434\n",
              "\n",
              "[16 rows x 7 columns]"
            ]
          },
          "metadata": {
            "tags": []
          },
          "execution_count": 121
        }
      ]
    },
    {
      "cell_type": "code",
      "metadata": {
        "id": "9cNWktsuHWe8"
      },
      "source": [
        ""
      ],
      "execution_count": null,
      "outputs": []
    },
    {
      "cell_type": "code",
      "metadata": {
        "id": "GPzarxx_I9F8"
      },
      "source": [
        ""
      ],
      "execution_count": null,
      "outputs": []
    },
    {
      "cell_type": "markdown",
      "metadata": {
        "id": "XC5YNBZVMAg-"
      },
      "source": [
        "To keep data organized and manageable, sometimes unneeded data need to be removed. So let us practice how to use the del function to delete data.\n",
        "\n",
        "Remove the column MeasureDate . So let us check again before the removal:"
      ]
    },
    {
      "cell_type": "code",
      "metadata": {
        "id": "s_SB_-qSMBb7"
      },
      "source": [
        "del dfn['MeasureDate'] \"column deleting\"\n",
        "dfn = dfn.drop(dfn.columns[[0,2]], axis=1)"
      ],
      "execution_count": null,
      "outputs": []
    },
    {
      "cell_type": "markdown",
      "metadata": {
        "id": "eZeRo32kMVco"
      },
      "source": [
        "We are going to save the DataFrame to a file with extension .csv. We name the file dfn including date in the filename, to always have a previous backup available. Of course, you can remove the date part if you like."
      ]
    },
    {
      "cell_type": "code",
      "metadata": {
        "id": "NkeHn4TMMYAk"
      },
      "source": [
        "datestring = datetime.strftime(datetime.now(), '%Y-%m-%d')\n",
        "datestring\n",
        "dfn.to_csv('dfn-'+datestring+'.csv', sep=\",\")"
      ],
      "execution_count": null,
      "outputs": []
    },
    {
      "cell_type": "markdown",
      "metadata": {
        "id": "_Jio6wXfMcMJ"
      },
      "source": [
        "The file can be found back in the following directory:"
      ]
    },
    {
      "cell_type": "code",
      "metadata": {
        "id": "8z5NpXpPMex8"
      },
      "source": [
        ""
      ],
      "execution_count": null,
      "outputs": []
    }
  ]
}