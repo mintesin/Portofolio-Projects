{
  "nbformat": 4,
  "nbformat_minor": 0,
  "metadata": {
    "colab": {
      "name": "FEATURE_SELECTION.ipynb",
      "provenance": []
    },
    "kernelspec": {
      "name": "python3",
      "display_name": "Python 3"
    },
    "language_info": {
      "name": "python"
    }
  },
  "cells": [
    {
      "cell_type": "markdown",
      "metadata": {
        "id": "XMkvl4GUyQ6j"
      },
      "source": [
        "Feature Selection is the technique which is used to distinguish the best feature for prediction.It is useful for model training speed and loss reduction in extracting those features more relevant for prediction of our target \n",
        "---\n",
        "\n",
        "---\n",
        "\n",
        "\n",
        "\n"
      ]
    },
    {
      "cell_type": "markdown",
      "metadata": {
        "id": "CW5sxMRJbbAi"
      },
      "source": [
        "Feature Selection is done for the sake of:\n",
        "1. Reduces overfitting or avoid underfitting while training performed\n",
        "2. Improves Accuracy(clasification) or decrease Loss(regression)\n",
        "3. It improves the time complexity"
      ]
    },
    {
      "cell_type": "code",
      "metadata": {
        "id": "Kdf-0DpjyY3T"
      },
      "source": [
        "url='https://raw.githubusercontent.com/jbrownlee/Datasets/master/pima-indians-diabetes.csv'\n"
      ],
      "execution_count": null,
      "outputs": []
    },
    {
      "cell_type": "markdown",
      "metadata": {
        "id": "nicngN2-ZqH6"
      },
      "source": [
        ""
      ]
    },
    {
      "cell_type": "code",
      "metadata": {
        "id": "5kGNVsKOzKFd"
      },
      "source": [
        "import pandas as pd\n",
        "import numpy as np\n",
        "data=pd.read_csv(url)"
      ],
      "execution_count": null,
      "outputs": []
    },
    {
      "cell_type": "code",
      "metadata": {
        "id": "r5H9_f301jsD"
      },
      "source": [
        "from numpy import set_printoptions\n",
        "\n",
        "from sklearn.feature_selection import SelectKBest\n",
        "from sklearn.feature_selection import f_classif\n",
        "names=['preg','plas','pres','skin','test','mass','pedi','age','class']\n",
        "data1=pd.read_csv(url,names=names)"
      ],
      "execution_count": null,
      "outputs": []
    },
    {
      "cell_type": "markdown",
      "metadata": {
        "id": "FBFCfWe3Zr5a"
      },
      "source": [
        "**Load Our Dataset**"
      ]
    },
    {
      "cell_type": "code",
      "metadata": {
        "id": "nBenBm2T9omX"
      },
      "source": [
        "from numpy import set_printoptions\n",
        "from sklearn.feature_selection import SelectKBest\n",
        "from sklearn.feature_selection import f_classif\n",
        "names=['f1','f2','f3','f4','f5','f6','f7','f8','f9']\n",
        "dats=pd.read_csv(url,names=names)"
      ],
      "execution_count": null,
      "outputs": []
    },
    {
      "cell_type": "code",
      "metadata": {
        "colab": {
          "base_uri": "https://localhost:8080/"
        },
        "id": "GGa0p9_T-KHG",
        "outputId": "ad6eb6f6-ced3-4773-c564-3a3f11e6dd54"
      },
      "source": [
        "dats.columns"
      ],
      "execution_count": null,
      "outputs": [
        {
          "output_type": "execute_result",
          "data": {
            "text/plain": [
              "Index(['f1', 'f2', 'f3', 'f4', 'f5', 'f6', 'f7', 'f8', 'f9'], dtype='object')"
            ]
          },
          "metadata": {},
          "execution_count": 5
        }
      ]
    },
    {
      "cell_type": "code",
      "metadata": {
        "id": "OnNWmQ6r_5TK",
        "colab": {
          "base_uri": "https://localhost:8080/",
          "height": 359
        },
        "outputId": "9278f989-a61f-4998-ed1f-494726510a31"
      },
      "source": [
        "dats.head(10)"
      ],
      "execution_count": null,
      "outputs": [
        {
          "output_type": "execute_result",
          "data": {
            "text/html": [
              "<div>\n",
              "<style scoped>\n",
              "    .dataframe tbody tr th:only-of-type {\n",
              "        vertical-align: middle;\n",
              "    }\n",
              "\n",
              "    .dataframe tbody tr th {\n",
              "        vertical-align: top;\n",
              "    }\n",
              "\n",
              "    .dataframe thead th {\n",
              "        text-align: right;\n",
              "    }\n",
              "</style>\n",
              "<table border=\"1\" class=\"dataframe\">\n",
              "  <thead>\n",
              "    <tr style=\"text-align: right;\">\n",
              "      <th></th>\n",
              "      <th>f1</th>\n",
              "      <th>f2</th>\n",
              "      <th>f3</th>\n",
              "      <th>f4</th>\n",
              "      <th>f5</th>\n",
              "      <th>f6</th>\n",
              "      <th>f7</th>\n",
              "      <th>f8</th>\n",
              "      <th>f9</th>\n",
              "    </tr>\n",
              "  </thead>\n",
              "  <tbody>\n",
              "    <tr>\n",
              "      <th>0</th>\n",
              "      <td>6</td>\n",
              "      <td>148</td>\n",
              "      <td>72</td>\n",
              "      <td>35</td>\n",
              "      <td>0</td>\n",
              "      <td>33.6</td>\n",
              "      <td>0.627</td>\n",
              "      <td>50</td>\n",
              "      <td>1</td>\n",
              "    </tr>\n",
              "    <tr>\n",
              "      <th>1</th>\n",
              "      <td>1</td>\n",
              "      <td>85</td>\n",
              "      <td>66</td>\n",
              "      <td>29</td>\n",
              "      <td>0</td>\n",
              "      <td>26.6</td>\n",
              "      <td>0.351</td>\n",
              "      <td>31</td>\n",
              "      <td>0</td>\n",
              "    </tr>\n",
              "    <tr>\n",
              "      <th>2</th>\n",
              "      <td>8</td>\n",
              "      <td>183</td>\n",
              "      <td>64</td>\n",
              "      <td>0</td>\n",
              "      <td>0</td>\n",
              "      <td>23.3</td>\n",
              "      <td>0.672</td>\n",
              "      <td>32</td>\n",
              "      <td>1</td>\n",
              "    </tr>\n",
              "    <tr>\n",
              "      <th>3</th>\n",
              "      <td>1</td>\n",
              "      <td>89</td>\n",
              "      <td>66</td>\n",
              "      <td>23</td>\n",
              "      <td>94</td>\n",
              "      <td>28.1</td>\n",
              "      <td>0.167</td>\n",
              "      <td>21</td>\n",
              "      <td>0</td>\n",
              "    </tr>\n",
              "    <tr>\n",
              "      <th>4</th>\n",
              "      <td>0</td>\n",
              "      <td>137</td>\n",
              "      <td>40</td>\n",
              "      <td>35</td>\n",
              "      <td>168</td>\n",
              "      <td>43.1</td>\n",
              "      <td>2.288</td>\n",
              "      <td>33</td>\n",
              "      <td>1</td>\n",
              "    </tr>\n",
              "    <tr>\n",
              "      <th>5</th>\n",
              "      <td>5</td>\n",
              "      <td>116</td>\n",
              "      <td>74</td>\n",
              "      <td>0</td>\n",
              "      <td>0</td>\n",
              "      <td>25.6</td>\n",
              "      <td>0.201</td>\n",
              "      <td>30</td>\n",
              "      <td>0</td>\n",
              "    </tr>\n",
              "    <tr>\n",
              "      <th>6</th>\n",
              "      <td>3</td>\n",
              "      <td>78</td>\n",
              "      <td>50</td>\n",
              "      <td>32</td>\n",
              "      <td>88</td>\n",
              "      <td>31.0</td>\n",
              "      <td>0.248</td>\n",
              "      <td>26</td>\n",
              "      <td>1</td>\n",
              "    </tr>\n",
              "    <tr>\n",
              "      <th>7</th>\n",
              "      <td>10</td>\n",
              "      <td>115</td>\n",
              "      <td>0</td>\n",
              "      <td>0</td>\n",
              "      <td>0</td>\n",
              "      <td>35.3</td>\n",
              "      <td>0.134</td>\n",
              "      <td>29</td>\n",
              "      <td>0</td>\n",
              "    </tr>\n",
              "    <tr>\n",
              "      <th>8</th>\n",
              "      <td>2</td>\n",
              "      <td>197</td>\n",
              "      <td>70</td>\n",
              "      <td>45</td>\n",
              "      <td>543</td>\n",
              "      <td>30.5</td>\n",
              "      <td>0.158</td>\n",
              "      <td>53</td>\n",
              "      <td>1</td>\n",
              "    </tr>\n",
              "    <tr>\n",
              "      <th>9</th>\n",
              "      <td>8</td>\n",
              "      <td>125</td>\n",
              "      <td>96</td>\n",
              "      <td>0</td>\n",
              "      <td>0</td>\n",
              "      <td>0.0</td>\n",
              "      <td>0.232</td>\n",
              "      <td>54</td>\n",
              "      <td>1</td>\n",
              "    </tr>\n",
              "  </tbody>\n",
              "</table>\n",
              "</div>"
            ],
            "text/plain": [
              "   f1   f2  f3  f4   f5    f6     f7  f8  f9\n",
              "0   6  148  72  35    0  33.6  0.627  50   1\n",
              "1   1   85  66  29    0  26.6  0.351  31   0\n",
              "2   8  183  64   0    0  23.3  0.672  32   1\n",
              "3   1   89  66  23   94  28.1  0.167  21   0\n",
              "4   0  137  40  35  168  43.1  2.288  33   1\n",
              "5   5  116  74   0    0  25.6  0.201  30   0\n",
              "6   3   78  50  32   88  31.0  0.248  26   1\n",
              "7  10  115   0   0    0  35.3  0.134  29   0\n",
              "8   2  197  70  45  543  30.5  0.158  53   1\n",
              "9   8  125  96   0    0   0.0  0.232  54   1"
            ]
          },
          "metadata": {},
          "execution_count": 7
        }
      ]
    },
    {
      "cell_type": "code",
      "metadata": {
        "id": "lZ-szqKu_8OG"
      },
      "source": [
        "array=dats.values\n",
        "x=array[:,0:8]\n",
        "y=array[:,8]"
      ],
      "execution_count": null,
      "outputs": []
    },
    {
      "cell_type": "markdown",
      "metadata": {
        "id": "WzoaBSOyaRue"
      },
      "source": [
        "**SELECT K_BEST**"
      ]
    },
    {
      "cell_type": "markdown",
      "metadata": {
        "id": "sQuv0lFDaWel"
      },
      "source": [
        "This is Uni variate feature selection"
      ]
    },
    {
      "cell_type": "code",
      "metadata": {
        "colab": {
          "base_uri": "https://localhost:8080/"
        },
        "id": "ENz91gyUASFz",
        "outputId": "a9b40231-442e-4447-c4cc-fbc7e6e3223f"
      },
      "source": [
        "test=SelectKBest(score_func=f_classif,k=4)\n",
        "fit=test.fit(x,y)\n",
        "set_printoptions(precision=3)\n",
        "print(fit.scores_)\n",
        "features=fit.transform(x)\n",
        "features.shape\n"
      ],
      "execution_count": null,
      "outputs": [
        {
          "output_type": "stream",
          "name": "stdout",
          "text": [
            "[ 39.67  213.162   3.257   4.304  13.281  71.772  23.871  46.141]\n"
          ]
        },
        {
          "output_type": "execute_result",
          "data": {
            "text/plain": [
              "(768, 4)"
            ]
          },
          "metadata": {},
          "execution_count": 11
        }
      ]
    },
    {
      "cell_type": "code",
      "metadata": {
        "id": "vBBH-vclegk3",
        "colab": {
          "base_uri": "https://localhost:8080/"
        },
        "outputId": "339542ba-55f6-4903-92cd-8c7e1ddb5e52"
      },
      "source": [
        "for i in range(4):\n",
        "  print(features[i])"
      ],
      "execution_count": null,
      "outputs": [
        {
          "output_type": "stream",
          "name": "stdout",
          "text": [
            "[  6.  148.   33.6  50. ]\n",
            "[ 1.  85.  26.6 31. ]\n",
            "[  8.  183.   23.3  32. ]\n",
            "[ 1.  89.  28.1 21. ]\n"
          ]
        }
      ]
    },
    {
      "cell_type": "markdown",
      "metadata": {
        "id": "FSLO10gies2S"
      },
      "source": [
        "Therefore We can see that the features are reduced "
      ]
    },
    {
      "cell_type": "markdown",
      "metadata": {
        "id": "R0vBqUt0FeMJ"
      },
      "source": [
        "**RECURSIVE FEEATURE ELIMINATION METHOD**"
      ]
    },
    {
      "cell_type": "markdown",
      "metadata": {
        "id": "Y1oiTJ5hYq0l"
      },
      "source": [
        "RFE is is wrapper used to train model and give ranks for each feature then choose the specified number of features.The training is done on all or group of features to give the importance score for selection."
      ]
    },
    {
      "cell_type": "code",
      "metadata": {
        "id": "HRfsLoc5BL7b",
        "colab": {
          "base_uri": "https://localhost:8080/"
        },
        "outputId": "5bcc0e96-d5f0-4120-f881-320e35772938"
      },
      "source": [
        "from sklearn.feature_selection import RFE\n",
        "from sklearn.linear_model import LogisticRegression\n",
        "names = ['preg', 'plas', 'pres', 'skin', 'test', 'mass', 'pedi', 'age', 'class']\n",
        "d1=pd.read_csv(url,names=names)\n",
        "array=d1.values\n",
        "x=array[:,0:8]\n",
        "y=array[:,8]\n",
        "model=LogisticRegression(solver='lbfgs')\n",
        "rfe=RFE(model,3)\n",
        "fit=rfe.fit(x,y)\n",
        "print(\"Num features:%d\"%fit.n_features_)\n",
        "print(\"Selected Features: %s\"%fit.support_)\n",
        "print(\"Feature Ranking:%s\"%fit.ranking_)"
      ],
      "execution_count": null,
      "outputs": [
        {
          "output_type": "stream",
          "name": "stdout",
          "text": [
            "Num features:3\n",
            "Selected Features: [ True False False False False  True  True False]\n",
            "Feature Ranking:[1 2 4 5 6 1 1 3]\n"
          ]
        },
        {
          "output_type": "stream",
          "name": "stderr",
          "text": [
            "/usr/local/lib/python3.7/dist-packages/sklearn/linear_model/_logistic.py:940: ConvergenceWarning: lbfgs failed to converge (status=1):\n",
            "STOP: TOTAL NO. of ITERATIONS REACHED LIMIT.\n",
            "\n",
            "Increase the number of iterations (max_iter) or scale the data as shown in:\n",
            "    https://scikit-learn.org/stable/modules/preprocessing.html\n",
            "Please also refer to the documentation for alternative solver options:\n",
            "    https://scikit-learn.org/stable/modules/linear_model.html#logistic-regression\n",
            "  extra_warning_msg=_LOGISTIC_SOLVER_CONVERGENCE_MSG)\n"
          ]
        }
      ]
    },
    {
      "cell_type": "markdown",
      "metadata": {
        "id": "2Zyv115gfL-e"
      },
      "source": [
        "We can see That the first faeture and the second and the third  features from the last are selected."
      ]
    },
    {
      "cell_type": "markdown",
      "metadata": {
        "id": "1uwcFGMFGFuR"
      },
      "source": [
        "**PRINCIPAL COMPONENT ANALYSIS**"
      ]
    },
    {
      "cell_type": "markdown",
      "metadata": {
        "id": "Uki4eCyBfXNp"
      },
      "source": [
        "PCA like its name tells it finds components of planes containing vectors which contains much of our data's distribution."
      ]
    },
    {
      "cell_type": "code",
      "metadata": {
        "colab": {
          "base_uri": "https://localhost:8080/"
        },
        "id": "bxl_Zua9FCwT",
        "outputId": "2b6799ac-c9dc-4b1d-d678-c1dae3aca161"
      },
      "source": [
        "from sklearn.decomposition import PCA\n",
        "array=d1.values\n",
        "x=array[:,0:8]\n",
        "y=array[:,8]\n",
        "pca=PCA(n_components=3)\n",
        "fit=pca.fit(x)\n",
        "print(\"explained variance: %s\"%fit.explained_variance_ratio_)\n",
        "print(fit.components_)"
      ],
      "execution_count": null,
      "outputs": [
        {
          "output_type": "stream",
          "name": "stdout",
          "text": [
            "explained variance: [0.889 0.062 0.026]\n",
            "[[-2.022e-03  9.781e-02  1.609e-02  6.076e-02  9.931e-01  1.401e-02\n",
            "   5.372e-04 -3.565e-03]\n",
            " [-2.265e-02 -9.722e-01 -1.419e-01  5.786e-02  9.463e-02 -4.697e-02\n",
            "  -8.168e-04 -1.402e-01]\n",
            " [-2.246e-02  1.434e-01 -9.225e-01 -3.070e-01  2.098e-02 -1.324e-01\n",
            "  -6.400e-04 -1.255e-01]]\n"
          ]
        }
      ]
    },
    {
      "cell_type": "code",
      "metadata": {
        "id": "0eyNNKJ_Hei0",
        "colab": {
          "base_uri": "https://localhost:8080/"
        },
        "outputId": "e2ff50e7-520e-4f8b-e526-9d87c72a65d3"
      },
      "source": [
        "#PCA with the ratio of variance we want to preserve from our data\n",
        "pca_percentage=PCA(n_components=0.90)\n",
        "fit=pca.fit(x)\n",
        "print(\"explainde variance: %s\"%fit.explained_variance_ratio_)\n",
        "print(fit.components_)"
      ],
      "execution_count": null,
      "outputs": [
        {
          "output_type": "stream",
          "name": "stdout",
          "text": [
            "explainde variance: [0.889 0.062 0.026]\n",
            "[[-2.022e-03  9.781e-02  1.609e-02  6.076e-02  9.931e-01  1.401e-02\n",
            "   5.372e-04 -3.565e-03]\n",
            " [-2.265e-02 -9.722e-01 -1.419e-01  5.786e-02  9.463e-02 -4.697e-02\n",
            "  -8.168e-04 -1.402e-01]\n",
            " [-2.246e-02  1.434e-01 -9.225e-01 -3.070e-01  2.098e-02 -1.324e-01\n",
            "  -6.400e-04 -1.255e-01]]\n"
          ]
        }
      ]
    },
    {
      "cell_type": "code",
      "metadata": {
        "id": "FThX75vnhIwP"
      },
      "source": [
        ""
      ],
      "execution_count": null,
      "outputs": []
    }
  ]
}