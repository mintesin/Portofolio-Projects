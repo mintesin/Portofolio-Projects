{
  "nbformat": 4,
  "nbformat_minor": 5,
  "metadata": {
    "kernelspec": {
      "display_name": "Python 3 (ipykernel)",
      "language": "python",
      "name": "python3"
    },
    "language_info": {
      "codemirror_mode": {
        "name": "ipython",
        "version": 3
      },
      "file_extension": ".py",
      "mimetype": "text/x-python",
      "name": "python",
      "nbconvert_exporter": "python",
      "pygments_lexer": "ipython3",
      "version": "3.9.7"
    },
    "colab": {
      "name": "Image_classsification.ipynb",
      "provenance": [],
      "include_colab_link": true
    }
  },
  "cells": [
    {
      "cell_type": "markdown",
      "metadata": {
        "id": "view-in-github",
        "colab_type": "text"
      },
      "source": [
        "<a href=\"https://colab.research.google.com/github/mintesin/Portofolio-Projects/blob/main/Image_classsification.ipynb\" target=\"_parent\"><img src=\"https://colab.research.google.com/assets/colab-badge.svg\" alt=\"Open In Colab\"/></a>"
      ]
    },
    {
      "cell_type": "markdown",
      "metadata": {
        "id": "c3c4eacb"
      },
      "source": [
        "# 1. IMAGE CLASIFICATION USING CNN MODEL"
      ],
      "id": "c3c4eacb"
    },
    {
      "cell_type": "markdown",
      "metadata": {
        "id": "0e09aca1"
      },
      "source": [
        "1. Here we try to classify images from collected from google.\n",
        "2. The image contains four famous football players(Edison cavani,marcus rashford,christiano ronaldo and lionel messi).\n",
        "3. There are one hundred total images of each players.\n",
        "4. Seventy percent of these image will be used as training and validation as the rest will be testing images."
      ],
      "id": "0e09aca1"
    },
    {
      "cell_type": "code",
      "metadata": {
        "id": "4fd67550-0776-474f-886c-546740b560ae"
      },
      "source": [
        "#LET US DOWNLOAD OUR IMAGES FROM GOOGLE IMAGES \n",
        "from simple_image_download import simple_image_download as sim\n",
        "response=sim.simple_image_download"
      ],
      "id": "4fd67550-0776-474f-886c-546740b560ae",
      "execution_count": null,
      "outputs": []
    },
    {
      "cell_type": "code",
      "metadata": {
        "id": "03c7532d-0a59-4d2e-a786-7034d8cf232a"
      },
      "source": [
        "#DOWNLOADING IMAGES OF FOUR PLAYERS\n",
        "im_names=['RONALDO','RASHFORD','MESSI','CAVANI']\n",
        "for im in im_names:\n",
        "    response().download(im,100)\n"
      ],
      "id": "03c7532d-0a59-4d2e-a786-7034d8cf232a",
      "execution_count": null,
      "outputs": []
    },
    {
      "cell_type": "markdown",
      "metadata": {
        "id": "8785d73d"
      },
      "source": [
        "# 2. CNN MODEL"
      ],
      "id": "8785d73d"
    },
    {
      "cell_type": "code",
      "metadata": {
        "id": "e64deb67"
      },
      "source": [
        "#IMPORTING LIBRARIES\n",
        "import tensorflow as tf\n",
        "from tensorflow.keras import Sequential\n",
        "from tensorflow.keras import layers\n",
        "from keras.layers import Conv2D,MaxPooling2D,Dropout\n",
        "from keras.preprocessing import image\n",
        "from tensorflow.keras.preprocessing import image_dataset_from_directory\n",
        "from PIL import Image\n",
        "import numpy as np\n",
        "import os\n"
      ],
      "id": "e64deb67",
      "execution_count": 14,
      "outputs": []
    },
    {
      "cell_type": "code",
      "metadata": {
        "id": "9a661100"
      },
      "source": [
        ""
      ],
      "id": "9a661100",
      "execution_count": null,
      "outputs": []
    },
    {
      "cell_type": "code",
      "metadata": {
        "colab": {
          "base_uri": "https://localhost:8080/"
        },
        "id": "4ea1761d",
        "outputId": "3d1699d5-f201-4cb7-dc23-56a8121c1ecd"
      },
      "source": [
        "#GENERATING OUR TRAINING AND VALIDATION IMAGES FROM THE DATASET\n",
        "#TRAINING DATASET\n",
        "data_train=image_dataset_from_directory(\n",
        "     '/content/drive/MyDrive/train',\n",
        "    labels=\"inferred\",\n",
        "    color_mode=\"rgb\",\n",
        "    batch_size=32,\n",
        "    image_size=(32, 32),\n",
        "    shuffle=True,\n",
        "    seed=0,\n",
        "    validation_split=0.3,\n",
        "    subset='training',\n",
        "    interpolation=\"bilinear\",\n",
        "    crop_to_aspect_ratio=True\n",
        ")\n",
        "#VALIDATION DATASET\n",
        "data_validation=image_dataset_from_directory(\n",
        "     '/content/drive/MyDrive/train',\n",
        "    labels=\"inferred\",\n",
        "    color_mode=\"rgb\",\n",
        "    batch_size=32,\n",
        "    image_size=(32, 32),\n",
        "    shuffle=True,\n",
        "    seed=0,\n",
        "    validation_split=0.3,\n",
        "    subset='validation',\n",
        "    interpolation=\"bilinear\",\n",
        "    crop_to_aspect_ratio=True\n",
        ")"
      ],
      "id": "4ea1761d",
      "execution_count": 22,
      "outputs": [
        {
          "output_type": "stream",
          "name": "stdout",
          "text": [
            "Found 337 files belonging to 4 classes.\n",
            "Using 236 files for training.\n",
            "Found 337 files belonging to 4 classes.\n",
            "Using 101 files for validation.\n"
          ]
        }
      ]
    },
    {
      "cell_type": "code",
      "metadata": {
        "id": "ea30f357"
      },
      "source": [
        "#CREATIONO OF OUR DATASET\n",
        "def CreateModel():\n",
        "    model=Sequential()\n",
        "    model.add(Conv2D(32,(3,3),activation='relu',input_shape=(32,32,3)))\n",
        "    model.add(Conv2D(64,(3,3),activation='relu'))\n",
        "    model.add(MaxPooling2D(pool_size=(2,2)))\n",
        "    model.add(Dropout(0.3))\n",
        "    \n",
        "    model.add(layers.Flatten())\n",
        "    model.add(layers.Dense(100, activation='relu'))\n",
        "    model.add(Dropout(0.5))\n",
        "    model.add(layers.Dense(4, activation='softmax'))\n",
        "    return model"
      ],
      "id": "ea30f357",
      "execution_count": 68,
      "outputs": []
    },
    {
      "cell_type": "code",
      "metadata": {
        "id": "ea3c9fb4"
      },
      "source": [
        "#COMPILE OUR MOPDEL\n",
        "model=CreateModel()\n",
        "model.compile(optimizer=tf.keras.optimizers.Adam(learning_rate=0.3),\n",
        "             loss=tf.keras.losses.SparseCategoricalCrossentropy(),\n",
        "              metrics=tf.keras.metrics.sparse_categorical_crossentropy\n",
        "              \n",
        "            )\n"
      ],
      "id": "ea3c9fb4",
      "execution_count": 69,
      "outputs": []
    },
    {
      "cell_type": "code",
      "metadata": {
        "colab": {
          "base_uri": "https://localhost:8080/"
        },
        "id": "7ea77084",
        "outputId": "43633fa2-9685-4310-d906-0d1e24dbe842"
      },
      "source": [
        "model.summary()"
      ],
      "id": "7ea77084",
      "execution_count": 70,
      "outputs": [
        {
          "output_type": "stream",
          "name": "stdout",
          "text": [
            "Model: \"sequential_5\"\n",
            "_________________________________________________________________\n",
            " Layer (type)                Output Shape              Param #   \n",
            "=================================================================\n",
            " conv2d_12 (Conv2D)          (None, 30, 30, 32)        896       \n",
            "                                                                 \n",
            " conv2d_13 (Conv2D)          (None, 28, 28, 64)        18496     \n",
            "                                                                 \n",
            " max_pooling2d_7 (MaxPooling  (None, 14, 14, 64)       0         \n",
            " 2D)                                                             \n",
            "                                                                 \n",
            " dropout_11 (Dropout)        (None, 14, 14, 64)        0         \n",
            "                                                                 \n",
            " flatten_5 (Flatten)         (None, 12544)             0         \n",
            "                                                                 \n",
            " dense_9 (Dense)             (None, 100)               1254500   \n",
            "                                                                 \n",
            " dropout_12 (Dropout)        (None, 100)               0         \n",
            "                                                                 \n",
            " dense_10 (Dense)            (None, 4)                 404       \n",
            "                                                                 \n",
            "=================================================================\n",
            "Total params: 1,274,296\n",
            "Trainable params: 1,274,296\n",
            "Non-trainable params: 0\n",
            "_________________________________________________________________\n"
          ]
        }
      ]
    },
    {
      "cell_type": "code",
      "metadata": {
        "colab": {
          "base_uri": "https://localhost:8080/"
        },
        "id": "1f624ab1",
        "outputId": "dae525a9-c3a9-44a6-b13e-3e6b303d7d7e"
      },
      "source": [
        "model.fit(data_train,validation_data=data_validation,epochs=10)"
      ],
      "id": "1f624ab1",
      "execution_count": 71,
      "outputs": [
        {
          "output_type": "stream",
          "name": "stdout",
          "text": [
            "Epoch 1/10\n",
            "8/8 [==============================] - 7s 337ms/step - loss: 3932159.0000 - sparse_categorical_crossentropy: 3932159.0000 - val_loss: 20.7503 - val_sparse_categorical_crossentropy: 20.7503\n",
            "Epoch 2/10\n",
            "8/8 [==============================] - 6s 326ms/step - loss: 91.9405 - sparse_categorical_crossentropy: 91.9405 - val_loss: 1.6467 - val_sparse_categorical_crossentropy: 1.6467\n",
            "Epoch 3/10\n",
            "8/8 [==============================] - 6s 319ms/step - loss: 1.4878 - sparse_categorical_crossentropy: 1.4878 - val_loss: 1.3819 - val_sparse_categorical_crossentropy: 1.3819\n",
            "Epoch 4/10\n",
            "8/8 [==============================] - 6s 318ms/step - loss: 1.4429 - sparse_categorical_crossentropy: 1.4429 - val_loss: 1.3773 - val_sparse_categorical_crossentropy: 1.3773\n",
            "Epoch 5/10\n",
            "8/8 [==============================] - 6s 333ms/step - loss: 1.3985 - sparse_categorical_crossentropy: 1.3985 - val_loss: 1.4248 - val_sparse_categorical_crossentropy: 1.4248\n",
            "Epoch 6/10\n",
            "8/8 [==============================] - 6s 324ms/step - loss: 1.3895 - sparse_categorical_crossentropy: 1.3895 - val_loss: 1.4153 - val_sparse_categorical_crossentropy: 1.4153\n",
            "Epoch 7/10\n",
            "8/8 [==============================] - 6s 312ms/step - loss: 1.3877 - sparse_categorical_crossentropy: 1.3877 - val_loss: 2.0657 - val_sparse_categorical_crossentropy: 2.0657\n",
            "Epoch 8/10\n",
            "8/8 [==============================] - 6s 314ms/step - loss: 1.4091 - sparse_categorical_crossentropy: 1.4091 - val_loss: 2.9463 - val_sparse_categorical_crossentropy: 2.9463\n",
            "Epoch 9/10\n",
            "8/8 [==============================] - 6s 324ms/step - loss: 1.4073 - sparse_categorical_crossentropy: 1.4073 - val_loss: 3.3395 - val_sparse_categorical_crossentropy: 3.3395\n",
            "Epoch 10/10\n",
            "8/8 [==============================] - 6s 325ms/step - loss: 1.4031 - sparse_categorical_crossentropy: 1.4031 - val_loss: 3.5340 - val_sparse_categorical_crossentropy: 3.5340\n"
          ]
        },
        {
          "output_type": "execute_result",
          "data": {
            "text/plain": [
              "<keras.callbacks.History at 0x7f6803c191d0>"
            ]
          },
          "metadata": {},
          "execution_count": 71
        }
      ]
    },
    {
      "cell_type": "code",
      "metadata": {
        "colab": {
          "base_uri": "https://localhost:8080/"
        },
        "id": "aaf17d72",
        "outputId": "8813a695-c275-4ec6-9321-cd4595535cee"
      },
      "source": [
        "model.save('/content/drive/MyDrive/model')"
      ],
      "id": "aaf17d72",
      "execution_count": null,
      "outputs": [
        {
          "output_type": "stream",
          "name": "stdout",
          "text": [
            "INFO:tensorflow:Assets written to: /content/drive/MyDrive/model/assets\n"
          ]
        }
      ]
    }
  ]
}