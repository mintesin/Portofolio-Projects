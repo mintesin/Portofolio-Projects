{
  "nbformat": 4,
  "nbformat_minor": 0,
  "metadata": {
    "colab": {
      "name": "ML_spark.ipynb",
      "provenance": [],
      "include_colab_link": true
    }
  },
  "cells": [
    {
      "cell_type": "markdown",
      "metadata": {
        "id": "view-in-github",
        "colab_type": "text"
      },
      "source": [
        "<a href=\"https://colab.research.google.com/github/mintesin/Projects/blob/main/ML_spark.ipynb\" target=\"_parent\"><img src=\"https://colab.research.google.com/assets/colab-badge.svg\" alt=\"Open In Colab\"/></a>"
      ]
    },
    {
      "cell_type": "markdown",
      "metadata": {
        "id": "yciRSJhQKJlN"
      },
      "source": [
        "**Machine learning using Spark**\n",
        "This is a simple machine learning project using pyspark."
      ]
    },
    {
      "cell_type": "code",
      "metadata": {
        "id": "RQ4z8WQLKJlU"
      },
      "source": [
        "#Starting spark session\n",
        "from pyspark.sql import SparkSession\n",
        "spark=SparkSession.builder.appName(\"Dataframe\").getOrCreate()"
      ],
      "execution_count": null,
      "outputs": []
    },
    {
      "cell_type": "code",
      "metadata": {
        "id": "JpBNBc30KJlW"
      },
      "source": [
        "#Reading our csv dataset using spark\n",
        "data_train=spark.read.csv(\"feature_matrix.csv\",header=True,inferSchema=True)\n",
        "data_2=spark.read.csv(\"output_matrix.csv\",header=True,inferSchema=True)"
      ],
      "execution_count": null,
      "outputs": []
    },
    {
      "cell_type": "code",
      "metadata": {
        "id": "Q5tmDHzqKJlW",
        "outputId": "f49bdfbe-8a8b-471d-c542-bb8c3298b313"
      },
      "source": [
        "data_train.show(5)"
      ],
      "execution_count": null,
      "outputs": [
        {
          "name": "stdout",
          "text": [
            "+---+---------+-----------------+-----+------------------+--------------------+--------------------+---+------+------+-------+\n",
            "|_c0|Longitude|         Latitude|Speed|          Distance|          Distance_x|          Distance_y|PCI|PCI_64|PCI_65|PCI_302|\n",
            "+---+---------+-----------------+-----+------------------+--------------------+--------------------+---+------+------+-------+\n",
            "|  0|12.520112|        55.780073|21.51|0.5530644296850808|-0.00459719999999...|-0.00336900000000...| 64|     1|     0|      0|\n",
            "|  1|12.520119|        55.780071|20.93| 0.553103502794036|-0.00459920000000...|-0.00336200000000...| 64|     1|     0|      0|\n",
            "|  2|12.520127|         55.78007|20.36|0.5530163642392476|-0.00460019999999...|-0.00335399999999...| 64|     1|     0|      0|\n",
            "|  3|12.520135|55.78006800000001|19.78| 0.553032643909539|-0.00460219999999...|-0.00334600000000...| 64|     1|     0|      0|\n",
            "|  4|12.520142|        55.780067|19.21|0.5529700878366755|-0.00460319999999...|-0.00333900000000...| 64|     1|     0|      0|\n",
            "+---+---------+-----------------+-----+------------------+--------------------+--------------------+---+------+------+-------+\n",
            "only showing top 5 rows\n",
            "\n"
          ],
          "output_type": "stream"
        }
      ]
    },
    {
      "cell_type": "code",
      "metadata": {
        "id": "QSWvK-tuKJlY",
        "outputId": "8180e0dd-1dde-4e68-f040-7a4e5b8aabca"
      },
      "source": [
        "num_rows=data_train.count()\n",
        "num_cols=len(data_train.dtypes)\n",
        "print(\"There are {} columns and {} rows in our dataset\".format(num_cols,num_rows))"
      ],
      "execution_count": null,
      "outputs": [
        {
          "name": "stdout",
          "text": [
            "There are 11 columns and 57586 rows in our dataset\n"
          ],
          "output_type": "stream"
        }
      ]
    },
    {
      "cell_type": "code",
      "metadata": {
        "id": "lKxYJFfRKJlY",
        "outputId": "f154fce9-866a-4477-dbb9-3ffc0289c21c"
      },
      "source": [
        "data_2.show(5)"
      ],
      "execution_count": null,
      "outputs": [
        {
          "name": "stdout",
          "text": [
            "+---+-----+------+------+------+\n",
            "|_c0| SINR|  RSRP|  RSRQ| Power|\n",
            "+---+-----+------+------+------+\n",
            "|  0|16.18|-75.44|-13.36|-55.42|\n",
            "|  1|16.18|-75.44|-13.36|-55.42|\n",
            "|  2|16.18|-75.44|-13.36|-55.42|\n",
            "|  3|16.18|-75.44|-13.36|-55.42|\n",
            "|  4|16.18|-75.44|-13.36|-55.42|\n",
            "+---+-----+------+------+------+\n",
            "only showing top 5 rows\n",
            "\n"
          ],
          "output_type": "stream"
        }
      ]
    },
    {
      "cell_type": "code",
      "metadata": {
        "id": "OCjtW13TKJlZ",
        "outputId": "8d5bee04-de1a-444c-c360-8faafb9a401c"
      },
      "source": [
        "target=data_2.select(\"_c0\",\"Power\")\n",
        "target.show(10)"
      ],
      "execution_count": null,
      "outputs": [
        {
          "name": "stdout",
          "text": [
            "+---+------+\n",
            "|_c0| Power|\n",
            "+---+------+\n",
            "|  0|-55.42|\n",
            "|  1|-55.42|\n",
            "|  2|-55.42|\n",
            "|  3|-55.42|\n",
            "|  4|-55.42|\n",
            "|  5|-55.42|\n",
            "|  6|-55.42|\n",
            "|  7|-55.42|\n",
            "|  8|-49.67|\n",
            "|  9|-49.67|\n",
            "+---+------+\n",
            "only showing top 10 rows\n",
            "\n"
          ],
          "output_type": "stream"
        }
      ]
    },
    {
      "cell_type": "code",
      "metadata": {
        "id": "j83y-NgdKJla",
        "outputId": "a93fab57-1c2a-4a27-d5f3-75925ac76305"
      },
      "source": [
        "data_train.printSchema()"
      ],
      "execution_count": null,
      "outputs": [
        {
          "name": "stdout",
          "text": [
            "root\n",
            " |-- _c0: integer (nullable = true)\n",
            " |-- Longitude: double (nullable = true)\n",
            " |-- Latitude: double (nullable = true)\n",
            " |-- Speed: double (nullable = true)\n",
            " |-- Distance: double (nullable = true)\n",
            " |-- Distance_x: double (nullable = true)\n",
            " |-- Distance_y: double (nullable = true)\n",
            " |-- PCI: integer (nullable = true)\n",
            " |-- PCI_64: integer (nullable = true)\n",
            " |-- PCI_65: integer (nullable = true)\n",
            " |-- PCI_302: integer (nullable = true)\n",
            "\n"
          ],
          "output_type": "stream"
        }
      ]
    },
    {
      "cell_type": "code",
      "metadata": {
        "id": "CjrVRZ9jKJla",
        "outputId": "e7360f2f-b835-4765-ed25-5df8f2a8863a"
      },
      "source": [
        "target.printSchema()"
      ],
      "execution_count": null,
      "outputs": [
        {
          "name": "stdout",
          "text": [
            "root\n",
            " |-- Power: double (nullable = true)\n",
            "\n"
          ],
          "output_type": "stream"
        }
      ]
    },
    {
      "cell_type": "code",
      "metadata": {
        "id": "I_GVtzuwKJlb"
      },
      "source": [
        "total_data=data_train.join(target,on=\"_c0\")"
      ],
      "execution_count": null,
      "outputs": []
    },
    {
      "cell_type": "code",
      "metadata": {
        "id": "cSrGgYPjKJlc",
        "outputId": "8d2ed266-7ba6-49d5-9dbb-8da579790544"
      },
      "source": [
        "total_data.show(5)"
      ],
      "execution_count": null,
      "outputs": [
        {
          "name": "stdout",
          "text": [
            "+---+---------+-----------------+-----+------------------+--------------------+--------------------+---+------+------+-------+------+\n",
            "|_c0|Longitude|         Latitude|Speed|          Distance|          Distance_x|          Distance_y|PCI|PCI_64|PCI_65|PCI_302| Power|\n",
            "+---+---------+-----------------+-----+------------------+--------------------+--------------------+---+------+------+-------+------+\n",
            "|  0|12.520112|        55.780073|21.51|0.5530644296850808|-0.00459719999999...|-0.00336900000000...| 64|     1|     0|      0|-55.42|\n",
            "|  1|12.520119|        55.780071|20.93| 0.553103502794036|-0.00459920000000...|-0.00336200000000...| 64|     1|     0|      0|-55.42|\n",
            "|  2|12.520127|         55.78007|20.36|0.5530163642392476|-0.00460019999999...|-0.00335399999999...| 64|     1|     0|      0|-55.42|\n",
            "|  3|12.520135|55.78006800000001|19.78| 0.553032643909539|-0.00460219999999...|-0.00334600000000...| 64|     1|     0|      0|-55.42|\n",
            "|  4|12.520142|        55.780067|19.21|0.5529700878366755|-0.00460319999999...|-0.00333900000000...| 64|     1|     0|      0|-55.42|\n",
            "+---+---------+-----------------+-----+------------------+--------------------+--------------------+---+------+------+-------+------+\n",
            "only showing top 5 rows\n",
            "\n"
          ],
          "output_type": "stream"
        }
      ]
    },
    {
      "cell_type": "code",
      "metadata": {
        "id": "zXv2YGchKJld",
        "outputId": "16292cd5-50e0-4741-a134-ce2a934340a5"
      },
      "source": [
        "total_data.columns"
      ],
      "execution_count": null,
      "outputs": [
        {
          "data": {
            "text/plain": [
              "['_c0',\n",
              " 'Longitude',\n",
              " 'Latitude',\n",
              " 'Speed',\n",
              " 'Distance',\n",
              " 'Distance_x',\n",
              " 'Distance_y',\n",
              " 'PCI',\n",
              " 'PCI_64',\n",
              " 'PCI_65',\n",
              " 'PCI_302',\n",
              " 'Power']"
            ]
          },
          "metadata": {},
          "output_type": "display_data"
        }
      ]
    },
    {
      "cell_type": "code",
      "metadata": {
        "id": "ADNpF-ijKJle"
      },
      "source": [
        "#Assembling our features together\n",
        "from pyspark.ml.feature import VectorAssembler\n",
        "col1=['Longitude','Latitude','Speed','Distance','Distance_x','Distance_y','PCI','PCI_64','PCI_65','PCI_302']\n",
        "col2=['Power']\n",
        "feature_assembler=VectorAssembler(inputCols=col1,outputCol='features')"
      ],
      "execution_count": null,
      "outputs": []
    },
    {
      "cell_type": "code",
      "metadata": {
        "id": "x7iRJ19CKJle"
      },
      "source": [
        "result=feature_assembler.transform(total_data)"
      ],
      "execution_count": null,
      "outputs": []
    },
    {
      "cell_type": "code",
      "metadata": {
        "id": "_CLgn2oJKJlf",
        "outputId": "d0a7171d-7a96-4aef-cb55-5cd74b7e81a5"
      },
      "source": [
        "result.show(5)"
      ],
      "execution_count": null,
      "outputs": [
        {
          "name": "stdout",
          "text": [
            "+---+---------+-----------------+-----+------------------+--------------------+--------------------+---+------+------+-------+------+--------------------+\n",
            "|_c0|Longitude|         Latitude|Speed|          Distance|          Distance_x|          Distance_y|PCI|PCI_64|PCI_65|PCI_302| Power|            features|\n",
            "+---+---------+-----------------+-----+------------------+--------------------+--------------------+---+------+------+-------+------+--------------------+\n",
            "|  0|12.520112|        55.780073|21.51|0.5530644296850808|-0.00459719999999...|-0.00336900000000...| 64|     1|     0|      0|-55.42|[12.520112,55.780...|\n",
            "|  1|12.520119|        55.780071|20.93| 0.553103502794036|-0.00459920000000...|-0.00336200000000...| 64|     1|     0|      0|-55.42|[12.520119,55.780...|\n",
            "|  2|12.520127|         55.78007|20.36|0.5530163642392476|-0.00460019999999...|-0.00335399999999...| 64|     1|     0|      0|-55.42|[12.520127,55.780...|\n",
            "|  3|12.520135|55.78006800000001|19.78| 0.553032643909539|-0.00460219999999...|-0.00334600000000...| 64|     1|     0|      0|-55.42|[12.520135,55.780...|\n",
            "|  4|12.520142|        55.780067|19.21|0.5529700878366755|-0.00460319999999...|-0.00333900000000...| 64|     1|     0|      0|-55.42|[12.520142,55.780...|\n",
            "+---+---------+-----------------+-----+------------------+--------------------+--------------------+---+------+------+-------+------+--------------------+\n",
            "only showing top 5 rows\n",
            "\n"
          ],
          "output_type": "stream"
        }
      ]
    },
    {
      "cell_type": "code",
      "metadata": {
        "id": "UKNcQSUjKJlg",
        "outputId": "eb4f50a1-ef22-4f9f-cbd8-b9b9b03e6d62"
      },
      "source": [
        "\n",
        "result.select('features').first()"
      ],
      "execution_count": null,
      "outputs": [
        {
          "data": {
            "text/plain": [
              "Row(features=DenseVector([12.5201, 55.7801, 21.51, 0.5531, -0.0046, -0.0034, 64.0, 1.0, 0.0, 0.0]))"
            ]
          },
          "metadata": {},
          "output_type": "display_data"
        }
      ]
    },
    {
      "cell_type": "code",
      "metadata": {
        "id": "fHVErbpDKJlg",
        "outputId": "1eb3eddf-075b-45f1-fc66-245aa1e48d08"
      },
      "source": [
        "#selecting Out our assembled features for training\n",
        "final_data=result.select('features','Power')\n",
        "final_data.show(10)"
      ],
      "execution_count": null,
      "outputs": [
        {
          "name": "stdout",
          "text": [
            "+--------------------+------+\n",
            "|            features| Power|\n",
            "+--------------------+------+\n",
            "|[12.520112,55.780...|-55.42|\n",
            "|[12.520119,55.780...|-55.42|\n",
            "|[12.520127,55.780...|-55.42|\n",
            "|[12.520135,55.780...|-55.42|\n",
            "|[12.520142,55.780...|-55.42|\n",
            "|[12.52015,55.7800...|-55.42|\n",
            "|[12.520158,55.780...|-55.42|\n",
            "|[12.520165,55.780...|-55.42|\n",
            "|[12.520173,55.780...|-49.67|\n",
            "|[12.520181,55.780...|-49.67|\n",
            "+--------------------+------+\n",
            "only showing top 10 rows\n",
            "\n"
          ],
          "output_type": "stream"
        }
      ]
    },
    {
      "cell_type": "code",
      "metadata": {
        "id": "_4CxZ1JXKJlh"
      },
      "source": [
        "#importing our linearregression model and training \n",
        "from pyspark.ml.regression import LinearRegression\n",
        "train_data,test_data=final_data.randomSplit([0.75,0.25])\n",
        "regressor=LinearRegression(featuresCol='features',labelCol='Power')\n",
        "regressor=regressor.fit(train_data)"
      ],
      "execution_count": null,
      "outputs": []
    },
    {
      "cell_type": "code",
      "metadata": {
        "id": "3bLjshvIKJlh"
      },
      "source": [
        "#let us evaluate our model\n",
        "pred=regressor.evaluate(test_data)"
      ],
      "execution_count": null,
      "outputs": []
    },
    {
      "cell_type": "code",
      "metadata": {
        "id": "57yJ0jQiKJlh",
        "outputId": "48c5795b-dd8c-4935-bdd3-be4f6e72a744"
      },
      "source": [
        "#doing predictions\n",
        "pred.predictions.show(10)"
      ],
      "execution_count": null,
      "outputs": [
        {
          "name": "stdout",
          "text": [
            "+--------------------+-------+-------------------+\n",
            "|            features|  Power|         prediction|\n",
            "+--------------------+-------+-------------------+\n",
            "|[12.510841,55.781...|-110.11|-103.07553040655876|\n",
            "|[12.51087,55.7817...|-110.11|-102.84591504108721|\n",
            "|[12.510946,55.781...| -97.69| -102.2659175474837|\n",
            "|[12.510952,55.781...| -97.69|-102.21991730967056|\n",
            "|[12.510968,55.781...| -95.21|-102.10558092880092|\n",
            "|[12.511007,55.782...| -95.23|-101.82439606888329|\n",
            "|[12.511043,55.782...| -95.72| -101.5687620247736|\n",
            "|[12.511049,55.782...| -95.72|-101.53080346232673|\n",
            "|[12.511054,55.782...| -95.72|-101.49301341247156|\n",
            "|[12.511068,55.782...| -95.72|-101.39322558782442|\n",
            "+--------------------+-------+-------------------+\n",
            "only showing top 10 rows\n",
            "\n"
          ],
          "output_type": "stream"
        }
      ]
    },
    {
      "cell_type": "code",
      "metadata": {
        "id": "YdKbAyBtKJli"
      },
      "source": [
        "#Calculating our errors\n",
        "mean_absolute_error=pred.meanAbsoluteError\n",
        "mean_squared_error=pred.meanSquaredError"
      ],
      "execution_count": null,
      "outputs": []
    },
    {
      "cell_type": "code",
      "metadata": {
        "id": "-xFeRQ5-KJli",
        "outputId": "e79ed074-1a15-4488-88c8-af8a57b773ba"
      },
      "source": [
        "print(\"The mean absolute error is {}\".format(mean_absolute_error))\n",
        "print(\"The mean squared error is {}\".format(mean_squared_error))"
      ],
      "execution_count": null,
      "outputs": [
        {
          "name": "stdout",
          "text": [
            "The mean absolute error is 6.847487566058613\n",
            "The mean squared error is 77.77952090821448\n"
          ],
          "output_type": "stream"
        }
      ]
    },
    {
      "cell_type": "code",
      "metadata": {
        "id": "V2G-_OEjKJli"
      },
      "source": [
        ""
      ],
      "execution_count": null,
      "outputs": []
    }
  ]
}