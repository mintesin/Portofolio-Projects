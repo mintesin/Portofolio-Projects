{
  "nbformat": 4,
  "nbformat_minor": 0,
  "metadata": {
    "colab": {
      "name": "ds2.ipynb",
      "provenance": [],
      "authorship_tag": "ABX9TyPIxmPfxlCaRhUWJ4uG1TW6",
      "include_colab_link": true
    },
    "kernelspec": {
      "name": "python3",
      "display_name": "Python 3"
    },
    "language_info": {
      "name": "python"
    }
  },
  "cells": [
    {
      "cell_type": "markdown",
      "metadata": {
        "id": "view-in-github",
        "colab_type": "text"
      },
      "source": [
        "<a href=\"https://colab.research.google.com/github/mintesin/Portofolio-Projects/blob/main/datastructures%20in%20python.ipynb\" target=\"_parent\"><img src=\"https://colab.research.google.com/assets/colab-badge.svg\" alt=\"Open In Colab\"/></a>"
      ]
    },
    {
      "cell_type": "code",
      "execution_count": null,
      "metadata": {
        "id": "kVe6JwHnR2M7"
      },
      "outputs": [],
      "source": [
        "def binary_search(array,item):\n",
        "  array=sorted(array,reverse=False)\n",
        "  start=0\n",
        "  end=len(array)-1\n",
        "  found=False\n",
        "\n",
        "  while(start<=end and not found):\n",
        "   \n",
        "    mid=(start+end)//2\n",
        "    \n",
        "    if array[mid]==item:\n",
        "      found=True\n",
        "    else:\n",
        "      if array[mid]<item:\n",
        "        start=mid+1\n",
        "      else:\n",
        "        end=mid-1\n",
        "  return found"
      ]
    },
    {
      "cell_type": "code",
      "source": [
        "arr_3=[14,46,43,27,57,41,45,21,70]\n",
        "print(binary_search(arr_3,45))"
      ],
      "metadata": {
        "colab": {
          "base_uri": "https://localhost:8080/"
        },
        "id": "V0Gg5U2fcita",
        "outputId": "86453fd7-d346-454f-f78b-ed901df96fb7"
      },
      "execution_count": null,
      "outputs": [
        {
          "output_type": "stream",
          "name": "stdout",
          "text": [
            "True\n"
          ]
        }
      ]
    },
    {
      "cell_type": "code",
      "source": [
        "def bubblesort(array):\n",
        "  for passnum in range(len(array)-1,0,-1):\n",
        "    for j in range(passnum):\n",
        "      if array[j]>array[j+1]:\n",
        "        array[j],array[j+1]=array[j+1],array[j]\n",
        "  return array"
      ],
      "metadata": {
        "id": "rbrm4aLIcxSc"
      },
      "execution_count": null,
      "outputs": []
    },
    {
      "cell_type": "code",
      "source": [
        "arr_3=[14,46,43,27,57,41,45,21,70]\n",
        "print(bubblesort(arr_3))"
      ],
      "metadata": {
        "colab": {
          "base_uri": "https://localhost:8080/"
        },
        "id": "M1kzu1zshk1r",
        "outputId": "5ec1410f-73e9-47ca-f126-33d102811817"
      },
      "execution_count": null,
      "outputs": [
        {
          "output_type": "stream",
          "name": "stdout",
          "text": [
            "[14, 21, 27, 41, 43, 45, 46, 57, 70]\n"
          ]
        }
      ]
    },
    {
      "cell_type": "code",
      "source": [
        "def selection_sort(array):\n",
        "  for fillslot in range(len(array)-1,0,-1):\n",
        "    maxpos=0\n",
        "    for location in range(1,fillslot+1):\n",
        "      if array[maxpos]<array[location]:\n",
        "        maxpos=location\n",
        "    array[maxpos],array[fillslot]=array[fillslot],array[maxpos]\n",
        "  return array"
      ],
      "metadata": {
        "id": "oY-zvL9RhsX7"
      },
      "execution_count": null,
      "outputs": []
    },
    {
      "cell_type": "code",
      "source": [
        "arr=[14,46,43,27,57,41,45,21,70]\n",
        "print(selection_sort(arr))"
      ],
      "metadata": {
        "colab": {
          "base_uri": "https://localhost:8080/"
        },
        "id": "lVsw7oMlieAN",
        "outputId": "22b7f72e-57db-4f13-c97e-bde161637e8e"
      },
      "execution_count": null,
      "outputs": [
        {
          "output_type": "stream",
          "name": "stdout",
          "text": [
            "[14, 21, 27, 41, 43, 45, 46, 57, 70]\n"
          ]
        }
      ]
    },
    {
      "cell_type": "code",
      "source": [
        "def insertionsort(array):\n",
        "  for j in range(1,len(array)):\n",
        "    current_pos=j\n",
        "    current_val=array[j]\n",
        "\n",
        "    while current_pos>0 and array[current_pos-1]>current_val:\n",
        "      array[current_pos]=array[current_pos-1]\n",
        "      current_pos -=1\n",
        "      array[current_pos]=current_val\n",
        "  return array"
      ],
      "metadata": {
        "id": "kmnrOcYDikDV"
      },
      "execution_count": null,
      "outputs": []
    },
    {
      "cell_type": "code",
      "source": [
        "arr_1=[14,46,43,27,57,41,45,21,70]\n",
        "print(insertionsort(arr_1))"
      ],
      "metadata": {
        "colab": {
          "base_uri": "https://localhost:8080/"
        },
        "id": "gFBbaQxJjptj",
        "outputId": "65ddb406-86bf-49b6-fab0-c1c63d3984f0"
      },
      "execution_count": null,
      "outputs": [
        {
          "output_type": "stream",
          "name": "stdout",
          "text": [
            "[14, 21, 27, 41, 43, 45, 46, 57, 70]\n"
          ]
        }
      ]
    },
    {
      "cell_type": "code",
      "source": [
        "def mergi_sort(array):\n",
        "  if len(array)==1:\n",
        "    return array\n",
        "  if len(array)>1:\n",
        "    mid=len(array)//2\n",
        "\n",
        "    L=array[:mid]\n",
        "    R=array[mid:]\n",
        "\n",
        "    merge_sort(L)\n",
        "    merge_sort(R)\n",
        "\n",
        "    i=j=k=0\n",
        "\n",
        "    while i<len(L) and j<len(R):\n",
        "      if L[i]<R[j]:\n",
        "        array[k]=L[i]\n",
        "        i+=1\n",
        "      else:\n",
        "        array[k]=R[j]\n",
        "        j+=1\n",
        "      k+=1\n",
        "    while i< len(L):\n",
        "      array[k]=L[i]\n",
        "      i+=1\n",
        "      k=+1\n",
        "    while j<len(R):\n",
        "      array[k]=R[j]\n",
        "      j+=1\n",
        "      k+=1\n",
        "    return array\n"
      ],
      "metadata": {
        "id": "q-_mvqvUjwJz"
      },
      "execution_count": null,
      "outputs": []
    },
    {
      "cell_type": "code",
      "source": [
        "arr2=[14,46,43,27,57,41,45,21,70]\n",
        "print(mergi_sort(arr2))"
      ],
      "metadata": {
        "colab": {
          "base_uri": "https://localhost:8080/"
        },
        "id": "JH8rE0NlpOVN",
        "outputId": "56a027f9-4fe0-4bc4-9c21-c28adb85ab9e"
      },
      "execution_count": null,
      "outputs": [
        {
          "output_type": "stream",
          "name": "stdout",
          "text": [
            "[14, 21, 27, 41, 43, 45, 46, 57, 70]\n"
          ]
        }
      ]
    },
    {
      "cell_type": "code",
      "source": [
        "def partition(array,low,high):\n",
        "  pindex=low\n",
        "  pivot=array[high]\n",
        "  for j in range(low,high):\n",
        "    if array[j]<=pivot:\n",
        "      array[pindex],array[j]=array[j],array[pindex]\n",
        "      pindex=pindex+1\n",
        "  array[pindex],array[high]=array[high],array[pindex]\n",
        "  return pindex"
      ],
      "metadata": {
        "id": "HGFJwBMOpYKp"
      },
      "execution_count": null,
      "outputs": []
    },
    {
      "cell_type": "code",
      "source": [
        "def quick_sort(array,low,high):\n",
        "  if low<high:\n",
        "    p=partition(array,low,high)\n",
        "   \n",
        "    quick_sort(array,low,p-1)\n",
        "    quick_sort(array,p+1,high)\n",
        "  return array\n"
      ],
      "metadata": {
        "id": "oxsdy6Iqtmoi"
      },
      "execution_count": null,
      "outputs": []
    },
    {
      "cell_type": "code",
      "source": [
        "nlist = [14,46,43,27,57,41,45,21,70]\n",
        "n=len(nlist)-1\n",
        "print(quick_sort(nlist,0,n))"
      ],
      "metadata": {
        "colab": {
          "base_uri": "https://localhost:8080/"
        },
        "id": "ir9EMXEZuDKI",
        "outputId": "fd231177-ef76-4f4b-96c8-eaaea237a7f3"
      },
      "execution_count": null,
      "outputs": [
        {
          "output_type": "stream",
          "name": "stdout",
          "text": [
            "[14, 21, 27, 41, 43, 45, 46, 57, 70]\n"
          ]
        }
      ]
    },
    {
      "cell_type": "code",
      "source": [
        "def heapify(array,n,i):\n",
        "  largest=i\n",
        "  \n",
        "  l=2*i+1\n",
        "  r=2*i+2\n",
        "\n",
        "  if l<n and array[largest]<array[l]:\n",
        "    largest=l\n",
        "  if r<n and array[largest]<array[r]:\n",
        "    largest=r\n",
        "  \n",
        "  if largest!=i:\n",
        "    array[largest],array[i]=array[i],array[largest]\n",
        "    heapify(array,n,largest)"
      ],
      "metadata": {
        "id": "CwowWSsD2AmV"
      },
      "execution_count": null,
      "outputs": []
    },
    {
      "cell_type": "code",
      "source": [
        "def heap_sort(arr):\n",
        "  n=len(arr)\n",
        "\n",
        "  for j in range(n//2-1,-1,-1):\n",
        "    heapify(arr,n,j)\n",
        "  for i in range(n-1,0,-1):\n",
        "    arr[i],arr[0]=arr[0],arr[i]\n",
        "    heapify(arr,i,0)\n",
        "  return arr"
      ],
      "metadata": {
        "id": "Zj23d9K-3Znd"
      },
      "execution_count": null,
      "outputs": []
    },
    {
      "cell_type": "code",
      "source": [
        "nlis=[14,46,43,27,57,41,45,21,70]\n",
        "print(heap_sort(nlis))"
      ],
      "metadata": {
        "colab": {
          "base_uri": "https://localhost:8080/"
        },
        "id": "-BWuTo4gxxmC",
        "outputId": "753f2f21-7798-4083-adba-321656a19cb1"
      },
      "execution_count": null,
      "outputs": [
        {
          "output_type": "stream",
          "name": "stdout",
          "text": [
            "[14, 21, 27, 41, 43, 45, 46, 57, 70]\n"
          ]
        }
      ]
    },
    {
      "cell_type": "code",
      "source": [
        ""
      ],
      "metadata": {
        "id": "HnbrenqLx6Wn"
      },
      "execution_count": null,
      "outputs": []
    }
  ]
}